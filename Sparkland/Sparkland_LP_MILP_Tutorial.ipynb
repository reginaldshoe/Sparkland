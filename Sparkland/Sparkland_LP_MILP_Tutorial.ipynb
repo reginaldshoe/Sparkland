{
 "cells": [
  {
   "cell_type": "markdown",
   "metadata": {},
   "source": [
    "# Sparkland Optimisation Project\n",
    "\n",
    "Sparkland is a fictional energy utilities provider. Sparkland has a number of issues they seek to address through progressively optimising the grid, using LP, MILP and Dynamic techniques. They seek the help of an optimisation expert to perform these optimisations.\n",
    "\n",
    "Although Sparkland is a fictional company, they certainly behave like a real client; setting optimisation parameters, assessing your answer, and then changing the goal posts because they have new circumstances, or they simply forgot to provide key information! Certainly great practice for consultants in waiting. \n",
    "\n",
    "This actually happens to be a great reaal-world example: LP and MILP is a vital cog that underpins the electricity market on the Australian eastern seaboard so this kind of project has real world application (although real-life data would be a lot messier)\n",
    "\n",
    "Lets open our first email!\n",
    "\n",
    "***\n",
    "\n",
    "`From: Sparkland Admin\n",
    " Date: 23/03/2021\n",
    " RE: Generator Optimisation`\n",
    "\n",
    "_Sparkland supplies electricity to a small region from four generators running on natural gas. Over the years we have built a network of transmission lines, running from our generators to substation nodes around the region._\n",
    "\n",
    "_We have provided you with the following data files:_\n",
    "*  _nodes.csv gives the location of each node (units are kilometres) and the current demand (MW) at that node_\n",
    "*  _grid.csv gives all the connections between the nodes that make up our grid_\n",
    "\n",
    "_Some nodes are classified as generator nodes. Due to various factors, these generators have different capacities and costs for producing electricity, as shown in the following table:_\n",
    "\n",
    "\n",
    "| Node | Capacity (MW) | Cost ($/MW)|\n",
    "| :-: | :-: | :-: |\n",
    "| 20 | 406 | 65 | \n",
    "| 45 | 838 | 70 |\n",
    "| 35 | 818 | 74 | \n",
    "| 37 | 625 | 82 |\n",
    "\n",
    "_Please provide us with the optimal cost for meeting the current demand over a whole day from our generators._\n",
    "\n",
    "_Regards,_\n",
    "\n",
    "_Sparkland_\n",
    "\n",
    "***\n",
    "\n",
    "This is a pretty standard request and has no network related constraints. This could be easily solved with Excel or a pen and paper, however this is a good opportunity to set up a linear programming model and see how it works. So lets set it up in our Gurobi package and analyse it.\n",
    "\n",
    "Firstly we will import our favourite packages (this assumes that you have gone to the Gurobi website, downloaded the latest version, and obtained the appropriate licence __[https://www.gurobi.com/academia/academic-program-and-licenses/](https://www.gurobi.com/academia/academic-program-and-licenses/)__), and we'll read in the data using pandas. We'll use math later when we need to calculate some distances."
   ]
  },
  {
   "cell_type": "code",
   "execution_count": 1,
   "metadata": {},
   "outputs": [
    {
     "data": {
      "text/html": [
       "<div>\n",
       "<style scoped>\n",
       "    .dataframe tbody tr th:only-of-type {\n",
       "        vertical-align: middle;\n",
       "    }\n",
       "\n",
       "    .dataframe tbody tr th {\n",
       "        vertical-align: top;\n",
       "    }\n",
       "\n",
       "    .dataframe thead th {\n",
       "        text-align: right;\n",
       "    }\n",
       "</style>\n",
       "<table border=\"1\" class=\"dataframe\">\n",
       "  <thead>\n",
       "    <tr style=\"text-align: right;\">\n",
       "      <th></th>\n",
       "      <th>Node</th>\n",
       "      <th>X</th>\n",
       "      <th>Y</th>\n",
       "      <th>Demand</th>\n",
       "    </tr>\n",
       "  </thead>\n",
       "  <tbody>\n",
       "    <tr>\n",
       "      <th>0</th>\n",
       "      <td>0</td>\n",
       "      <td>90</td>\n",
       "      <td>5</td>\n",
       "      <td>55</td>\n",
       "    </tr>\n",
       "    <tr>\n",
       "      <th>1</th>\n",
       "      <td>1</td>\n",
       "      <td>148</td>\n",
       "      <td>132</td>\n",
       "      <td>29</td>\n",
       "    </tr>\n",
       "    <tr>\n",
       "      <th>2</th>\n",
       "      <td>2</td>\n",
       "      <td>173</td>\n",
       "      <td>33</td>\n",
       "      <td>53</td>\n",
       "    </tr>\n",
       "    <tr>\n",
       "      <th>3</th>\n",
       "      <td>3</td>\n",
       "      <td>59</td>\n",
       "      <td>130</td>\n",
       "      <td>57</td>\n",
       "    </tr>\n",
       "    <tr>\n",
       "      <th>4</th>\n",
       "      <td>4</td>\n",
       "      <td>52</td>\n",
       "      <td>9</td>\n",
       "      <td>88</td>\n",
       "    </tr>\n",
       "  </tbody>\n",
       "</table>\n",
       "</div>"
      ],
      "text/plain": [
       "   Node    X    Y  Demand\n",
       "0     0   90    5      55\n",
       "1     1  148  132      29\n",
       "2     2  173   33      53\n",
       "3     3   59  130      57\n",
       "4     4   52    9      88"
      ]
     },
     "execution_count": 1,
     "metadata": {},
     "output_type": "execute_result"
    }
   ],
   "source": [
    "from gurobipy import *\n",
    "import math\n",
    "import pandas as pd\n",
    "\n",
    "nodes = pd.read_csv('nodes.csv')\n",
    "arcs = pd.read_csv('grid.csv')\n",
    "\n",
    "nodes.head()"
   ]
  },
  {
   "cell_type": "code",
   "execution_count": 2,
   "metadata": {},
   "outputs": [
    {
     "data": {
      "text/html": [
       "<div>\n",
       "<style scoped>\n",
       "    .dataframe tbody tr th:only-of-type {\n",
       "        vertical-align: middle;\n",
       "    }\n",
       "\n",
       "    .dataframe tbody tr th {\n",
       "        vertical-align: top;\n",
       "    }\n",
       "\n",
       "    .dataframe thead th {\n",
       "        text-align: right;\n",
       "    }\n",
       "</style>\n",
       "<table border=\"1\" class=\"dataframe\">\n",
       "  <thead>\n",
       "    <tr style=\"text-align: right;\">\n",
       "      <th></th>\n",
       "      <th>Arc</th>\n",
       "      <th>Node1</th>\n",
       "      <th>Node2</th>\n",
       "    </tr>\n",
       "  </thead>\n",
       "  <tbody>\n",
       "    <tr>\n",
       "      <th>0</th>\n",
       "      <td>0</td>\n",
       "      <td>8</td>\n",
       "      <td>27</td>\n",
       "    </tr>\n",
       "    <tr>\n",
       "      <th>1</th>\n",
       "      <td>1</td>\n",
       "      <td>27</td>\n",
       "      <td>8</td>\n",
       "    </tr>\n",
       "    <tr>\n",
       "      <th>2</th>\n",
       "      <td>2</td>\n",
       "      <td>8</td>\n",
       "      <td>10</td>\n",
       "    </tr>\n",
       "    <tr>\n",
       "      <th>3</th>\n",
       "      <td>3</td>\n",
       "      <td>10</td>\n",
       "      <td>8</td>\n",
       "    </tr>\n",
       "    <tr>\n",
       "      <th>4</th>\n",
       "      <td>4</td>\n",
       "      <td>24</td>\n",
       "      <td>25</td>\n",
       "    </tr>\n",
       "  </tbody>\n",
       "</table>\n",
       "</div>"
      ],
      "text/plain": [
       "   Arc  Node1  Node2\n",
       "0    0      8     27\n",
       "1    1     27      8\n",
       "2    2      8     10\n",
       "3    3     10      8\n",
       "4    4     24     25"
      ]
     },
     "execution_count": 2,
     "metadata": {},
     "output_type": "execute_result"
    }
   ],
   "source": [
    "arcs.head()"
   ]
  },
  {
   "cell_type": "markdown",
   "metadata": {},
   "source": [
    "So the nodes.csv lists the nodes, the x/y map coordinates of the node, and the total demand of the node. The arc.csv lists the arcs connecting the nodes, giving the start `['Node1']` and end node `['Node2']`. Note that each arc is listed twice, as each node is listed as a start _and_ end node.\n",
    "\n",
    "Now we should first check what the demand profile looks like at the generator node, as this may colour our analysis.\n"
   ]
  },
  {
   "cell_type": "code",
   "execution_count": 3,
   "metadata": {},
   "outputs": [
    {
     "data": {
      "text/plain": [
       "20    0\n",
       "45    0\n",
       "35    0\n",
       "37    0\n",
       "Name: Demand, dtype: int64"
      ]
     },
     "execution_count": 3,
     "metadata": {},
     "output_type": "execute_result"
    }
   ],
   "source": [
    "G = [20, 45, 35, 37]\n",
    "nodes['Demand'][G]"
   ]
  },
  {
   "cell_type": "markdown",
   "metadata": {},
   "source": [
    "No demand at the generator node. It makes intuitive sense, but better to make sure. \n",
    "\n",
    "Okay so now we want to start writing our problem as an LP problem. It is useful to think of problems containing the following elements:\n",
    "*  Sets: In this problem there are a few sets. The set of all arcs, the set of all nodes, the  set of generator nodes (which is a subset of all nodes). Sets and subsets allow some flexibility in how things are structured. \n",
    "*  Data: This is the data relevant to the problem. This data can be a global constant, or be specific to different elements of a set. In this case, we have demand data for each node, capacity for generator nodes, etc\n",
    "*  Decision Variable: this is the variable that we are trying to target. This can sometimes be a bit tricky. In this case, we will be looking at minimising costs, but the decision variable will actually be energy transmitted. We will be looking to minimise the amount of energy produced at expensive generators, thereby reducing the overall cost. \n",
    "*  Objective: This is the mathematical expression that minimises/maximises what we are looking for. \n",
    "*  Constraints: mathematical constraints on the optimisations. More on this later\n",
    "\n",
    "So to start with, we will define the set of nodes and arcs as sets so we can play with them.  "
   ]
  },
  {
   "cell_type": "code",
   "execution_count": 4,
   "metadata": {},
   "outputs": [],
   "source": [
    "#sets\n",
    "A = arcs['Arc']\n",
    "N = nodes['Node']"
   ]
  },
  {
   "cell_type": "markdown",
   "metadata": {},
   "source": [
    "Next, we can load in our generator data"
   ]
  },
  {
   "cell_type": "code",
   "execution_count": 5,
   "metadata": {},
   "outputs": [],
   "source": [
    "# Email 1 data \n",
    "costs= { 20: 65, 45: 70, 35: 74, 37: 82}\n",
    "supply = { 20: 406, 45: 838, 35: 818, 37: 654}"
   ]
  },
  {
   "cell_type": "markdown",
   "metadata": {},
   "source": [
    "The email request is asking us to meet total demand at the cheapest possible price. There is no indication that we need to use any particular transmission arcs, so this is a simple total demand problem."
   ]
  },
  {
   "cell_type": "code",
   "execution_count": 6,
   "metadata": {},
   "outputs": [
    {
     "data": {
      "text/plain": [
       "2029"
      ]
     },
     "execution_count": 6,
     "metadata": {},
     "output_type": "execute_result"
    }
   ],
   "source": [
    "total_demand = nodes['Demand'].sum()\n",
    "total_demand"
   ]
  },
  {
   "cell_type": "markdown",
   "metadata": {},
   "source": [
    "Okay, lets start setting up our model"
   ]
  },
  {
   "cell_type": "code",
   "execution_count": 7,
   "metadata": {},
   "outputs": [
    {
     "name": "stdout",
     "output_type": "stream",
     "text": [
      "Academic license - for non-commercial use only - expires 2022-03-31\n",
      "Using license file C:\\Users\\kateb\\gurobi.lic\n"
     ]
    }
   ],
   "source": [
    "m = Model('Sparkland')"
   ]
  },
  {
   "cell_type": "markdown",
   "metadata": {},
   "source": [
    "Now we need to select a decision variable. We are trying to minimise the cost of energy so 'energy provided' seems like a pretty good decision variable to me. We will be trying to reduce costs node-wise. \n",
    "\n",
    "_Gurobi has different ways of declaring variables, so check to see how you like to do it._"
   ]
  },
  {
   "cell_type": "code",
   "execution_count": 8,
   "metadata": {},
   "outputs": [
    {
     "data": {
      "text/plain": [
       "{0: <gurobi.Var *Awaiting Model Update*>,\n",
       " 1: <gurobi.Var *Awaiting Model Update*>,\n",
       " 2: <gurobi.Var *Awaiting Model Update*>,\n",
       " 3: <gurobi.Var *Awaiting Model Update*>,\n",
       " 4: <gurobi.Var *Awaiting Model Update*>,\n",
       " 5: <gurobi.Var *Awaiting Model Update*>,\n",
       " 6: <gurobi.Var *Awaiting Model Update*>,\n",
       " 7: <gurobi.Var *Awaiting Model Update*>,\n",
       " 8: <gurobi.Var *Awaiting Model Update*>,\n",
       " 9: <gurobi.Var *Awaiting Model Update*>,\n",
       " 10: <gurobi.Var *Awaiting Model Update*>,\n",
       " 11: <gurobi.Var *Awaiting Model Update*>,\n",
       " 12: <gurobi.Var *Awaiting Model Update*>,\n",
       " 13: <gurobi.Var *Awaiting Model Update*>,\n",
       " 14: <gurobi.Var *Awaiting Model Update*>,\n",
       " 15: <gurobi.Var *Awaiting Model Update*>,\n",
       " 16: <gurobi.Var *Awaiting Model Update*>,\n",
       " 17: <gurobi.Var *Awaiting Model Update*>,\n",
       " 18: <gurobi.Var *Awaiting Model Update*>,\n",
       " 19: <gurobi.Var *Awaiting Model Update*>,\n",
       " 20: <gurobi.Var *Awaiting Model Update*>,\n",
       " 21: <gurobi.Var *Awaiting Model Update*>,\n",
       " 22: <gurobi.Var *Awaiting Model Update*>,\n",
       " 23: <gurobi.Var *Awaiting Model Update*>,\n",
       " 24: <gurobi.Var *Awaiting Model Update*>,\n",
       " 25: <gurobi.Var *Awaiting Model Update*>,\n",
       " 26: <gurobi.Var *Awaiting Model Update*>,\n",
       " 27: <gurobi.Var *Awaiting Model Update*>,\n",
       " 28: <gurobi.Var *Awaiting Model Update*>,\n",
       " 29: <gurobi.Var *Awaiting Model Update*>,\n",
       " 30: <gurobi.Var *Awaiting Model Update*>,\n",
       " 31: <gurobi.Var *Awaiting Model Update*>,\n",
       " 32: <gurobi.Var *Awaiting Model Update*>,\n",
       " 33: <gurobi.Var *Awaiting Model Update*>,\n",
       " 34: <gurobi.Var *Awaiting Model Update*>,\n",
       " 35: <gurobi.Var *Awaiting Model Update*>,\n",
       " 36: <gurobi.Var *Awaiting Model Update*>,\n",
       " 37: <gurobi.Var *Awaiting Model Update*>,\n",
       " 38: <gurobi.Var *Awaiting Model Update*>,\n",
       " 39: <gurobi.Var *Awaiting Model Update*>,\n",
       " 40: <gurobi.Var *Awaiting Model Update*>,\n",
       " 41: <gurobi.Var *Awaiting Model Update*>,\n",
       " 42: <gurobi.Var *Awaiting Model Update*>,\n",
       " 43: <gurobi.Var *Awaiting Model Update*>,\n",
       " 44: <gurobi.Var *Awaiting Model Update*>,\n",
       " 45: <gurobi.Var *Awaiting Model Update*>,\n",
       " 46: <gurobi.Var *Awaiting Model Update*>,\n",
       " 47: <gurobi.Var *Awaiting Model Update*>,\n",
       " 48: <gurobi.Var *Awaiting Model Update*>,\n",
       " 49: <gurobi.Var *Awaiting Model Update*>}"
      ]
     },
     "execution_count": 8,
     "metadata": {},
     "output_type": "execute_result"
    }
   ],
   "source": [
    "# Email 1 variables\n",
    "\n",
    "X = {n: m.addVar() for n in N}\n",
    "X"
   ]
  },
  {
   "cell_type": "markdown",
   "metadata": {},
   "source": [
    "So what have we done here? Gurobi has created a special gurobi variable for each node in the set N, and we have labeled them n. We haven't run the model yet so there is nothing in the variable yet. \n",
    "\n",
    "Now we are going to set the objective. "
   ]
  },
  {
   "cell_type": "code",
   "execution_count": 9,
   "metadata": {},
   "outputs": [],
   "source": [
    "# Email 1 objective\n",
    "\n",
    "m.setObjective(24*(quicksum(costs[n]*X[n] for n in costs)),GRB.MINIMIZE)"
   ]
  },
  {
   "cell_type": "markdown",
   "metadata": {},
   "source": [
    "Let's break this down a little. The 24 is due to the format of the data. We are seeking to minimise a daily cost, but the generator data is given in MW/h, so multiply by 24 to get the daily figure. The 'for n in costs' statement restricts the calculation to the nodes that are represented in the set 'costs'. The X is the amount of energy provided by generator 'n' and that is multiplied by the cost of n. The GRB.MINIMIZE tells gurobi which direction to optimise in.\n",
    "\n",
    "The quicksum function is a special Gurobi function. It is essentially just a sum function (similar to sigma notation) however using some other sum function (eg numpy) would not work as well. \n",
    "\n",
    "Finally, we need to state our constraints. We have two constraints in this case:"
   ]
  },
  {
   "cell_type": "code",
   "execution_count": 10,
   "metadata": {},
   "outputs": [],
   "source": [
    "# Email 1 constraints\n",
    "\n",
    "# The amount of energy provided by generators meets the total demand of the grid.\n",
    "m.addConstr(quicksum(X[n] for n in costs) == total_demand)\n",
    "\n",
    "# each generator cannot exceed its supply capacity\n",
    "for n in costs:\n",
    "    m.addConstr(X[n] <= supply[n])"
   ]
  },
  {
   "cell_type": "markdown",
   "metadata": {},
   "source": [
    "that's it, let's see how it performs when we run it"
   ]
  },
  {
   "cell_type": "code",
   "execution_count": 11,
   "metadata": {
    "scrolled": true
   },
   "outputs": [
    {
     "name": "stdout",
     "output_type": "stream",
     "text": [
      "Gurobi Optimizer version 9.1.1 build v9.1.1rc0 (win64)\n",
      "Thread count: 4 physical cores, 8 logical processors, using up to 8 threads\n",
      "Optimize a model with 5 rows, 50 columns and 8 nonzeros\n",
      "Model fingerprint: 0x03106582\n",
      "Coefficient statistics:\n",
      "  Matrix range     [1e+00, 1e+00]\n",
      "  Objective range  [2e+03, 2e+03]\n",
      "  Bounds range     [0e+00, 0e+00]\n",
      "  RHS range        [4e+02, 2e+03]\n",
      "Presolve removed 5 rows and 50 columns\n",
      "Presolve time: 0.01s\n",
      "Presolve: All rows and columns removed\n",
      "Iteration    Objective       Primal Inf.    Dual Inf.      Time\n",
      "       0    3.4353600e+06   0.000000e+00   0.000000e+00      0s\n",
      "\n",
      "Solved in 0 iterations and 0.01 seconds\n",
      "Optimal objective  3.435360000e+06\n",
      "Minimum cost = $ 3435360.0\n"
     ]
    }
   ],
   "source": [
    "m.optimize()\n",
    "print(\"Minimum cost = $\",m.objVal)"
   ]
  },
  {
   "cell_type": "markdown",
   "metadata": {},
   "source": [
    "So the optimal cost is \\$3,434,360. We've emailed the results to our client and they accept the results. This is a pretty simplistic example, and it would be pretty easy to double check our answer by just summing the total demand in excel and meeting the demand by maxing out the cheapest generators first. We can see that this is exactly what happened by inspecting the Gurobi model variables, observe that the most expensive generator (n = 37) generates zero energy."
   ]
  },
  {
   "cell_type": "code",
   "execution_count": 12,
   "metadata": {},
   "outputs": [
    {
     "data": {
      "text/plain": [
       "{0: <gurobi.Var C0 (value 0.0)>,\n",
       " 1: <gurobi.Var C1 (value 0.0)>,\n",
       " 2: <gurobi.Var C2 (value 0.0)>,\n",
       " 3: <gurobi.Var C3 (value 0.0)>,\n",
       " 4: <gurobi.Var C4 (value 0.0)>,\n",
       " 5: <gurobi.Var C5 (value 0.0)>,\n",
       " 6: <gurobi.Var C6 (value 0.0)>,\n",
       " 7: <gurobi.Var C7 (value 0.0)>,\n",
       " 8: <gurobi.Var C8 (value 0.0)>,\n",
       " 9: <gurobi.Var C9 (value 0.0)>,\n",
       " 10: <gurobi.Var C10 (value 0.0)>,\n",
       " 11: <gurobi.Var C11 (value 0.0)>,\n",
       " 12: <gurobi.Var C12 (value 0.0)>,\n",
       " 13: <gurobi.Var C13 (value 0.0)>,\n",
       " 14: <gurobi.Var C14 (value 0.0)>,\n",
       " 15: <gurobi.Var C15 (value 0.0)>,\n",
       " 16: <gurobi.Var C16 (value 0.0)>,\n",
       " 17: <gurobi.Var C17 (value 0.0)>,\n",
       " 18: <gurobi.Var C18 (value 0.0)>,\n",
       " 19: <gurobi.Var C19 (value 0.0)>,\n",
       " 20: <gurobi.Var C20 (value 406.0)>,\n",
       " 21: <gurobi.Var C21 (value 0.0)>,\n",
       " 22: <gurobi.Var C22 (value 0.0)>,\n",
       " 23: <gurobi.Var C23 (value 0.0)>,\n",
       " 24: <gurobi.Var C24 (value 0.0)>,\n",
       " 25: <gurobi.Var C25 (value 0.0)>,\n",
       " 26: <gurobi.Var C26 (value 0.0)>,\n",
       " 27: <gurobi.Var C27 (value 0.0)>,\n",
       " 28: <gurobi.Var C28 (value 0.0)>,\n",
       " 29: <gurobi.Var C29 (value 0.0)>,\n",
       " 30: <gurobi.Var C30 (value 0.0)>,\n",
       " 31: <gurobi.Var C31 (value 0.0)>,\n",
       " 32: <gurobi.Var C32 (value 0.0)>,\n",
       " 33: <gurobi.Var C33 (value 0.0)>,\n",
       " 34: <gurobi.Var C34 (value 0.0)>,\n",
       " 35: <gurobi.Var C35 (value 785.0)>,\n",
       " 36: <gurobi.Var C36 (value 0.0)>,\n",
       " 37: <gurobi.Var C37 (value 0.0)>,\n",
       " 38: <gurobi.Var C38 (value 0.0)>,\n",
       " 39: <gurobi.Var C39 (value 0.0)>,\n",
       " 40: <gurobi.Var C40 (value 0.0)>,\n",
       " 41: <gurobi.Var C41 (value 0.0)>,\n",
       " 42: <gurobi.Var C42 (value 0.0)>,\n",
       " 43: <gurobi.Var C43 (value 0.0)>,\n",
       " 44: <gurobi.Var C44 (value 0.0)>,\n",
       " 45: <gurobi.Var C45 (value 838.0)>,\n",
       " 46: <gurobi.Var C46 (value 0.0)>,\n",
       " 47: <gurobi.Var C47 (value 0.0)>,\n",
       " 48: <gurobi.Var C48 (value 0.0)>,\n",
       " 49: <gurobi.Var C49 (value 0.0)>}"
      ]
     },
     "execution_count": 12,
     "metadata": {},
     "output_type": "execute_result"
    }
   ],
   "source": [
    "X"
   ]
  },
  {
   "cell_type": "markdown",
   "metadata": {},
   "source": [
    "Anyway a few days later, Sparkland send a new email \n",
    "\n",
    "***\n",
    "\n",
    "_Thank you for your initial estimate. However, we did not mention that our transmission lines actually lose electricity along them. This loss can be estimated as 0.1\\% per km._\n",
    "\n",
    "_Could you revise your proposal to take this into account? Please provide us with the optimal cost for meeting the current demand over a whole day from our generators._\n",
    "\n",
    "***\n",
    "\n",
    "So now we will need to make use of the set of arcs and make sure that we use the most efficient pathways. It is no use using a cheap generator if the transmission costs are too expensive. At the very least we will need to generate more energy to cover the losses. \n",
    "\n",
    "For this new data, we need to build in the transmission loss and calculate the lengths of all the arcs. "
   ]
  },
  {
   "cell_type": "code",
   "execution_count": 13,
   "metadata": {},
   "outputs": [],
   "source": [
    "# Email 2 data\n",
    "\n",
    "loss = 0.001 # Loss factor (% per km)\n",
    "\n",
    "# Calculate lengths of each arc (euclidean distance)\n",
    "distance = [math.hypot(\n",
    "    nodes['X'][arcs['Node1'][a]]-nodes['X'][arcs['Node2'][a]],\n",
    "    nodes['Y'][arcs['Node1'][a]]-nodes['Y'][arcs['Node2'][a]]) for a in A]"
   ]
  },
  {
   "cell_type": "markdown",
   "metadata": {},
   "source": [
    "Time to start a new model. We also need to review our decision variables. The recent communication suggests we need to govern the power flow on any arc, so we will need an additional decision variable to account for arc power flow. \n",
    "\n",
    "(The model 'm' is still active, but we need to declare our previous X variable again to clear the current contents)"
   ]
  },
  {
   "cell_type": "code",
   "execution_count": 14,
   "metadata": {},
   "outputs": [],
   "source": [
    "# Email 2 variables\n",
    "\n",
    "# X gives amount generated by generators at node n \n",
    "X = {n: m.addVar() for n in N}\n",
    "\n",
    "# Y gives flow on arc a \n",
    "Y = {a: m.addVar() for a in A}\n"
   ]
  },
  {
   "cell_type": "markdown",
   "metadata": {},
   "source": [
    "Our objective does not change, but the constraints start to look more complicated"
   ]
  },
  {
   "cell_type": "code",
   "execution_count": 15,
   "metadata": {},
   "outputs": [],
   "source": [
    "# email 2 objective\n",
    "\n",
    "m.setObjective(24*(quicksum(costs[n]*X[n] for n in costs)),GRB.MINIMIZE)"
   ]
  },
  {
   "cell_type": "code",
   "execution_count": 16,
   "metadata": {},
   "outputs": [],
   "source": [
    "# Email 2 constraints\n",
    "\n",
    "for n in N:\n",
    "    # balancing constraint\n",
    "    m.addConstr(quicksum(Y[a]*(1-loss*distance[a]) for a in A if arcs['Node2'][a] == n) + X[n]  ==\n",
    "                quicksum(Y[a] for a in A if arcs['Node1'][a] == n) + nodes['Demand'][n])\n",
    "    if n in supply:\n",
    "        # generator must generate within given capacity limits\n",
    "        m.addConstr(X[n] <= supply[n])\n",
    "    else:\n",
    "        # forcing constraint\n",
    "        m.addConstr(X[n] == 0)"
   ]
  },
  {
   "cell_type": "markdown",
   "metadata": {},
   "source": [
    "The balancing constraint looks a bit confusing, and this is can actually be written as 4 different constraints (arguably that might be even more complicated!). The LHS of the equation relates to power entering a node n. any power entering a node will be curtailed by the loss factor, and if that node is a generator node, then additional power Y will be added. The RHS of the equation relates to the power leaving the node, and also the demand for that node. So essentially, the curtailed power entering the node must be equal to the power leaving the node plus the demand of that node (with some special rules for generators)\n",
    "\n",
    "The forcing contraint is a bit more straightforward but also has some nuance. Power created at generator nodes cannot exceed the supply limits which makes sense, however this constraint on its own would not work. You must specify that non-generator nodes will have a zero output otherwise the model will simply assign Y values to nodes and bring the objective value all the way to zero.\n",
    "\n",
    "Okay lets test our model"
   ]
  },
  {
   "cell_type": "code",
   "execution_count": 17,
   "metadata": {},
   "outputs": [
    {
     "name": "stdout",
     "output_type": "stream",
     "text": [
      "Gurobi Optimizer version 9.1.1 build v9.1.1rc0 (win64)\n",
      "Thread count: 4 physical cores, 8 logical processors, using up to 8 threads\n",
      "Optimize a model with 105 rows, 294 columns and 496 nonzeros\n",
      "Coefficient statistics:\n",
      "  Matrix range     [1e+00, 1e+00]\n",
      "  Objective range  [2e+03, 2e+03]\n",
      "  Bounds range     [0e+00, 0e+00]\n",
      "  RHS range        [2e+01, 2e+03]\n",
      "Iteration    Objective       Primal Inf.    Dual Inf.      Time\n",
      "       0    0.0000000e+00   2.029000e+03   0.000000e+00      0s\n",
      "     189    3.6692435e+06   0.000000e+00   0.000000e+00      0s\n",
      "\n",
      "Solved in 189 iterations and 0.02 seconds\n",
      "Optimal objective  3.669243450e+06\n",
      "Minimum cost = $ 3669243.450357632\n"
     ]
    }
   ],
   "source": [
    "m.optimize()\n",
    "print(\"Minimum cost = $\",m.objVal)"
   ]
  },
  {
   "cell_type": "markdown",
   "metadata": {},
   "source": [
    "$3,669,243 is a bit more expensive than the last model, and that makes sense. We have added loss factors which means the generators have to work harder to get the power out there. Lets see how the generation pattern looks this time.\n",
    "\n",
    "Rather than just calling the whole variable and inspecting it (which gets pretty tedious for big variables), we can make use of some Gurobi tricks. For example, you can call the 'x' of a decision variable which will return the current value of that decision variable, and use regular python/pandas commands to sift through them. "
   ]
  },
  {
   "cell_type": "code",
   "execution_count": 18,
   "metadata": {},
   "outputs": [
    {
     "name": "stdout",
     "output_type": "stream",
     "text": [
      "node 20 :  406.0\n",
      "node 35 :  818.0\n",
      "node 37 :  89.06272884026016\n",
      "node 45 :  838.0\n"
     ]
    }
   ],
   "source": [
    "for n in N:\n",
    "    if X[n].x >0:\n",
    "        print('node', n, ': ', X[n].x)"
   ]
  },
  {
   "cell_type": "markdown",
   "metadata": {},
   "source": [
    "This time the network needed to rely on the more expensive generator as the three cheaper generators did not have enough capacity to account for the transmission losses. \n",
    "\n",
    "Well Sparkland are very happy with this, but sure enough they come back with another email. \n",
    "\n",
    "***\n",
    "\n",
    "_We have realised that your proposal will exceed the limits on some of our transmission lines. The following 18 lines can effectively handle any load:_\n",
    "\n",
    "_30 31 32 33 36 37 48 49 88 89 92 93 96 97 118 119 122 123_\n",
    "\n",
    "_However, all of the other lines have a limit of 100 MW. Could you revise your proposal to take this into account? Please provide us with the optimal cost for meeting the current demand over a whole day from our generators._\n",
    "\n",
    "***\n",
    "\n",
    "Looks like we have new data to incorporate into our model. This is actually pretty straightforward to set up. We firstly load the new data."
   ]
  },
  {
   "cell_type": "code",
   "execution_count": 19,
   "metadata": {},
   "outputs": [],
   "source": [
    "# Email 3 data\n",
    "\n",
    "lowlimit = 100 # Transmission maximum limit (MW)\n",
    "highs = [30,31,32,33,36,37,48,49,88,89,92,93,96,97,118,119,122,123] # Transmission arcs with no limit"
   ]
  },
  {
   "cell_type": "markdown",
   "metadata": {},
   "source": [
    "The existing information (sets, data, objective, constraints) will all remain"
   ]
  },
  {
   "cell_type": "code",
   "execution_count": 20,
   "metadata": {},
   "outputs": [],
   "source": [
    "# Email 3 variables\n",
    "\n",
    "# X gives amount generated by generators at node n \n",
    "X = {n: m.addVar() for n in N}\n",
    "\n",
    "# Y gives flow on arc a \n",
    "Y = {a: m.addVar() for a in A}"
   ]
  },
  {
   "cell_type": "code",
   "execution_count": 21,
   "metadata": {},
   "outputs": [],
   "source": [
    "# Email 3 objective\n",
    "\n",
    "m.setObjective(24*(quicksum(costs[n]*X[n] for n in costs)),GRB.MINIMIZE)"
   ]
  },
  {
   "cell_type": "markdown",
   "metadata": {},
   "source": [
    "We need one new constraint that tells the model to curtail transmission capacity for all arcs EXCEPT for those on our list of high-capacity arcs. "
   ]
  },
  {
   "cell_type": "code",
   "execution_count": 22,
   "metadata": {},
   "outputs": [],
   "source": [
    "for a in A:\n",
    "    # constrain maximum flow on arc a \n",
    "    if not a in highs:\n",
    "        m.addConstr(Y[a] <= lowlimit)\n",
    "\n",
    "for n in N:\n",
    "    # Balancing the power flow at each node \n",
    "    m.addConstr(quicksum(Y[a]*(1-loss*distance[a]) for a in A if arcs['Node2'][a] == n) + X[n]  ==\n",
    "                quicksum(Y[a] for a in A if arcs['Node1'][a] == n) + nodes['Demand'][n])\n",
    "    if n in supply:\n",
    "        # generator must generate within given capacity limits\n",
    "        m.addConstr(X[n] <= supply[n])\n",
    "    else:\n",
    "        # forcing constraint\n",
    "        m.addConstr(X[n] == 0)"
   ]
  },
  {
   "cell_type": "markdown",
   "metadata": {},
   "source": [
    "Let's hit go"
   ]
  },
  {
   "cell_type": "code",
   "execution_count": 23,
   "metadata": {},
   "outputs": [
    {
     "name": "stdout",
     "output_type": "stream",
     "text": [
      "Gurobi Optimizer version 9.1.1 build v9.1.1rc0 (win64)\n",
      "Thread count: 4 physical cores, 8 logical processors, using up to 8 threads\n",
      "Optimize a model with 381 rows, 538 columns and 1160 nonzeros\n",
      "Coefficient statistics:\n",
      "  Matrix range     [1e+00, 1e+00]\n",
      "  Objective range  [2e+03, 2e+03]\n",
      "  Bounds range     [0e+00, 0e+00]\n",
      "  RHS range        [2e+01, 2e+03]\n",
      "Iteration    Objective       Primal Inf.    Dual Inf.      Time\n",
      "       0    0.0000000e+00   2.029000e+03   0.000000e+00      0s\n",
      "     208    3.6804847e+06   0.000000e+00   0.000000e+00      0s\n",
      "\n",
      "Solved in 208 iterations and 0.02 seconds\n",
      "Optimal objective  3.680484670e+06\n",
      "Minimum cost = $ 3680484.669555652\n"
     ]
    }
   ],
   "source": [
    "m.optimize()\n",
    "print(\"Minimum cost = $\",m.objVal)"
   ]
  },
  {
   "cell_type": "markdown",
   "metadata": {},
   "source": [
    "Lets see how our variables look now. We'll round the values as those floating decimals are irritating to read."
   ]
  },
  {
   "cell_type": "code",
   "execution_count": 24,
   "metadata": {},
   "outputs": [
    {
     "name": "stdout",
     "output_type": "stream",
     "text": [
      "node 20 :  400.0\n",
      "node 35 :  818.0\n",
      "node 37 :  99.53\n",
      "node 45 :  838.0\n"
     ]
    }
   ],
   "source": [
    "for n in N:\n",
    "    if X[n].x >0:\n",
    "        print('node', n, ': ', round(X[n].x,2))"
   ]
  },
  {
   "cell_type": "code",
   "execution_count": 25,
   "metadata": {},
   "outputs": [
    {
     "name": "stdout",
     "output_type": "stream",
     "text": [
      "arc 1 :  46.38\n",
      "arc 2 :  76.21\n",
      "arc 5 :  28.31\n",
      "arc 6 :  21.31\n",
      "arc 8 :  44.56\n",
      "arc 11 :  44.0\n",
      "arc 17 :  32.96\n",
      "arc 23 :  90.88\n",
      "arc 24 :  34.01\n",
      "arc 27 :  46.54\n",
      "arc 28 :  31.36\n",
      "arc 31 :  405.93\n",
      "arc 32 :  341.75\n",
      "arc 37 :  261.86\n",
      "arc 45 :  53.43\n",
      "arc 47 :  54.64\n",
      "arc 48 :  114.77\n",
      "arc 53 :  40.9\n",
      "arc 61 :  24.66\n",
      "arc 65 :  100.0\n",
      "arc 68 :  34.7\n",
      "arc 70 :  0.15\n",
      "arc 80 :  29.95\n",
      "arc 82 :  100.0\n",
      "arc 85 :  100.0\n",
      "arc 89 :  260.33\n",
      "arc 93 :  168.55\n",
      "arc 95 :  100.0\n",
      "arc 97 :  220.47\n",
      "arc 101 :  97.77\n",
      "arc 104 :  63.19\n",
      "arc 107 :  42.65\n",
      "arc 110 :  96.02\n",
      "arc 112 :  100.0\n",
      "arc 114 :  74.06\n",
      "arc 118 :  152.8\n",
      "arc 123 :  297.29\n",
      "arc 127 :  34.01\n",
      "arc 130 :  55.93\n",
      "arc 135 :  85.3\n",
      "arc 139 :  52.68\n",
      "arc 140 :  0.38\n",
      "arc 147 :  79.87\n",
      "arc 149 :  10.1\n",
      "arc 155 :  28.34\n",
      "arc 156 :  63.8\n",
      "arc 160 :  27.16\n",
      "arc 162 :  2.42\n",
      "arc 164 :  44.9\n",
      "arc 169 :  25.67\n",
      "arc 173 :  3.94\n",
      "arc 177 :  100.0\n",
      "arc 178 :  100.0\n",
      "arc 181 :  100.0\n",
      "arc 183 :  75.15\n",
      "arc 187 :  58.7\n",
      "arc 188 :  100.0\n"
     ]
    }
   ],
   "source": [
    "for a in A:\n",
    "    if Y[a].x >0:\n",
    "        print('arc', a ,': ', round(Y[a].x,2))"
   ]
  },
  {
   "cell_type": "markdown",
   "metadata": {},
   "source": [
    "In variable X, we are getting a really great picture of how energy flows throughout the system to meet demand. You can see that some arcs are maxed out to 100, some 'high' arcs are well beyond 100, while other arcs are not used at all. Model is working as planned.\n",
    "\n",
    "Okay so setting that one up wasn't too bad at all! Getting the hang of this now! Can't wait for the next email!\n",
    "\n",
    "***\n",
    "\n",
    "_Thank you for helping satisfy this current demand. However, in practice demand changes over the day, and we are concerned about how our network will cope with peak demand times. We have broken the day into six time periods: Midnight to 4am, 4am to 8am, 8am to 12pm, 12pm to 4pm, 4pm to 8pm, and 8pm to midnight._\n",
    "\n",
    "_Please see the attached data file:_\n",
    "\n",
    "_nodes2.csv gives an update of our earlier data with demands for each node (MW) at each of these time periods\n",
    "Could you revise your proposal to incorporate these changing demands? Please provide us with the optimal total cost over the day for meeting the demand in each of the six time periods from our generators._\n",
    "\n",
    "***\n",
    "\n",
    "Hmm changing demand profile ey? I wonder what that looks like"
   ]
  },
  {
   "cell_type": "code",
   "execution_count": 26,
   "metadata": {
    "scrolled": true
   },
   "outputs": [
    {
     "data": {
      "text/html": [
       "<div>\n",
       "<style scoped>\n",
       "    .dataframe tbody tr th:only-of-type {\n",
       "        vertical-align: middle;\n",
       "    }\n",
       "\n",
       "    .dataframe tbody tr th {\n",
       "        vertical-align: top;\n",
       "    }\n",
       "\n",
       "    .dataframe thead th {\n",
       "        text-align: right;\n",
       "    }\n",
       "</style>\n",
       "<table border=\"1\" class=\"dataframe\">\n",
       "  <thead>\n",
       "    <tr style=\"text-align: right;\">\n",
       "      <th></th>\n",
       "      <th>Node</th>\n",
       "      <th>X</th>\n",
       "      <th>Y</th>\n",
       "      <th>D0</th>\n",
       "      <th>D1</th>\n",
       "      <th>D2</th>\n",
       "      <th>D3</th>\n",
       "      <th>D4</th>\n",
       "      <th>D5</th>\n",
       "    </tr>\n",
       "  </thead>\n",
       "  <tbody>\n",
       "    <tr>\n",
       "      <th>0</th>\n",
       "      <td>0</td>\n",
       "      <td>90</td>\n",
       "      <td>5</td>\n",
       "      <td>26</td>\n",
       "      <td>44</td>\n",
       "      <td>49</td>\n",
       "      <td>51</td>\n",
       "      <td>61</td>\n",
       "      <td>56</td>\n",
       "    </tr>\n",
       "    <tr>\n",
       "      <th>1</th>\n",
       "      <td>1</td>\n",
       "      <td>148</td>\n",
       "      <td>132</td>\n",
       "      <td>13</td>\n",
       "      <td>23</td>\n",
       "      <td>26</td>\n",
       "      <td>32</td>\n",
       "      <td>35</td>\n",
       "      <td>32</td>\n",
       "    </tr>\n",
       "    <tr>\n",
       "      <th>2</th>\n",
       "      <td>2</td>\n",
       "      <td>173</td>\n",
       "      <td>33</td>\n",
       "      <td>37</td>\n",
       "      <td>45</td>\n",
       "      <td>49</td>\n",
       "      <td>50</td>\n",
       "      <td>59</td>\n",
       "      <td>56</td>\n",
       "    </tr>\n",
       "    <tr>\n",
       "      <th>3</th>\n",
       "      <td>3</td>\n",
       "      <td>59</td>\n",
       "      <td>130</td>\n",
       "      <td>24</td>\n",
       "      <td>37</td>\n",
       "      <td>59</td>\n",
       "      <td>45</td>\n",
       "      <td>72</td>\n",
       "      <td>54</td>\n",
       "    </tr>\n",
       "    <tr>\n",
       "      <th>4</th>\n",
       "      <td>4</td>\n",
       "      <td>52</td>\n",
       "      <td>9</td>\n",
       "      <td>47</td>\n",
       "      <td>58</td>\n",
       "      <td>76</td>\n",
       "      <td>106</td>\n",
       "      <td>98</td>\n",
       "      <td>67</td>\n",
       "    </tr>\n",
       "  </tbody>\n",
       "</table>\n",
       "</div>"
      ],
      "text/plain": [
       "   Node    X    Y  D0  D1  D2   D3  D4  D5\n",
       "0     0   90    5  26  44  49   51  61  56\n",
       "1     1  148  132  13  23  26   32  35  32\n",
       "2     2  173   33  37  45  49   50  59  56\n",
       "3     3   59  130  24  37  59   45  72  54\n",
       "4     4   52    9  47  58  76  106  98  67"
      ]
     },
     "execution_count": 26,
     "metadata": {},
     "output_type": "execute_result"
    }
   ],
   "source": [
    "nodes = pd.read_csv('nodes2.csv')\n",
    "\n",
    "nodes.head()"
   ]
  },
  {
   "cell_type": "markdown",
   "metadata": {},
   "source": [
    "Things are getting a bit more complicated. Looks like we'll need to ensure that we optimise each time period and then stitch them together at the end. Mercifully, all of the other data sets stay the same, but we need to start fiddling with our objective, variables, and constraints. \n",
    "\n",
    "First thing we will do is turn the demand data into something that is easy to work with."
   ]
  },
  {
   "cell_type": "code",
   "execution_count": 27,
   "metadata": {},
   "outputs": [],
   "source": [
    "# Email 4 data \n",
    "\n",
    "T = range(6) # Set of daily time periods\n",
    "D = [[nodes['D'+str(t)][n] for t in T] for n in N] # table of demands D[n][t] for each node"
   ]
  },
  {
   "cell_type": "markdown",
   "metadata": {},
   "source": [
    "So now we have a 2D table that represents our demands for each node for each time period. Our decision variables will also now be dependent on the time of day, so in our new model we will adjust our variables and objective to reflect that. \n"
   ]
  },
  {
   "cell_type": "code",
   "execution_count": 28,
   "metadata": {},
   "outputs": [],
   "source": [
    "# Email 4 variables\n",
    "\n",
    "# X gives amount generated by generators at node n in time period t \n",
    "X = {(n,t): m.addVar() for n in N for t in T}\n",
    "\n",
    "# Y gives flow on arc a in time period t\n",
    "Y = {(a,t): m.addVar() for a in A for t in T}"
   ]
  },
  {
   "cell_type": "code",
   "execution_count": 29,
   "metadata": {},
   "outputs": [],
   "source": [
    "# Email 4 objective\n",
    "\n",
    "m.setObjective(4*(quicksum(costs[n]*X[n,t] for n in costs for t in T)), GRB.MINIMIZE)"
   ]
  },
  {
   "cell_type": "markdown",
   "metadata": {},
   "source": [
    "Here we can see our objective has changed slightly. Our generator decision variable now iterates over the six different periods of the day, so we actually have 6 hours of the day already calculated. So we need to multiply by four to get the full 24 hours. \n",
    "\n",
    "Our constraints will change slightly to accommodate the new variables. Substantively they do not change very much, we only need to make sure that we now iterate over all time periods for each arc/node/generator"
   ]
  },
  {
   "cell_type": "code",
   "execution_count": 30,
   "metadata": {},
   "outputs": [],
   "source": [
    "# Email 4 constraints\n",
    "\n",
    "for t in T:\n",
    "    for a in A:\n",
    "        if not a in highs:\n",
    "            m.addConstr(Y[a,t] <= lowlimit)\n",
    "            \n",
    "    for n in N:\n",
    "        # Balancing the power flow at each node and in each time period\n",
    "        m.addConstr(quicksum(Y[a,t]*(1-loss*distance[a]) for a in A if arcs['Node2'][a] == n) + X[n,t]  ==\n",
    "                    quicksum(Y[a,t] for a in A if arcs['Node1'][a] == n) + D[n][t])\n",
    "        \n",
    "        if n in supply:\n",
    "            # Power generated by existing generators under capacity\n",
    "            m.addConstr(X[n,t] <= supply[n])\n",
    "        else: \n",
    "            # Forcing constraint\n",
    "            m.addConstr(X[n,t] == 0)"
   ]
  },
  {
   "cell_type": "code",
   "execution_count": 31,
   "metadata": {},
   "outputs": [
    {
     "name": "stdout",
     "output_type": "stream",
     "text": [
      "Gurobi Optimizer version 9.1.1 build v9.1.1rc0 (win64)\n",
      "Thread count: 4 physical cores, 8 logical processors, using up to 8 threads\n",
      "Optimize a model with 2037 rows, 2002 columns and 5144 nonzeros\n",
      "Coefficient statistics:\n",
      "  Matrix range     [1e+00, 1e+00]\n",
      "  Objective range  [3e+02, 3e+02]\n",
      "  Bounds range     [0e+00, 0e+00]\n",
      "  RHS range        [8e+00, 2e+03]\n",
      "Iteration    Objective       Primal Inf.    Dual Inf.      Time\n",
      "       0    0.0000000e+00   1.068300e+04   0.000000e+00      0s\n",
      "    1377    3.2215060e+06   0.000000e+00   0.000000e+00      0s\n",
      "\n",
      "Solved in 1377 iterations and 0.03 seconds\n",
      "Optimal objective  3.221506012e+06\n",
      "Minimum cost = $ 3221506.0117758485\n"
     ]
    }
   ],
   "source": [
    "m.optimize()\n",
    "print(\"Minimum cost = $\",m.objVal)"
   ]
  },
  {
   "cell_type": "markdown",
   "metadata": {},
   "source": [
    "Now that our variables are in 2 dimensions, double checking them can be a bit impractical; we will have 300 generator variables and over 1000 arc variables! lets see how the generator variables look."
   ]
  },
  {
   "cell_type": "code",
   "execution_count": 32,
   "metadata": {},
   "outputs": [
    {
     "name": "stdout",
     "output_type": "stream",
     "text": [
      "node 20 : period 0 :  374.88\n",
      "node 20 : period 1 :  400.0\n",
      "node 20 : period 2 :  400.0\n",
      "node 20 : period 3 :  400.0\n",
      "node 20 : period 4 :  400.0\n",
      "node 20 : period 5 :  400.0\n",
      "node 35 : period 0 :  139.18\n",
      "node 35 : period 1 :  300.2\n",
      "node 35 : period 2 :  646.31\n",
      "node 35 : period 3 :  818.0\n",
      "node 35 : period 4 :  818.0\n",
      "node 35 : period 5 :  789.31\n",
      "node 37 : period 2 :  23.34\n",
      "node 37 : period 3 :  123.57\n",
      "node 37 : period 4 :  492.23\n",
      "node 37 : period 5 :  73.92\n",
      "node 45 : period 0 :  567.58\n",
      "node 45 : period 1 :  833.62\n",
      "node 45 : period 2 :  838.0\n",
      "node 45 : period 3 :  838.0\n",
      "node 45 : period 4 :  838.0\n",
      "node 45 : period 5 :  838.0\n"
     ]
    }
   ],
   "source": [
    "for n in N:\n",
    "    for t in T:\n",
    "        if X[n,t].x >0:\n",
    "            print('node',n, ': period',t, ': ',round(X[n,t].x,2))"
   ]
  },
  {
   "cell_type": "markdown",
   "metadata": {},
   "source": [
    "Next email:\n",
    "\n",
    "***\n",
    "\n",
    "_Thank you for your help in optimising the use of our generators and network. This has enabled us to receive a capital budget for improving our production and delivery of electricity in the region._\n",
    "\n",
    "_Firstly, we have funds to increase the capacity of three of our transmission lines by 50 MW (to 150 MW). Which lines we should increase?_\n",
    "\n",
    "_Please provide us with the optimal total cost over the day for meeting the demand in each of the six time periods from our generators._\n",
    "\n",
    "***\n",
    "\n",
    "This request is asking us to select the best arcs to 'switch on' to a higher capacity in order to optimise the network. This kind of problem  requires us to start looking at Mixed Integer Linear programming (MILP). Although it's called MILP, you will find that most of these problems actually use binary variables rather than interger variables. \n",
    "\n",
    "First thing we need to do is load the new data and start a new model. It is important to note that rather than using 150MW as a data point, we are going to use 50MW and add it to the existing transmission allowance. "
   ]
  },
  {
   "cell_type": "code",
   "execution_count": 33,
   "metadata": {},
   "outputs": [],
   "source": [
    "# Email 5 data\n",
    "\n",
    "Num_Inc_Lines = 3 # Number of lines with extra transmission allowance\n",
    "Extra_Arc_Cap = 50 # Extra transmission allowance(MW)"
   ]
  },
  {
   "cell_type": "markdown",
   "metadata": {},
   "source": [
    "Our objective remains unchanged as we are still optimising energy transmission over the whole day. \n",
    "\n",
    "Binary variables are declared in the same way as regular continuous variables, but changing the vtype argument.\n",
    "\n",
    "NB: vtype = CONTINUOUS is the default when the addVar argument is blank."
   ]
  },
  {
   "cell_type": "code",
   "execution_count": 34,
   "metadata": {},
   "outputs": [],
   "source": [
    "# Email 5 variables\n",
    "\n",
    "# X gives amount generated by generators at node n in time period t \n",
    "X = {(n,t): m.addVar() for n in N for t in T}\n",
    "\n",
    "# Y gives flow on arc a in time period t\n",
    "Y = {(a,t): m.addVar() for a in A for t in T}\n",
    "\n",
    "# I indicates whether the capacity is increased for all arcs\n",
    "I = {a: m.addVar(vtype=GRB.BINARY) for a in A}"
   ]
  },
  {
   "cell_type": "code",
   "execution_count": 35,
   "metadata": {},
   "outputs": [],
   "source": [
    "# Email 5 objective\n",
    "\n",
    "m.setObjective(4*(quicksum(costs[n]*X[n,t] for n in costs for t in T)), GRB.MINIMIZE)"
   ]
  },
  {
   "cell_type": "markdown",
   "metadata": {},
   "source": [
    "In this model, Gurobi will try to increase the capacity of a series of lines in the network. We need to tell the model to do two things; 1) To restrict the total number of increased transmission lines to 3, and 2) add 50MW capacity to the chosen transmission lines. \n",
    "\n",
    "The way gurobi achieves this is with binary variables. We have declared `I[a]` as the binary variable, so the only values `I[a]` can take on are 0 or 1.  "
   ]
  },
  {
   "cell_type": "code",
   "execution_count": 36,
   "metadata": {},
   "outputs": [
    {
     "data": {
      "text/plain": [
       "<gurobi.Constr *Awaiting Model Update*>"
      ]
     },
     "execution_count": 36,
     "metadata": {},
     "output_type": "execute_result"
    }
   ],
   "source": [
    "# restrict the number of extra-capacity transmission lines\n",
    "m.addConstr(quicksum(I[a] for a in A) == Num_Inc_Lines)"
   ]
  },
  {
   "cell_type": "markdown",
   "metadata": {},
   "source": [
    "This constraint is telling us that over every arc in the series of arcs, the sum of `I` must equal 3. Since they are binary, you basically get three `I[a]`'s that equal 1, and the rest will equal zero. This is important for our next constraint, because when `I[a] = 1`, that means we can apply any kind of data we want, while those that equal zero will be unaffected."
   ]
  },
  {
   "cell_type": "code",
   "execution_count": 37,
   "metadata": {},
   "outputs": [],
   "source": [
    "for t in T:            \n",
    "    for a in A:\n",
    "        if not a in highs:\n",
    "            # Restrict to max capacity of lines + additional capacity if applicable\n",
    "            m.addConstr(Y[a,t] <= lowlimit + Extra_Arc_Cap*I[a])"
   ]
  },
  {
   "cell_type": "markdown",
   "metadata": {},
   "source": [
    "Now when Gurobi sets the `I = 1`, that transmission capacity will be 100 + 50, while the remaining lines will stay at 100. \n",
    "\n",
    "The rest of the constraints are as before, since we have not changed any of that data "
   ]
  },
  {
   "cell_type": "code",
   "execution_count": 38,
   "metadata": {
    "scrolled": true
   },
   "outputs": [
    {
     "name": "stdout",
     "output_type": "stream",
     "text": [
      "Gurobi Optimizer version 9.1.1 build v9.1.1rc0 (win64)\n",
      "Thread count: 4 physical cores, 8 logical processors, using up to 8 threads\n",
      "Optimize a model with 3694 rows, 3660 columns and 10378 nonzeros\n",
      "Model fingerprint: 0x2bfca191\n",
      "Variable types: 3466 continuous, 194 integer (194 binary)\n",
      "Coefficient statistics:\n",
      "  Matrix range     [1e+00, 5e+01]\n",
      "  Objective range  [3e+02, 3e+02]\n",
      "  Bounds range     [1e+00, 1e+00]\n",
      "  RHS range        [3e+00, 2e+03]\n",
      "Presolve removed 2337 rows and 2296 columns\n",
      "Presolve time: 0.02s\n",
      "Presolved: 1357 rows, 1364 columns, 4640 nonzeros\n",
      "Variable types: 1188 continuous, 176 integer (176 binary)\n",
      "\n",
      "Root relaxation: objective 3.213872e+06, 898 iterations, 0.01 seconds\n",
      "\n",
      "    Nodes    |    Current Node    |     Objective Bounds      |     Work\n",
      " Expl Unexpl |  Obj  Depth IntInf | Incumbent    BestBd   Gap | It/Node Time\n",
      "\n",
      "     0     0 3213871.75    0    5          - 3213871.75      -     -    0s\n",
      "H    0     0                    3216986.7025 3213871.75  0.10%     -    0s\n",
      "H    0     0                    3214696.6490 3213871.75  0.03%     -    0s\n",
      "H    0     0                    3214653.4117 3213871.75  0.02%     -    0s\n",
      "     0     0 3214344.89    0    4 3214653.41 3214344.89  0.01%     -    0s\n",
      "\n",
      "Cutting planes:\n",
      "  Gomory: 3\n",
      "  MIR: 35\n",
      "\n",
      "Explored 1 nodes (925 simplex iterations) in 0.10 seconds\n",
      "Thread count was 8 (of 8 available processors)\n",
      "\n",
      "Solution count 3: 3.21465e+06 3.2147e+06 3.21699e+06 \n",
      "\n",
      "Optimal solution found (tolerance 1.00e-04)\n",
      "Best objective 3.214653411746e+06, best bound 3.214344890852e+06, gap 0.0096%\n",
      "Minimum cost = $ 3214653.411746099\n"
     ]
    }
   ],
   "source": [
    "# Email 5 constraints\n",
    "\n",
    "for t in T:    \n",
    "    for n in N:\n",
    "        # Balancing the power flow at each node and in each time period\n",
    "        m.addConstr(quicksum(Y[a,t]*(1-loss*distance[a]) for a in A if arcs['Node2'][a] == n) + X[n,t]  ==\n",
    "                    quicksum(Y[a,t] for a in A if arcs['Node1'][a] == n) + D[n][t])\n",
    "        \n",
    "        if n in supply:\n",
    "            # Power generated by existing generators under capacity\n",
    "            m.addConstr(X[n,t] <= supply[n])\n",
    "        else: \n",
    "            # Forcing constraint\n",
    "            m.addConstr(X[n,t] == 0)\n",
    "\n",
    "m.optimize()\n",
    "print(\"Minimum cost = $\",m.objVal)"
   ]
  },
  {
   "cell_type": "markdown",
   "metadata": {},
   "source": [
    "We can take a look at the binary variable and see which arcs had their capacity increased. note the use of `> 0.9` rather than `== 1`, this kind of expression avoids issues associated with float data types."
   ]
  },
  {
   "cell_type": "code",
   "execution_count": 39,
   "metadata": {},
   "outputs": [
    {
     "name": "stdout",
     "output_type": "stream",
     "text": [
      "arc 53 : period 0 :  0.0\n",
      "arc 53 : period 1 :  0.0\n",
      "arc 53 : period 2 :  0.0\n",
      "arc 53 : period 3 :  48.16\n",
      "arc 53 : period 4 :  150.0\n",
      "arc 53 : period 5 :  8.35\n",
      "arc 95 : period 0 :  73.36\n",
      "arc 95 : period 1 :  124.37\n",
      "arc 95 : period 2 :  133.24\n",
      "arc 95 : period 3 :  150.0\n",
      "arc 95 : period 4 :  88.18\n",
      "arc 95 : period 5 :  150.0\n",
      "arc 177 : period 0 :  150.0\n",
      "arc 177 : period 1 :  114.29\n",
      "arc 177 : period 2 :  129.41\n",
      "arc 177 : period 3 :  150.0\n",
      "arc 177 : period 4 :  121.1\n",
      "arc 177 : period 5 :  127.65\n"
     ]
    }
   ],
   "source": [
    "for a in A:\n",
    "    for t in T:\n",
    "        if I[a].x> 0.9:\n",
    "            print('arc',a, ': period',t, ': ',round(Y[a,t].x,2))"
   ]
  },
  {
   "cell_type": "markdown",
   "metadata": {},
   "source": [
    "So we can see that arcs 85, 95 and 177 are selected as the extra capacity transmission lines, and for most periods of the day the capacity is above the 100 limit (although not always at the maxed 150) \n",
    "\n",
    "Using binary data as on/off switches is an immensely powerful technique for modelling. I have a feeling that future communications from Sparkland may require the use of this technique! \n",
    "\n",
    "***\n",
    "\n",
    "_We also have funds to build a small gas generator at one of the existing nodes on the network, where there is not already a generator. This generator can supply up to 200 MW at a cost of \\$78/MWh. Where should we build this generator? Note that any existing demand at the node where it is located will still need to be met._\n",
    "\n",
    "_Please provide us with the optimal total cost over the day for meeting the demand in each of the six time periods from our generators. We realise that this may affect your proposal on which transmission lines to upgrade._\n",
    "***\n",
    "\n",
    "Using our new technique, we should be able to declare a new binary variable that iterates over the non-generator nodes, restrict how many nodes can be turned on, and then model the additional cost associated with the new generators. Lets start with loading our new data, and creating our variables"
   ]
  },
  {
   "cell_type": "code",
   "execution_count": 40,
   "metadata": {},
   "outputs": [],
   "source": [
    "# Email 6 data\n",
    "\n",
    "Num_New_Generator = 1 # Number of new generators to be constructed\n",
    "New_Capacity = 200 # Capacity of the new generator\n",
    "New_Cost = 78 # Cost of generation for the new generator ($/MWh)"
   ]
  },
  {
   "cell_type": "code",
   "execution_count": 41,
   "metadata": {},
   "outputs": [],
   "source": [
    "# Email 6 variables\n",
    "\n",
    "# X gives amount of energy generated by generators at node n in time period t \n",
    "X = {(n,t): m.addVar() for n in N for t in T}\n",
    "\n",
    "# Y gives flow of energy on arc a in time period t\n",
    "Y = {(a,t): m.addVar() for a in A for t in T}\n",
    "\n",
    "# I indicates whether the capacity is increased for all arcs\n",
    "I = {a: m.addVar(vtype=GRB.BINARY) for a in A}\n",
    "\n",
    "# N_G indicates whether the node is chosen as a new generator\n",
    "N_G = {n: m.addVar(vtype=GRB.BINARY) for n in N if n not in supply} "
   ]
  },
  {
   "cell_type": "markdown",
   "metadata": {},
   "source": [
    "We now have a new generator that generates power and costs money. Since we are trying to minimize cost, this will require an alteration to our objective:"
   ]
  },
  {
   "cell_type": "code",
   "execution_count": 42,
   "metadata": {},
   "outputs": [],
   "source": [
    "# Email 6 objectives \n",
    "\n",
    "m.setObjective(4*(quicksum(costs[n]*X[n,t] for n in costs for t in T)\n",
    "               + quicksum(New_Cost*X[n,t] for n in N for t in T if n not in costs)), GRB.MINIMIZE)"
   ]
  },
  {
   "cell_type": "markdown",
   "metadata": {},
   "source": [
    "This additional line will pick up the energy generated by the new generator and multiply it by the new generator cost.\n",
    "\n",
    "Like before, we need a constraint that limits the number of nodes that receive a new generator, restricting it to nodes that do not already have a generator. \n",
    "\n",
    "Most of the other constraints remain the same, however we do augment one constraint in a very subtle but important way"
   ]
  },
  {
   "cell_type": "code",
   "execution_count": 43,
   "metadata": {},
   "outputs": [],
   "source": [
    "# Email 6 constraints\n",
    "\n",
    "# restrict the number of extra-capacity transmission lines\n",
    "m.addConstr(quicksum(I[a] for a in A) == Num_Inc_Lines)\n",
    "\n",
    "# restrict the number of new gas generator(s)\n",
    "m.addConstr(quicksum(N_G[n] for n in N if n not in supply) == Num_New_Generator)\n",
    "\n",
    "for t in T:    \n",
    "    for a in A:\n",
    "        if not a in highs:\n",
    "            # Restrict to max capacity of lines + additional capacity if applicable\n",
    "            m.addConstr(Y[a,t] <= lowlimit + Extra_Arc_Cap*I[a])\n",
    "    \n",
    "    for n in N:\n",
    "        # Balancing the power flow at each node and in each time period\n",
    "        m.addConstr(quicksum(Y[a,t]*(1-loss*distance[a]) for a in A if arcs['Node2'][a] == n) + X[n,t]  ==\n",
    "                    quicksum(Y[a,t] for a in A if arcs['Node1'][a] == n) + D[n][t])\n",
    "        \n",
    "        if n in supply:\n",
    "            # Power generated by existing generators under capacity\n",
    "            m.addConstr(X[n,t] <= supply[n])\n",
    "        else: \n",
    "            # Forcing constraint + Capacity of the gas generator if applicable at node n\n",
    "            m.addConstr(X[n,t] <= N_G[n]*New_Capacity)"
   ]
  },
  {
   "cell_type": "markdown",
   "metadata": {},
   "source": [
    "Our forcing constraint has taken on a very new look, but it still largely performs the same role as before. Here is how to interpret it:\n",
    "* when `N_G[n] == 0`, it is a normal node, so `X[n,t] <= 0 * New_Capacity == 0`. This is basically the forcing constraint as before \n",
    "* when `N_G[n] == 1`, it is a new generator, so `X[n,t] <= New_Capacity`, which we can now use in our objective\n"
   ]
  },
  {
   "cell_type": "code",
   "execution_count": 44,
   "metadata": {},
   "outputs": [
    {
     "name": "stdout",
     "output_type": "stream",
     "text": [
      "Gurobi Optimizer version 9.1.1 build v9.1.1rc0 (win64)\n",
      "Thread count: 4 physical cores, 8 logical processors, using up to 8 threads\n",
      "Optimize a model with 5352 rows, 5364 columns and 15934 nonzeros\n",
      "Model fingerprint: 0x8df14459\n",
      "Variable types: 4930 continuous, 434 integer (434 binary)\n",
      "Coefficient statistics:\n",
      "  Matrix range     [1e+00, 2e+02]\n",
      "  Objective range  [3e+02, 3e+02]\n",
      "  Bounds range     [1e+00, 1e+00]\n",
      "  RHS range        [1e+00, 2e+03]\n",
      "\n",
      "MIP start from previous solve produced solution with objective 3.20687e+06 (0.07s)\n",
      "MIP start from previous solve produced solution with objective 3.20147e+06 (0.07s)\n",
      "MIP start from previous solve produced solution with objective 3.20032e+06 (0.18s)\n",
      "Loaded MIP start from previous solve with objective 3.20032e+06\n",
      "\n",
      "Presolve removed 3718 rows and 3678 columns\n",
      "Presolve time: 0.04s\n",
      "Presolved: 1634 rows, 1686 columns, 5514 nonzeros\n",
      "Variable types: 1464 continuous, 222 integer (222 binary)\n",
      "\n",
      "Root relaxation: objective 3.194360e+06, 1494 iterations, 0.03 seconds\n",
      "\n",
      "    Nodes    |    Current Node    |     Objective Bounds      |     Work\n",
      " Expl Unexpl |  Obj  Depth IntInf | Incumbent    BestBd   Gap | It/Node Time\n",
      "\n",
      "     0     0 3194360.01    0   12 3200321.86 3194360.01  0.19%     -    0s\n",
      "     0     0 3197957.05    0   12 3200321.86 3197957.05  0.07%     -    0s\n",
      "     0     0 3198344.18    0   14 3200321.86 3198344.18  0.06%     -    0s\n",
      "     0     0 3198355.20    0   12 3200321.86 3198355.20  0.06%     -    0s\n",
      "     0     0 3199159.92    0   12 3200321.86 3199159.92  0.04%     -    0s\n",
      "     0     0 3199291.80    0   11 3200321.86 3199291.80  0.03%     -    0s\n",
      "     0     0 3200053.60    0   11 3200321.86 3200053.60  0.01%     -    0s\n",
      "\n",
      "Cutting planes:\n",
      "  Gomory: 4\n",
      "  MIR: 29\n",
      "  Flow cover: 140\n",
      "\n",
      "Explored 1 nodes (1842 simplex iterations) in 0.47 seconds\n",
      "Thread count was 8 (of 8 available processors)\n",
      "\n",
      "Solution count 3: 3.20032e+06 3.20147e+06 3.20687e+06 \n",
      "\n",
      "Optimal solution found (tolerance 1.00e-04)\n",
      "Best objective 3.200321858046e+06, best bound 3.200053600992e+06, gap 0.0084%\n",
      "Minimum cost = $ 3200321.858046277\n"
     ]
    }
   ],
   "source": [
    "m.optimize()\n",
    "print(\"Minimum cost = $\",m.objVal)"
   ]
  },
  {
   "cell_type": "markdown",
   "metadata": {},
   "source": [
    "Once again, we can check which node was switched on, and we can also see what the generation profile looks like. "
   ]
  },
  {
   "cell_type": "code",
   "execution_count": 45,
   "metadata": {},
   "outputs": [
    {
     "name": "stdout",
     "output_type": "stream",
     "text": [
      "33 1.0 0.0\n",
      "33 1.0 0.0\n",
      "33 1.0 133.13\n",
      "33 1.0 200.0\n",
      "33 1.0 200.0\n",
      "33 1.0 200.0\n"
     ]
    }
   ],
   "source": [
    "for t in T:\n",
    "    for n in N: \n",
    "        if n not in supply:\n",
    "            if N_G[n].x > 0.9:\n",
    "                print(n, N_G[n].x, round(X[n,t].x,2))"
   ]
  },
  {
   "cell_type": "markdown",
   "metadata": {},
   "source": [
    "No demand overnight, maxed out demand in peak periods. Makes perfect sense. Okay on to the next email:\n",
    "***\n",
    "_Unfortunately the local government has declined our application to build the new generator at Node 33. Could you propose an alternative site we should use? We realise that this may affect your earlier proposal on which transmission lines to upgrade._\n",
    "\n",
    "_Please provide us with the optimal total cost over the day for meeting the demand in each of the six time periods from our generators._\n",
    "***\n",
    "\n",
    "Okay so our previous analysis found the optimal configuration for a new generator. Our new model is going to only include one extra constraint which specifically excludes node 33"
   ]
  },
  {
   "cell_type": "code",
   "execution_count": 46,
   "metadata": {},
   "outputs": [],
   "source": [
    "# Email 7 data\n",
    "\n",
    "Declined_node = 33"
   ]
  },
  {
   "cell_type": "code",
   "execution_count": 47,
   "metadata": {},
   "outputs": [
    {
     "data": {
      "text/plain": [
       "<gurobi.Constr *Awaiting Model Update*>"
      ]
     },
     "execution_count": 47,
     "metadata": {},
     "output_type": "execute_result"
    }
   ],
   "source": [
    "# Email 7 constraint\n",
    "\n",
    "m.addConstr(N_G[Declined_node] == 0)"
   ]
  },
  {
   "cell_type": "markdown",
   "metadata": {},
   "source": [
    "In this case, we do not need to redeclare our variables, objective or constraints, so lets just go."
   ]
  },
  {
   "cell_type": "code",
   "execution_count": 48,
   "metadata": {},
   "outputs": [
    {
     "name": "stdout",
     "output_type": "stream",
     "text": [
      "Gurobi Optimizer version 9.1.1 build v9.1.1rc0 (win64)\n",
      "Thread count: 4 physical cores, 8 logical processors, using up to 8 threads\n",
      "Optimize a model with 5353 rows, 5364 columns and 15935 nonzeros\n",
      "Model fingerprint: 0x3f6261c8\n",
      "Variable types: 4930 continuous, 434 integer (434 binary)\n",
      "Coefficient statistics:\n",
      "  Matrix range     [1e+00, 2e+02]\n",
      "  Objective range  [3e+02, 3e+02]\n",
      "  Bounds range     [1e+00, 1e+00]\n",
      "  RHS range        [1e+00, 2e+03]\n",
      "\n",
      "MIP start from previous solve did not produce a new incumbent solution\n",
      "MIP start from previous solve violates constraint R5352 by 1.000000000\n",
      "\n",
      "Presolve removed 3725 rows and 3685 columns\n",
      "Presolve time: 0.05s\n",
      "Presolved: 1628 rows, 1679 columns, 5495 nonzeros\n",
      "Variable types: 1458 continuous, 221 integer (221 binary)\n",
      "\n",
      "Root relaxation: objective 3.194726e+06, 1408 iterations, 0.03 seconds\n",
      "\n",
      "    Nodes    |    Current Node    |     Objective Bounds      |     Work\n",
      " Expl Unexpl |  Obj  Depth IntInf | Incumbent    BestBd   Gap | It/Node Time\n",
      "\n",
      "     0     0 3194725.52    0   11          - 3194725.52      -     -    0s\n",
      "H    0     0                    3206873.7823 3194725.52  0.38%     -    0s\n",
      "H    0     0                    3201470.5658 3194725.52  0.21%     -    0s\n",
      "H    0     0                    3200629.1711 3194725.52  0.18%     -    0s\n",
      "     0     0 3197803.35    0   12 3200629.17 3197803.35  0.09%     -    0s\n",
      "H    0     0                    3200414.7222 3197803.35  0.08%     -    0s\n",
      "     0     0 3197923.32    0   13 3200414.72 3197923.32  0.08%     -    0s\n",
      "     0     0 3197943.47    0   11 3200414.72 3197943.47  0.08%     -    0s\n",
      "     0     0 3197943.47    0   11 3200414.72 3197943.47  0.08%     -    0s\n",
      "     0     0 3199146.80    0   12 3200414.72 3199146.80  0.04%     -    0s\n",
      "     0     0 3200094.68    0   10 3200414.72 3200094.68  0.01%     -    0s\n",
      "     0     0 3200100.28    0   10 3200414.72 3200100.28  0.01%     -    0s\n",
      "\n",
      "Cutting planes:\n",
      "  Gomory: 5\n",
      "  MIR: 22\n",
      "  Flow cover: 139\n",
      "\n",
      "Explored 1 nodes (1726 simplex iterations) in 0.26 seconds\n",
      "Thread count was 8 (of 8 available processors)\n",
      "\n",
      "Solution count 4: 3.20041e+06 3.20063e+06 3.20147e+06 3.20687e+06 \n",
      "\n",
      "Optimal solution found (tolerance 1.00e-04)\n",
      "Best objective 3.200414722247e+06, best bound 3.200100275115e+06, gap 0.0098%\n",
      "Minimum cost = $ 3200414.7222472364\n"
     ]
    }
   ],
   "source": [
    "m.optimize()\n",
    "print(\"Minimum cost = $\",m.objVal)"
   ]
  },
  {
   "cell_type": "code",
   "execution_count": 49,
   "metadata": {},
   "outputs": [
    {
     "name": "stdout",
     "output_type": "stream",
     "text": [
      "26 1.0 0.0\n",
      "26 1.0 0.0\n",
      "26 1.0 126.21\n",
      "26 1.0 200.0\n",
      "26 1.0 200.0\n",
      "26 1.0 200.0\n"
     ]
    }
   ],
   "source": [
    "for t in T:\n",
    "    for n in N: \n",
    "        if n not in supply:\n",
    "            if N_G[n].x > 0.9:\n",
    "                print(n, N_G[n].x, round(X[n,t].x,2))"
   ]
  },
  {
   "cell_type": "markdown",
   "metadata": {},
   "source": [
    "Excluding node 33 causes the model to optimize for node 26 instead, and it's under $100 more expensive, so maybe the local council has made the correct choice. \n",
    "\n",
    "***\n",
    "\n",
    "_We're excited to let you know that we have the go-ahead to build the gas generator. Due to the design of the gas generator, we can only run it during four time periods (16 hours) each day. Given our current demands, which time periods should it be operated? We realise that this may affect your earlier proposals on which transmission lines to upgrade and even where we should build the new gas generator._\n",
    "\n",
    "_Please provide us with the optimal total cost over the day for meeting the demand in each of the six time periods from our generators._\n",
    "\n",
    "***\n",
    "\n",
    "This request seems a little redundant; we have already analysed the result of the last modelling exercise and two of the 6 periods are already at zero. We will implement the new requirements as requested, but the prediction is that the objective value will be the same. However they raise a good point, does the placement of this new generator alter the high capacity lines we optimised earlier?\n",
    "\n",
    "Lets start with the new data (max number of periods)"
   ]
  },
  {
   "cell_type": "code",
   "execution_count": 50,
   "metadata": {},
   "outputs": [],
   "source": [
    "# Email 8 data\n",
    "\n",
    "New_Periods = 4 # Number of periods that the gas generator can run per day"
   ]
  },
  {
   "cell_type": "markdown",
   "metadata": {},
   "source": [
    "We'll need a new binary variable to select the optimal periods"
   ]
  },
  {
   "cell_type": "code",
   "execution_count": 51,
   "metadata": {},
   "outputs": [],
   "source": [
    "# Email 8 variable\n",
    "\n",
    "#X gives amount generated by generators (including the gas generator) at node n in time period t\n",
    "X = {(n,t): m.addVar() for n in N for t in T}\n",
    "\n",
    "# Y gives flow on arc a in time period t\n",
    "Y = {(a,t): m.addVar() for a in A for t in T}\n",
    "\n",
    "# I indicates whether the capacity is increased for all arcs\n",
    "I = {a: m.addVar(vtype=GRB.BINARY) for a in A}\n",
    "\n",
    "# N_G indicates whether the node is chosen as a new generator\n",
    "N_G = {n: m.addVar(vtype=GRB.BINARY) for n in N if n not in supply} \n",
    "\n",
    "# P indicates in which periods the gas generator should run\n",
    "P = {t: m.addVar(vtype=GRB.BINARY) for t in T}\n"
   ]
  },
  {
   "cell_type": "code",
   "execution_count": 52,
   "metadata": {},
   "outputs": [],
   "source": [
    "# Email 8 objective\n",
    "\n",
    "m.setObjective(4*(quicksum(costs[n]*X[n,t] for n in costs for t in T)\n",
    "               + quicksum(New_Cost*X[n,t] for n in N for t in T if n not in costs)), GRB.MINIMIZE)"
   ]
  },
  {
   "cell_type": "markdown",
   "metadata": {},
   "source": [
    "New constraints too, we'll add them to the previous ones. "
   ]
  },
  {
   "cell_type": "code",
   "execution_count": 53,
   "metadata": {},
   "outputs": [],
   "source": [
    "# Email 8 constraints\n",
    "\n",
    "# restrict the number of extra-capacity transmission lines\n",
    "m.addConstr(quicksum(I[a] for a in A) == Num_Inc_Lines)\n",
    "\n",
    "# Total number of time periods where the gas generator is operational\n",
    "m.addConstr(quicksum(P[t] for t in T) == New_Periods)\n",
    "\n",
    "# Exclude building new generator at the declined node\n",
    "m.addConstr(N_G[Declined_node] == 0)\n",
    "\n",
    "# Total number of new gas generator(s)\n",
    "m.addConstr(quicksum(N_G[n] for n in N if n not in supply) == Num_New_Generator)\n",
    "\n",
    "for t in T:    \n",
    "    for a in A:\n",
    "        if not a in highs:\n",
    "            # Restrict to max capacity of lines + additional capacity if applicable\n",
    "            m.addConstr(Y[a,t] <= lowlimit + Extra_Arc_Cap*I[a])\n",
    "    \n",
    "    for n in N:\n",
    "        # Balancing the power flow at each node and in each time period\n",
    "        m.addConstr(quicksum(Y[a,t]*(1-loss*distance[a]) for a in A if arcs['Node2'][a] == n) + X[n,t]  ==\n",
    "                    quicksum(Y[a,t] for a in A if arcs['Node1'][a] == n) + D[n][t])\n",
    "        \n",
    "        if n in supply:\n",
    "            # Power generated by existing generators under capacity\n",
    "            m.addConstr(X[n,t] <= supply[n])\n",
    "        else: \n",
    "            # Forcing constraint + Capacity of the gas generator at node n\n",
    "            m.addConstr(X[n,t] <= N_G[n] * New_Capacity)\n",
    "            # Capacity of the gas generator in time period t\n",
    "            m.addConstr(X[n,t] <= P[t] * New_Capacity)"
   ]
  },
  {
   "cell_type": "code",
   "execution_count": 54,
   "metadata": {},
   "outputs": [
    {
     "name": "stdout",
     "output_type": "stream",
     "text": [
      "Gurobi Optimizer version 9.1.1 build v9.1.1rc0 (win64)\n",
      "Thread count: 4 physical cores, 8 logical processors, using up to 8 threads\n",
      "Optimize a model with 7289 rows, 7074 columns and 22050 nonzeros\n",
      "Model fingerprint: 0xd1a171a7\n",
      "Variable types: 6394 continuous, 680 integer (680 binary)\n",
      "Coefficient statistics:\n",
      "  Matrix range     [1e+00, 2e+02]\n",
      "  Objective range  [3e+02, 3e+02]\n",
      "  Bounds range     [1e+00, 1e+00]\n",
      "  RHS range        [1e+00, 2e+03]\n",
      "\n",
      "MIP start from previous solve produced solution with objective 3.21465e+06 (0.08s)\n",
      "MIP start from previous solve produced solution with objective 3.20147e+06 (0.08s)\n",
      "MIP start from previous solve produced solution with objective 3.20041e+06 (0.19s)\n",
      "Loaded MIP start from previous solve with objective 3.20041e+06\n",
      "\n",
      "Presolve removed 5390 rows and 5389 columns\n",
      "Presolve time: 0.08s\n",
      "Presolved: 1899 rows, 1685 columns, 6041 nonzeros\n",
      "Variable types: 1458 continuous, 227 integer (227 binary)\n",
      "\n",
      "Root relaxation: objective 3.194726e+06, 1424 iterations, 0.03 seconds\n",
      "\n",
      "    Nodes    |    Current Node    |     Objective Bounds      |     Work\n",
      " Expl Unexpl |  Obj  Depth IntInf | Incumbent    BestBd   Gap | It/Node Time\n",
      "\n",
      "     0     0 3194725.52    0   14 3200414.72 3194725.52  0.18%     -    0s\n",
      "     0     0 3197805.94    0   14 3200414.72 3197805.94  0.08%     -    0s\n",
      "     0     0 3197943.47    0   13 3200414.72 3197943.47  0.08%     -    0s\n",
      "     0     0 3197943.47    0   13 3200414.72 3197943.47  0.08%     -    0s\n",
      "     0     0 3198960.41    0   14 3200414.72 3198960.41  0.05%     -    0s\n",
      "     0     0 3199315.22    0    8 3200414.72 3199315.22  0.03%     -    0s\n",
      "     0     0 3199348.21    0   14 3200414.72 3199348.21  0.03%     -    0s\n",
      "     0     0 3199348.87    0    9 3200414.72 3199348.87  0.03%     -    0s\n",
      "\n",
      "Cutting planes:\n",
      "  Gomory: 4\n",
      "  MIR: 31\n",
      "  Flow cover: 160\n",
      "  RLT: 9\n",
      "\n",
      "Explored 1 nodes (1766 simplex iterations) in 0.52 seconds\n",
      "Thread count was 8 (of 8 available processors)\n",
      "\n",
      "Solution count 3: 3.20041e+06 3.20147e+06 3.21465e+06 \n",
      "\n",
      "Optimal solution found (tolerance 1.00e-04)\n",
      "Best objective 3.200414722247e+06, best bound 3.200414722247e+06, gap 0.0000%\n",
      "Minimum cost = $ 3200414.722247237\n"
     ]
    }
   ],
   "source": [
    "m.optimize()\n",
    "print(\"Minimum cost = $\",m.objVal)"
   ]
  },
  {
   "cell_type": "code",
   "execution_count": 55,
   "metadata": {
    "scrolled": true
   },
   "outputs": [
    {
     "name": "stdout",
     "output_type": "stream",
     "text": [
      "node 26 : period 0 :  0.0\n",
      "node 26 : period 1 :  0.0\n",
      "node 26 : period 2 :  126.21\n",
      "node 26 : period 3 :  200.0\n",
      "node 26 : period 4 :  200.0\n",
      "node 26 : period 5 :  200.0\n"
     ]
    }
   ],
   "source": [
    "for t in T:\n",
    "    for n in N: \n",
    "        if n not in supply:\n",
    "            if N_G[n].x > 0.9:\n",
    "                print('node',n, ': period',t, ': ',round(X[n,t].x,2))"
   ]
  },
  {
   "cell_type": "markdown",
   "metadata": {},
   "source": [
    "Well it doesn't tell us much as it looks the same as before, but let's make sure the binary variable is working as expected"
   ]
  },
  {
   "cell_type": "code",
   "execution_count": 56,
   "metadata": {},
   "outputs": [
    {
     "name": "stdout",
     "output_type": "stream",
     "text": [
      "period 0 :  -0.0\n",
      "period 1 :  0.0\n",
      "period 2 :  1.0\n",
      "period 3 :  1.0\n",
      "period 4 :  1.0\n",
      "period 5 :  1.0\n"
     ]
    }
   ],
   "source": [
    "for t in T:\n",
    "    print('period' , t, ': ' ,P[t].x)"
   ]
  },
  {
   "cell_type": "markdown",
   "metadata": {},
   "source": [
    "Very good, periods zero and one are switched off. And what about our high capacity arcs? "
   ]
  },
  {
   "cell_type": "code",
   "execution_count": 57,
   "metadata": {},
   "outputs": [
    {
     "name": "stdout",
     "output_type": "stream",
     "text": [
      "arc 85 : period 0 :  112.22\n",
      "arc 85 : period 1 :  145.67\n",
      "arc 85 : period 2 :  150.0\n",
      "arc 85 : period 3 :  150.0\n",
      "arc 85 : period 4 :  150.0\n",
      "arc 85 : period 5 :  150.0\n",
      "arc 95 : period 0 :  73.36\n",
      "arc 95 : period 1 :  124.37\n",
      "arc 95 : period 2 :  133.24\n",
      "arc 95 : period 3 :  150.0\n",
      "arc 95 : period 4 :  149.4\n",
      "arc 95 : period 5 :  150.0\n",
      "arc 177 : period 0 :  150.0\n",
      "arc 177 : period 1 :  114.29\n",
      "arc 177 : period 2 :  129.41\n",
      "arc 177 : period 3 :  150.0\n",
      "arc 177 : period 4 :  150.0\n",
      "arc 177 : period 5 :  127.65\n"
     ]
    }
   ],
   "source": [
    "for a in A: \n",
    "    for t in T:\n",
    "        if I[a].x > 0.9:\n",
    "            print('arc',a, ': period',t, ': ',round(Y[a,t].x,2))"
   ]
  },
  {
   "cell_type": "markdown",
   "metadata": {},
   "source": [
    "Appears to be exactly the same high capacity arcs and the same transmission profile throughout the day. Okay, next email:\n",
    "\n",
    "***\n",
    "_In addition to the gas generator, we can also build a solar farm at one of the nodes. This will produce electricity over the day as follows:_\n",
    "\n",
    "|Time Period|0–4|4–8|8–12|12–16|16–20|20–24|\n",
    "| :-: | :-: | :-: | :-: | :-: | :-: | :-: | \n",
    "|Supply (MW)|0|20|120|110|20|0|\n",
    "\n",
    "_The cost of the solar electricity is $42/MWh. Where should we build this solar farm? Note that any existing demand at the node where it is located will still need to be met._\n",
    "\n",
    "_Please provide us with the optimal total cost over the day for meeting the demand in each of the six time periods from our combined generators. We realise that this may affect your earlier proposals on which transmission lines to upgrade and where we should build the new gas generator._\n",
    "\n",
    "***\n",
    "\n",
    "Finally, some solar generation! I was becoming conflicted helping this fossil energy generator maximise their shareholders' profits. This will be very similar to our new gas generator process (new objective, variable, and constraints) with a bit more data surrounding generation profile too\n"
   ]
  },
  {
   "cell_type": "code",
   "execution_count": 58,
   "metadata": {},
   "outputs": [],
   "source": [
    "# Email 9 data\n",
    "\n",
    "Num_Solar_Farm = 1 # Number of solar farm(s)\n",
    "Supply_SF = [0,20,120,110,20,0] # Capacity of the solar farm in different time periods \n",
    "Cost_SF = 42 # Cost of energy production at the solar farm p/MWh"
   ]
  },
  {
   "cell_type": "code",
   "execution_count": 59,
   "metadata": {},
   "outputs": [],
   "source": [
    "# Email 9 variables\n",
    "\n",
    "# X gives amount generated by generators (including the gas generator) at node n in time period t \n",
    "X = {(n,t): m.addVar() for n in N for t in T}\n",
    "\n",
    "# Y gives flow on arc a in time period t\n",
    "Y = {(a,t): m.addVar() for a in A for t in T}\n",
    "\n",
    "# I indicates whether the capacity is increased for arc a \n",
    "I = {a: m.addVar(vtype=GRB.BINARY) for a in A}\n",
    "\n",
    "# N_G indicates whether the node is chosen as a new generator\n",
    "N_G = {n: m.addVar(vtype=GRB.BINARY) for n in N if n not in supply} \n",
    "\n",
    "# P indicates in which periods the gas generator should run\n",
    "P = {t: m.addVar(vtype=GRB.BINARY) for t in T}\n",
    "\n",
    "# S indicates whether the node is chosen to build a solar farm\n",
    "S = {n: m.addVar(vtype=GRB.BINARY) for n in N}\n",
    "\n",
    "# Z gives amount generated by the solar farm at node n in time period t\n",
    "Z = {(n,t): m.addVar() for n in N for t in T}"
   ]
  },
  {
   "cell_type": "code",
   "execution_count": 60,
   "metadata": {},
   "outputs": [],
   "source": [
    "# Email 9 objective\n",
    "\n",
    "m.setObjective(4*(quicksum(costs[n]*X[n,t] for n in costs for t in T)\n",
    "                + quicksum(New_Cost*X[n,t] for n in N for t in T if n not in costs)\n",
    "                + quicksum(Cost_SF*Z[n,t] for n in N for t in T)), GRB.MINIMIZE)"
   ]
  },
  {
   "cell_type": "code",
   "execution_count": 61,
   "metadata": {},
   "outputs": [],
   "source": [
    "# Email 9 constraints \n",
    "\n",
    "# restrict the number of extra-capacity transmission lines\n",
    "m.addConstr(quicksum(I[a] for a in A) == Num_Inc_Lines)\n",
    "\n",
    "# Total number of time periods where the gas generator is operational\n",
    "m.addConstr(quicksum(P[t] for t in T) == New_Periods)\n",
    "\n",
    "# Exclude building new generator at the declined node\n",
    "m.addConstr(N_G[Declined_node] == 0)\n",
    "\n",
    "# Total number of new gas generator(s)\n",
    "m.addConstr(quicksum(N_G[n] for n in N if n not in supply) == Num_New_Generator)\n",
    "\n",
    "# Total number of solar farm(s)\n",
    "m.addConstr(quicksum(S[n] for n in N) == Num_Solar_Farm)\n",
    "\n",
    "for t in T:\n",
    "    for a in A:\n",
    "        if not a in highs:\n",
    "            # Capacity of lines with additional capacity if applicable\n",
    "            m.addConstr(Y[a,t] <= lowlimit + Extra_Arc_Cap*I[a])\n",
    "            \n",
    "    for n in N:\n",
    "        # Balancing the power flow at each node and in each time period\n",
    "        m.addConstr(quicksum(Y[a,t]*(1-loss*distance[a]) for a in A if arcs['Node2'][a] == n) + X[n,t] + Z[n,t]  ==\n",
    "                    quicksum(Y[a,t] for a in A if arcs['Node1'][a] == n) + D[n][t])\n",
    "        \n",
    "        # Power generated by the solar farm at node n and in time period t\n",
    "        m.addConstr(Z[n,t] <= S[n]*Supply_SF[t])\n",
    "        \n",
    "        if n in supply:\n",
    "            # Power generated by existing generators under capacity\n",
    "            m.addConstr(X[n,t] <= supply[n])\n",
    "            \n",
    "        else: \n",
    "            # Capacity of new gas generator at node n\n",
    "            m.addConstr(X[n,t] <= N_G[n]*New_Capacity)\n",
    "            \n",
    "            # Capacity of new gas generator in time period t\n",
    "            m.addConstr(X[n,t] <= P[t] * New_Capacity)\n",
    "            "
   ]
  },
  {
   "cell_type": "markdown",
   "metadata": {},
   "source": [
    "Similar to the new gas generator, we have constraint that limits the number of solar generators we can construct by allowing variable `Z[n,t] == 1`  once. We then use that variable to 'switch on' the node and allow it to generate power as per the generation profile data."
   ]
  },
  {
   "cell_type": "code",
   "execution_count": 62,
   "metadata": {
    "scrolled": true
   },
   "outputs": [
    {
     "name": "stdout",
     "output_type": "stream",
     "text": [
      "Gurobi Optimizer version 9.1.1 build v9.1.1rc0 (win64)\n",
      "Thread count: 4 physical cores, 8 logical processors, using up to 8 threads\n",
      "Optimize a model with 9526 rows, 9134 columns and 29015 nonzeros\n",
      "Model fingerprint: 0xc2e4c72b\n",
      "Variable types: 8158 continuous, 976 integer (976 binary)\n",
      "Coefficient statistics:\n",
      "  Matrix range     [1e+00, 2e+02]\n",
      "  Objective range  [2e+02, 3e+02]\n",
      "  Bounds range     [1e+00, 1e+00]\n",
      "  RHS range        [1e+00, 2e+03]\n",
      "\n",
      "MIP start from previous solve produced solution with objective 3.17408e+06 (0.10s)\n",
      "MIP start from previous solve produced solution with objective 3.16223e+06 (0.11s)\n",
      "MIP start from previous solve produced solution with objective 3.15875e+06 (0.21s)\n",
      "Loaded MIP start from previous solve with objective 3.15875e+06\n",
      "\n",
      "Presolve removed 7426 rows and 7199 columns\n",
      "Presolve time: 0.13s\n",
      "Presolved: 2100 rows, 1935 columns, 6691 nonzeros\n",
      "Variable types: 1658 continuous, 277 integer (277 binary)\n",
      "\n",
      "Root relaxation: objective 3.152702e+06, 1983 iterations, 0.04 seconds\n",
      "\n",
      "    Nodes    |    Current Node    |     Objective Bounds      |     Work\n",
      " Expl Unexpl |  Obj  Depth IntInf | Incumbent    BestBd   Gap | It/Node Time\n",
      "\n",
      "     0     0 3152701.89    0   22 3158750.59 3152701.89  0.19%     -    0s\n",
      "     0     0 3155911.81    0   17 3158750.59 3155911.81  0.09%     -    0s\n",
      "     0     0 3156432.61    0   23 3158750.59 3156432.61  0.07%     -    0s\n",
      "     0     0 3156500.04    0   22 3158750.59 3156500.04  0.07%     -    0s\n",
      "     0     0 3157599.86    0   19 3158750.59 3157599.86  0.04%     -    0s\n",
      "     0     0 3157808.13    0   18 3158750.59 3157808.13  0.03%     -    0s\n",
      "     0     0 3157858.30    0   19 3158750.59 3157858.30  0.03%     -    0s\n",
      "     0     0 3157864.10    0   17 3158750.59 3157864.10  0.03%     -    0s\n",
      "     0     0 3157864.53    0   19 3158750.59 3157864.53  0.03%     -    0s\n",
      "     0     0 3158229.54    0   15 3158750.59 3158229.54  0.02%     -    0s\n",
      "     0     0 3158423.08    0   11 3158750.59 3158423.08  0.01%     -    0s\n",
      "     0     0 3158443.63    0   13 3158750.59 3158443.63  0.01%     -    0s\n",
      "\n",
      "Cutting planes:\n",
      "  Gomory: 1\n",
      "  MIR: 64\n",
      "  Flow cover: 162\n",
      "  RLT: 10\n",
      "\n",
      "Explored 1 nodes (2563 simplex iterations) in 0.76 seconds\n",
      "Thread count was 8 (of 8 available processors)\n",
      "\n",
      "Solution count 3: 3.15875e+06 3.16223e+06 3.17408e+06 \n",
      "\n",
      "Optimal solution found (tolerance 1.00e-04)\n",
      "Best objective 3.158750587158e+06, best bound 3.158443630175e+06, gap 0.0097%\n",
      "Minimum cost = $ 3158750.587157522\n"
     ]
    }
   ],
   "source": [
    "m.optimize()\n",
    "print(\"Minimum cost = $\",m.objVal)"
   ]
  },
  {
   "cell_type": "markdown",
   "metadata": {},
   "source": [
    "So where did this new Solar farm get constructed, and how muchpower is it spitting out?"
   ]
  },
  {
   "cell_type": "code",
   "execution_count": 63,
   "metadata": {},
   "outputs": [
    {
     "name": "stdout",
     "output_type": "stream",
     "text": [
      "solar node 40 : period 0 : 0.0\n",
      "solar node 40 : period 1 : 20.0\n",
      "solar node 40 : period 2 : 120.0\n",
      "solar node 40 : period 3 : 110.0\n",
      "solar node 40 : period 4 : 20.0\n",
      "solar node 40 : period 5 : 0.0\n"
     ]
    }
   ],
   "source": [
    "for n in N:\n",
    "    for t in T:\n",
    "        if S[n].x > 0.9:\n",
    "            print('solar node',n, ': period',t, ':',round(Z[n,t].x,2))"
   ]
  },
  {
   "cell_type": "markdown",
   "metadata": {},
   "source": [
    "Constructed at Node 40 and the farm is maxed out. This makes sense as this is by far the cheapest source of power in the grid, even if you account for losses from a distant node. Let's make sure our high capacity arcs are still in the same place\n"
   ]
  },
  {
   "cell_type": "code",
   "execution_count": 64,
   "metadata": {},
   "outputs": [
    {
     "name": "stdout",
     "output_type": "stream",
     "text": [
      "high arc: 85\n",
      "high arc: 95\n",
      "high arc: 177\n"
     ]
    }
   ],
   "source": [
    "for a in A:\n",
    "    if I[a].x > 0.9:\n",
    "        print('high arc:',a)"
   ]
  },
  {
   "cell_type": "markdown",
   "metadata": {},
   "source": [
    "Okay nothing has changed here, so on to the next email\n",
    "\n",
    "***\n",
    "_The costs we have given you for our original four generators are rather simplistic. In practice, the generators operate efficiently up to 60% of their capacity but after that they become more expensive to run. We estimate this increase in cost to be 30% on top of the original values we gave you._\n",
    "\n",
    "_For example, the generator at Node 20 will run at a cost of \\\\$65/MWh when supplying no more than 243.6 MW. Beyond that threshold, it will then cost \\\\$84.5/MWh to run._\n",
    "\n",
    "_Taking these revised costs into account, please provide us with the optimal total cost over the day for meeting the demand in each of the six time periods from our combined generators. We realise that this may affect your earlier proposals on which transmission lines to upgrade and where we should build the new gas generator and solar farm._\n",
    "***\n",
    "\n",
    "Okay now things are starting to look more like a real network, where costs are not static. Binary variables can be used to switch between higher and lower costs as well as just on/off reasons. The data for this is actually very straightforward: a simple threshold and simple percentage increase:"
   ]
  },
  {
   "cell_type": "code",
   "execution_count": 65,
   "metadata": {},
   "outputs": [],
   "source": [
    "# Email 10 data\n",
    "\n",
    "Cap_Threshold = 0.6 # Threshold of generators above which power production is less efficient\n",
    "Extra_Cost = 0.3 # Cost increase (%) of power when generator production exceeds "
   ]
  },
  {
   "cell_type": "markdown",
   "metadata": {},
   "source": [
    "We will need to include two new variables. One of them `'O'` will be an indicator that switches on when the generator is operating above the threshold. Another continuous variable `'E'` is required to track the amount energy being produced over the threshold, as this energy will attract a different cost. As a result, our existing generator variable Y will now only track energy produced under the threshold."
   ]
  },
  {
   "cell_type": "code",
   "execution_count": 66,
   "metadata": {},
   "outputs": [],
   "source": [
    "# Email 10 variables\n",
    "\n",
    "# X gives flow on arc a in time period t\n",
    "X = {(n,t): m.addVar() for n in N for t in T}\n",
    "\n",
    "# Y gives amount generated by generators (including the gas generator) at node n in time period t within the efficient threshold\n",
    "Y = {(a,t): m.addVar() for a in A for t in T}\n",
    "\n",
    "# I indicates whether the capacity is increased for arc a\n",
    "I = {a: m.addVar(vtype=GRB.BINARY) for a in A}\n",
    "\n",
    "# N_G indicates whether the node is chosen as a new generator\n",
    "N_G = {n: m.addVar(vtype=GRB.BINARY) for n in N if n not in supply} \n",
    "\n",
    "# P indicates in which periods the gas generator should run\n",
    "P = {t: m.addVar(vtype=GRB.BINARY) for t in T}\n",
    "\n",
    "# S indicates whether the node is chosen to build a solar farm\n",
    "S = {n: m.addVar(vtype=GRB.BINARY) for n in N}\n",
    "\n",
    "# Z gives amount generated by the solar farm at node n in time period t\n",
    "Z = {(n,t): m.addVar() for n in N for t in T}\n",
    "\n",
    "# O indicates whether generator n is operating over 60% of its capacity in time period t\n",
    "O = {(n,t): m.addVar(vtype=GRB.BINARY) for n in N for t in T}\n",
    "\n",
    "# E gives the extra amount generated by generator n over 60% of their capacities in time period t\n",
    "E = {(n,t): m.addVar() for n in N for t in T}"
   ]
  },
  {
   "cell_type": "markdown",
   "metadata": {},
   "source": [
    "New objective is required here as we are producing energy that has different costs associated with it. "
   ]
  },
  {
   "cell_type": "code",
   "execution_count": 67,
   "metadata": {},
   "outputs": [],
   "source": [
    "# Email 10 objective \n",
    "\n",
    "m.setObjective(4*(quicksum(costs[n]*X[n,t] for n in costs for t in T)\n",
    "                + quicksum(New_Cost*X[n,t] for n in N for t in T if n not in costs)\n",
    "                + quicksum(Cost_SF*Z[n,t] for n in N for t in T)\n",
    "                + quicksum(costs[n]*(1+Extra_Cost)*E[n,t] for n in costs for t in T)), GRB.MINIMIZE)"
   ]
  },
  {
   "cell_type": "markdown",
   "metadata": {},
   "source": [
    "Quite a few constraints to introduce this time:\n",
    "* The new energy variable `'E'` must be included in the balancing constraint\n",
    "* Both of the threshold constraints do not apply to non-generating nodes\n",
    "* The existing supply constraint needs to be adjusted to lower the generator capacity to the threshold value\n",
    "* New constraint to deal with the energy produced above the threshold\n",
    "\n",
    "By enforcing a higher price for power generated above the threshold, our model automatically optimises the system and will try to avoid producing energy at an expensive rate unless there is no other choice. "
   ]
  },
  {
   "cell_type": "code",
   "execution_count": 68,
   "metadata": {},
   "outputs": [],
   "source": [
    "# Email 10 constraints \n",
    "\n",
    "# restrict the number of extra-capacity transmission lines\n",
    "m.addConstr(quicksum(I[a] for a in A) == Num_Inc_Lines)\n",
    "\n",
    "# Total number of time periods where the gas generator is operational\n",
    "m.addConstr(quicksum(P[t] for t in T) == New_Periods)\n",
    "\n",
    "# Exclude building new generator at the declined node\n",
    "m.addConstr(N_G[Declined_node] == 0)\n",
    "\n",
    "# Total number of new gas generator(s)\n",
    "m.addConstr(quicksum(N_G[n] for n in N if n not in supply) == Num_New_Generator)\n",
    "\n",
    "# Total number of solar farm(s)\n",
    "m.addConstr(quicksum(S[n] for n in N) == Num_Solar_Farm)\n",
    "\n",
    "for t in T:\n",
    "    for a in A:\n",
    "        if not a in highs:\n",
    "            # Capacity of lines with additional capacity if applicable\n",
    "            m.addConstr(Y[a,t] <= lowlimit + Extra_Arc_Cap*I[a])\n",
    "\n",
    "    for n in N:\n",
    "        # Balancing the power flow at each node and in each time period\n",
    "        m.addConstr(quicksum(Y[a,t]*(1-loss*distance[a]) for a in A if arcs['Node2'][a] == n) + X[n,t] + Z[n,t]  + E[n,t] ==\n",
    "                    quicksum(Y[a,t] for a in A if arcs['Node1'][a] == n) + D[n][t])\n",
    "        \n",
    "        # Power generated by the solar farm at node n and in time period t\n",
    "        m.addConstr(Z[n,t] <= S[n]*Supply_SF[t])\n",
    "        \n",
    "        if n in supply:\n",
    "            # Power generated by existing generators under threshold\n",
    "            m.addConstr(X[n,t] <= supply[n]*Cap_Threshold)\n",
    "            \n",
    "            # Power generated by existing generators beyond the threshold\n",
    "            m.addConstr(E[n,t] <= O[n,t]*supply[n]*(1-Cap_Threshold))\n",
    "            \n",
    "        else: \n",
    "            # Capacity of new gas generator at node n\n",
    "            m.addConstr(X[n,t] <= N_G[n]*New_Capacity)\n",
    "            \n",
    "            # Capacity of new gas generator in time period t\n",
    "            m.addConstr(X[n,t] <= P[t] * New_Capacity)\n",
    "                        \n",
    "            # Threshold is not applicable to non-generator nodes\n",
    "            m.addConstr(O[n,t] == 0)\n",
    "            m.addConstr(E[n,t] == 0)\n",
    "            "
   ]
  },
  {
   "cell_type": "markdown",
   "metadata": {},
   "source": [
    "That should hopefully cover it"
   ]
  },
  {
   "cell_type": "code",
   "execution_count": 69,
   "metadata": {},
   "outputs": [
    {
     "name": "stdout",
     "output_type": "stream",
     "text": [
      "Gurobi Optimizer version 9.1.1 build v9.1.1rc0 (win64)\n",
      "Thread count: 4 physical cores, 8 logical processors, using up to 8 threads\n",
      "Optimize a model with 12339 rows, 11794 columns and 36880 nonzeros\n",
      "Model fingerprint: 0xafaac029\n",
      "Variable types: 10222 continuous, 1572 integer (1572 binary)\n",
      "Coefficient statistics:\n",
      "  Matrix range     [1e+00, 3e+02]\n",
      "  Objective range  [2e+02, 4e+02]\n",
      "  Bounds range     [1e+00, 1e+00]\n",
      "  RHS range        [1e+00, 2e+03]\n",
      "\n",
      "MIP start from previous solve produced solution with objective 3.35824e+06 (0.13s)\n",
      "MIP start from previous solve produced solution with objective 3.3215e+06 (0.13s)\n",
      "MIP start from previous solve produced solution with objective 3.31917e+06 (0.23s)\n",
      "MIP start from previous solve produced solution with objective 3.31681e+06 (0.28s)\n",
      "MIP start from previous solve produced solution with objective 3.31653e+06 (0.62s)\n",
      "Loaded MIP start from previous solve with objective 3.31653e+06\n",
      "\n",
      "Presolve removed 10239 rows and 9835 columns\n",
      "Presolve time: 0.18s\n",
      "Presolved: 2100 rows, 1959 columns, 6715 nonzeros\n",
      "Variable types: 1682 continuous, 277 integer (277 binary)\n",
      "\n",
      "Root relaxation: objective 3.304422e+06, 2384 iterations, 0.05 seconds\n",
      "\n",
      "    Nodes    |    Current Node    |     Objective Bounds      |     Work\n",
      " Expl Unexpl |  Obj  Depth IntInf | Incumbent    BestBd   Gap | It/Node Time\n",
      "\n",
      "     0     0 3304421.65    0   22 3316527.98 3304421.65  0.37%     -    0s\n",
      "     0     0 3309917.66    0   17 3316527.98 3309917.66  0.20%     -    0s\n",
      "     0     0 3311027.44    0   17 3316527.98 3311027.44  0.17%     -    0s\n",
      "     0     0 3311087.80    0   19 3316527.98 3311087.80  0.16%     -    0s\n",
      "     0     0 3311101.18    0   18 3316527.98 3311101.18  0.16%     -    0s\n",
      "     0     0 3311106.58    0   19 3316527.98 3311106.58  0.16%     -    0s\n",
      "     0     0 3311109.98    0   17 3316527.98 3311109.98  0.16%     -    0s\n",
      "     0     0 3311109.98    0   18 3316527.98 3311109.98  0.16%     -    0s\n",
      "     0     0 3315477.62    0   18 3316527.98 3315477.62  0.03%     -    1s\n",
      "     0     0 3315647.37    0   17 3316527.98 3315647.37  0.03%     -    1s\n",
      "     0     0 3315658.75    0   13 3316527.98 3315658.75  0.03%     -    1s\n",
      "     0     0 3315858.94    0   17 3316527.98 3315858.94  0.02%     -    1s\n",
      "     0     0 3315858.94    0   20 3316527.98 3315858.94  0.02%     -    1s\n",
      "     0     0 3315858.94    0   15 3316527.98 3315858.94  0.02%     -    1s\n",
      "     0     0 3315858.94    0   17 3316527.98 3315858.94  0.02%     -    1s\n",
      "     0     0 3315858.94    0   16 3316527.98 3315858.94  0.02%     -    1s\n",
      "     0     0 3315859.59    0   16 3316527.98 3315859.59  0.02%     -    1s\n",
      "     0     0 3315859.81    0   16 3316527.98 3315859.81  0.02%     -    1s\n",
      "     0     0 3315933.43    0   19 3316527.98 3315933.43  0.02%     -    1s\n",
      "     0     0 3315942.42    0   18 3316527.98 3315942.42  0.02%     -    1s\n",
      "     0     0 3315943.20    0   18 3316527.98 3315943.20  0.02%     -    1s\n",
      "H    0     0                    3316507.0218 3315943.20  0.02%     -    1s\n",
      "     0     0 3316507.02    0   17 3316507.02 3316507.02  0.00%     -    1s\n",
      "\n",
      "Cutting planes:\n",
      "  Gomory: 3\n",
      "  MIR: 34\n",
      "  Flow cover: 118\n",
      "  RLT: 10\n",
      "\n",
      "Explored 1 nodes (4628 simplex iterations) in 1.40 seconds\n",
      "Thread count was 8 (of 8 available processors)\n",
      "\n",
      "Solution count 6: 3.31651e+06 3.31653e+06 3.31681e+06 ... 3.35824e+06\n",
      "\n",
      "Optimal solution found (tolerance 1.00e-04)\n",
      "Best objective 3.316507021799e+06, best bound 3.316507021799e+06, gap 0.0000%\n",
      "Minimum cost = $ 3316507.0217990926\n"
     ]
    }
   ],
   "source": [
    "m.optimize()\n",
    "print(\"Minimum cost = $\",m.objVal)\n"
   ]
  },
  {
   "cell_type": "markdown",
   "metadata": {},
   "source": [
    "Let's do our _post hoc_ analysis and see what has happened"
   ]
  },
  {
   "cell_type": "code",
   "execution_count": 70,
   "metadata": {},
   "outputs": [
    {
     "name": "stdout",
     "output_type": "stream",
     "text": [
      "node 20 : period 0 : under threshold = 243.6 : over threshold = 0.0\n",
      "node 20 : period 1 : under threshold = 243.6 : over threshold = 0.0\n",
      "node 20 : period 2 : under threshold = 243.6 : over threshold = 12.6\n",
      "node 20 : period 3 : under threshold = 243.6 : over threshold = 162.4\n",
      "node 20 : period 4 : under threshold = 243.6 : over threshold = 162.4\n",
      "node 20 : period 5 : under threshold = 243.6 : over threshold = 162.4\n",
      "new node 26 : period 0 : 0.0\n",
      "new node 26 : period 1 : 0.0\n",
      "new node 26 : period 2 : 200.0\n",
      "new node 26 : period 3 : 200.0\n",
      "new node 26 : period 4 : 200.0\n",
      "new node 26 : period 5 : 200.0\n",
      "node 35 : period 0 : under threshold = 329.46 : over threshold = 0.0\n",
      "node 35 : period 1 : under threshold = 490.8 : over threshold = 0.0\n",
      "node 35 : period 2 : under threshold = 490.8 : over threshold = 0.0\n",
      "node 35 : period 3 : under threshold = 490.8 : over threshold = 0.0\n",
      "node 35 : period 4 : under threshold = 490.8 : over threshold = 176.83\n",
      "node 35 : period 5 : under threshold = 490.8 : over threshold = 0.0\n",
      "node 37 : period 0 : under threshold = 0.0 : over threshold = 0.0\n",
      "node 37 : period 1 : under threshold = 261.01 : over threshold = 0.0\n",
      "node 37 : period 2 : under threshold = 303.22 : over threshold = 0.0\n",
      "node 37 : period 3 : under threshold = 392.4 : over threshold = 0.0\n",
      "node 37 : period 4 : under threshold = 392.4 : over threshold = 0.0\n",
      "node 37 : period 5 : under threshold = 392.4 : over threshold = 0.0\n",
      "solar node 41 : period 0 : 0.0\n",
      "solar node 41 : period 1 : 20.0\n",
      "solar node 41 : period 2 : 120.0\n",
      "solar node 41 : period 3 : 110.0\n",
      "solar node 41 : period 4 : 20.0\n",
      "solar node 41 : period 5 : 0.0\n",
      "node 45 : period 0 : under threshold = 502.8 : over threshold = 0.0\n",
      "node 45 : period 1 : under threshold = 502.8 : over threshold = 0.0\n",
      "node 45 : period 2 : under threshold = 502.8 : over threshold = 0.0\n",
      "node 45 : period 3 : under threshold = 502.8 : over threshold = 40.15\n",
      "node 45 : period 4 : under threshold = 502.8 : over threshold = 335.2\n",
      "node 45 : period 5 : under threshold = 502.8 : over threshold = 77.29\n",
      "arc 53 : period 0 :  0.0\n",
      "arc 53 : period 1 :  106.18\n",
      "arc 53 : period 2 :  138.03\n",
      "arc 53 : period 3 :  138.03\n",
      "arc 53 : period 4 :  134.23\n",
      "arc 53 : period 5 :  118.02\n",
      "arc 177 : period 0 :  75.47\n",
      "arc 177 : period 1 :  94.53\n",
      "arc 177 : period 2 :  83.84\n",
      "arc 177 : period 3 :  150.0\n",
      "arc 177 : period 4 :  150.0\n",
      "arc 177 : period 5 :  127.65\n",
      "arc 188 : period 0 :  94.69\n",
      "arc 188 : period 1 :  39.81\n",
      "arc 188 : period 2 :  38.26\n",
      "arc 188 : period 3 :  111.52\n",
      "arc 188 : period 4 :  71.1\n",
      "arc 188 : period 5 :  124.73\n"
     ]
    }
   ],
   "source": [
    "for n in N:\n",
    "    for t in T:\n",
    "        if n in supply:\n",
    "            print('node',n,': period',t,': under threshold =', round(X[n,t].x,2), ': over threshold =',round(E[n,t].x,2))\n",
    "        elif N_G[n].x >0.9:\n",
    "            print('new node',n,': period',t, ':', round(X[n,t].x,2))\n",
    "        elif S[n].x >0.9:\n",
    "            print('solar node',n,': period',t, ':', round(Z[n,t].x,2))\n",
    "            \n",
    "for a in A: \n",
    "    for t in T:\n",
    "        if I[a].x > 0.9:\n",
    "            print('arc',a, ': period',t, ': ',round(Y[a,t].x,2))\n",
    "            "
   ]
  },
  {
   "cell_type": "markdown",
   "metadata": {},
   "source": [
    "So what have we discovered here? a few insights:\n",
    "* Our solar node has moved from node 40 to node 41\n",
    "* we have a different set of high capacity arcs\n",
    "* period 4 (between 4-8pm) is a huge peak time, where generators go over the threshold significantly\n",
    "* despite this, our most expensive generator (37) never goes over the threshold\n",
    "\n",
    "Could these insights allow Sparkland to introduce alternative (cheaper) energy infrastructure to service the evening peak? It's a fraught problem; dealing with the evening peak while solar generation tapers off is a live issue that networks are grappling with.\n",
    "\n",
    "Anyway, we come to our final email, which means we will have the final model ready to go. \n",
    "\n",
    "***\n",
    "\n",
    "_To counter the increased costs of peak production, we have been working with customers on a scheme where they will commit to reduce their demand by 10% for one time period each day. We can specify the time periods when this will happen for each node but no more than 9 nodes can be reduced during the same time period._\n",
    "\n",
    "_Please provide us with the optimal total cost over the day for meeting the demand in each of the six time periods from our combined generators. We again realise that this may affect your earlier proposals on which transmission lines to upgrade and where we should build the new gas generator and solar farm._\n",
    "\n",
    "_We look forward to reading your final report._\n",
    "\n",
    "***\n",
    "\n",
    "One final tweak to make the optimal system. Sometimes reading these kinds of verbal/written instructions can be a bit confusing, and it can certainly help to write them down as data to help refine thinking."
   ]
  },
  {
   "cell_type": "code",
   "execution_count": 71,
   "metadata": {},
   "outputs": [],
   "source": [
    "# Final data\n",
    "Reduced_demand = 0.1 # Percentage by which the demand is reduced\n",
    "Num_Reduce_Period = 1 # Number of periods that a node can reduce its demand in a day\n",
    "Num_Reduce_Node = 9 # Number of nodes that can reduce their demand in a single time period"
   ]
  },
  {
   "cell_type": "markdown",
   "metadata": {},
   "source": [
    "We need a new binary variable to switch on the lower-demand node"
   ]
  },
  {
   "cell_type": "code",
   "execution_count": 72,
   "metadata": {},
   "outputs": [],
   "source": [
    "# Final Variables\n",
    "\n",
    "# X gives flow on arc a in time period t\n",
    "X = {(n,t): m.addVar() for n in N for t in T}\n",
    "\n",
    "# Y gives amount generated by generators (including the gas generator) at node n in time period t within the efficient threshold\n",
    "Y = {(a,t): m.addVar() for a in A for t in T}\n",
    "\n",
    "# I indicates whether the capacity is increased for arc a\n",
    "I = {a: m.addVar(vtype=GRB.BINARY) for a in A}\n",
    "\n",
    "# N_G indicates whether the node is chosen as a new generator\n",
    "N_G = {n: m.addVar(vtype=GRB.BINARY) for n in N if n not in supply} \n",
    "\n",
    "# P indicates in which periods the gas generator should run\n",
    "P = {t: m.addVar(vtype=GRB.BINARY) for t in T}\n",
    "\n",
    "# S indicates whether the node is chosen to build a solar farm\n",
    "S = {n: m.addVar(vtype=GRB.BINARY) for n in N}\n",
    "\n",
    "# Z gives amount generated by the solar farm at node n in time period t\n",
    "Z = {(n,t): m.addVar() for n in N for t in T}\n",
    "\n",
    "# O indicates whether generator n is operating over 60% of its capacity in time period t\n",
    "O = {(n,t): m.addVar(vtype=GRB.BINARY) for n in N for t in T}\n",
    "\n",
    "# E gives the extra amount generated by generator n over 60% of their capacities in time period t\n",
    "E = {(n,t): m.addVar() for n in N for t in T}\n",
    "\n",
    "# R indicates whether a node reduces its demand in a time period.\n",
    "R = {(n,t): m.addVar(vtype=GRB.BINARY) for n in N for t in T}"
   ]
  },
  {
   "cell_type": "markdown",
   "metadata": {},
   "source": [
    "Objective remains the same as we are not introducing any new generator costs."
   ]
  },
  {
   "cell_type": "code",
   "execution_count": 73,
   "metadata": {},
   "outputs": [],
   "source": [
    "# Final Objective\n",
    "\n",
    "m.setObjective(4*(quicksum(costs[n]*X[n,t] for n in costs for t in T)\n",
    "                + quicksum(New_Cost*X[n,t] for n in N for t in T if n not in costs)\n",
    "                + quicksum(Cost_SF*Z[n,t] for n in N for t in T)\n",
    "                + quicksum(costs[n]*(1+Extra_Cost)*E[n,t] for n in costs for t in T)), GRB.MINIMIZE)"
   ]
  },
  {
   "cell_type": "markdown",
   "metadata": {},
   "source": []
  },
  {
   "cell_type": "code",
   "execution_count": 74,
   "metadata": {},
   "outputs": [],
   "source": [
    "# Final Constraints\n",
    "\n",
    "for n in N:\n",
    "    # Number of time periods for which a node should reduce demand per day\n",
    "    m.addConstr(quicksum(R[n,t] for t in T) == Num_Reduce_Period)\n",
    "\n",
    "# restrict the number of extra-capacity transmission lines\n",
    "m.addConstr(quicksum(I[a] for a in A) == Num_Inc_Lines)\n",
    "\n",
    "# Total number of time periods where the gas generator is operational\n",
    "m.addConstr(quicksum(P[t] for t in T) == New_Periods)\n",
    "\n",
    "# Exclude building new generator at the declined node\n",
    "m.addConstr(N_G[Declined_node] == 0)\n",
    "\n",
    "# Total number of new gas generator(s)\n",
    "m.addConstr(quicksum(N_G[n] for n in N if n not in supply) == Num_New_Generator)\n",
    "\n",
    "# Total number of solar farm(s)\n",
    "m.addConstr(quicksum(S[n] for n in N) == Num_Solar_Farm)\n",
    "\n",
    "for t in T:\n",
    "    \n",
    "    # Maximum number of nodes to reduce demand in one time period \n",
    "    m.addConstr(quicksum(R[n,t] for n in N) <= Num_Reduce_Node)\n",
    "    \n",
    "    for a in A:\n",
    "        if not a in highs:\n",
    "            # Capacity of lines with additional capacity if applicable\n",
    "            m.addConstr(Y[a,t] <= lowlimit + Extra_Arc_Cap*I[a])\n",
    "\n",
    "    for n in N:\n",
    "        # Balancing the power flow at each node and in each time period\n",
    "        m.addConstr(quicksum(Y[a,t]*(1-loss*distance[a]) for a in A if arcs['Node2'][a] == n) + X[n,t] + Z[n,t]  + E[n,t] ==\n",
    "                    quicksum(Y[a,t] for a in A if arcs['Node1'][a] == n) + D[n][t]*(1-R[n,t]*Reduced_demand))\n",
    "        \n",
    "        # Power generated by the solar farm at node n and in time period t\n",
    "        m.addConstr(Z[n,t] <= S[n]*Supply_SF[t])\n",
    "        \n",
    "        if n in supply:\n",
    "            # Power generated by existing generators under threshold\n",
    "            m.addConstr(X[n,t] <= supply[n]*Cap_Threshold)\n",
    "            \n",
    "            # Power generated by existing generators beyond the threshold\n",
    "            m.addConstr(E[n,t] <= O[n,t]*supply[n]*(1-Cap_Threshold))\n",
    "            \n",
    "        else: \n",
    "            # Capacity of new gas generator at node n\n",
    "            m.addConstr(X[n,t] <= N_G[n]*New_Capacity)\n",
    "            \n",
    "            # Capacity of new gas generator in time period t\n",
    "            m.addConstr(X[n,t] <= P[t] * New_Capacity)\n",
    "                        \n",
    "            # Threshold is not applicable to non-generator nodes\n",
    "            m.addConstr(O[n,t] == 0)\n",
    "            m.addConstr(E[n,t] == 0)"
   ]
  },
  {
   "cell_type": "code",
   "execution_count": 75,
   "metadata": {},
   "outputs": [
    {
     "name": "stdout",
     "output_type": "stream",
     "text": [
      "Gurobi Optimizer version 9.1.1 build v9.1.1rc0 (win64)\n",
      "Thread count: 4 physical cores, 8 logical processors, using up to 8 threads\n",
      "Optimize a model with 15208 rows, 14754 columns and 45621 nonzeros\n",
      "Model fingerprint: 0xf54eccd8\n",
      "Variable types: 12286 continuous, 2468 integer (2468 binary)\n",
      "Coefficient statistics:\n",
      "  Matrix range     [8e-01, 3e+02]\n",
      "  Objective range  [2e+02, 4e+02]\n",
      "  Bounds range     [1e+00, 1e+00]\n",
      "  RHS range        [1e+00, 2e+03]\n",
      "\n",
      "MIP start from previous solve produced solution with objective 3.27522e+06 (0.14s)\n",
      "MIP start from previous solve produced solution with objective 3.24333e+06 (0.15s)\n",
      "MIP start from previous solve produced solution with objective 3.23475e+06 (0.26s)\n",
      "MIP start from previous solve produced solution with objective 3.23342e+06 (0.37s)\n",
      "MIP start from previous solve produced solution with objective 3.23303e+06 (0.62s)\n",
      "Loaded MIP start from previous solve with objective 3.23303e+06\n",
      "\n",
      "Presolve removed 13052 rows and 12495 columns\n",
      "Presolve time: 0.22s\n",
      "Presolved: 2156 rows, 2259 columns, 7591 nonzeros\n",
      "Variable types: 1682 continuous, 577 integer (577 binary)\n",
      "\n",
      "Root relaxation: objective 3.221392e+06, 2459 iterations, 0.05 seconds\n",
      "\n",
      "    Nodes    |    Current Node    |     Objective Bounds      |     Work\n",
      " Expl Unexpl |  Obj  Depth IntInf | Incumbent    BestBd   Gap | It/Node Time\n",
      "\n",
      "     0     0 3221392.29    0   22 3233029.56 3221392.29  0.36%     -    0s\n",
      "     0     0 3226533.96    0   28 3233029.56 3226533.96  0.20%     -    0s\n",
      "     0     0 3227403.56    0   18 3233029.56 3227403.56  0.17%     -    1s\n",
      "     0     0 3227447.93    0   18 3233029.56 3227447.93  0.17%     -    1s\n",
      "H    0     0                    3233022.5973 3227447.93  0.17%     -    1s\n",
      "     0     0 3227511.30    0   23 3233022.60 3227511.30  0.17%     -    1s\n",
      "     0     0 3227514.10    0   22 3233022.60 3227514.10  0.17%     -    1s\n",
      "     0     0 3227514.10    0   23 3233022.60 3227514.10  0.17%     -    1s\n",
      "     0     0 3231759.96    0   16 3233022.60 3231759.96  0.04%     -    1s\n",
      "H    0     0                    3232996.7806 3231759.96  0.04%     -    1s\n",
      "     0     0 3232170.81    0   24 3232996.78 3232170.81  0.03%     -    1s\n",
      "     0     0 3232178.02    0   19 3232996.78 3232178.02  0.03%     -    1s\n",
      "     0     0 3232183.36    0   29 3232996.78 3232183.36  0.03%     -    1s\n",
      "     0     0 3232186.70    0   30 3232996.78 3232186.70  0.03%     -    1s\n",
      "     0     0 3232485.89    0   22 3232996.78 3232485.89  0.02%     -    1s\n",
      "     0     0 3232485.89    0   16 3232996.78 3232485.89  0.02%     -    1s\n",
      "     0     0 3232485.89    0   16 3232996.78 3232485.89  0.02%     -    1s\n",
      "     0     0 3232485.89    0   13 3232996.78 3232485.89  0.02%     -    1s\n",
      "     0     0 3232485.89    0   14 3232996.78 3232485.89  0.02%     -    1s\n",
      "     0     0 3232485.89    0   22 3232996.78 3232485.89  0.02%     -    1s\n",
      "     0     0 3232505.65    0   19 3232996.78 3232505.65  0.02%     -    1s\n",
      "     0     0 3232506.49    0   19 3232996.78 3232506.49  0.02%     -    1s\n",
      "     0     0 3232564.45    0   28 3232996.78 3232564.45  0.01%     -    1s\n",
      "     0     0 3232575.65    0   19 3232996.78 3232575.65  0.01%     -    1s\n",
      "     0     0 3232576.93    0    8 3232996.78 3232576.93  0.01%     -    1s\n",
      "\n",
      "Cutting planes:\n",
      "  Gomory: 2\n",
      "  MIR: 42\n",
      "  Flow cover: 105\n",
      "  RLT: 11\n",
      "\n",
      "Explored 1 nodes (5166 simplex iterations) in 1.52 seconds\n",
      "Thread count was 8 (of 8 available processors)\n",
      "\n",
      "Solution count 7: 3.233e+06 3.23302e+06 3.23303e+06 ... 3.27522e+06\n",
      "\n",
      "Optimal solution found (tolerance 1.00e-04)\n",
      "Best objective 3.232996780603e+06, best bound 3.232743764242e+06, gap 0.0078%\n",
      "Minimum cost = $ 3232996.780602678\n"
     ]
    }
   ],
   "source": [
    "m.optimize()\n",
    "print(\"Minimum cost = $\",m.objVal)"
   ]
  },
  {
   "cell_type": "markdown",
   "metadata": {},
   "source": [
    "Okay we have our final model and our most optimal price for running the network per day. Let's run a few numbers and see what our final configuration looks like."
   ]
  },
  {
   "cell_type": "code",
   "execution_count": 76,
   "metadata": {},
   "outputs": [
    {
     "name": "stdout",
     "output_type": "stream",
     "text": [
      "Nodes that experienced reduced demand in each period:\n",
      "period 0 : node 12\n",
      "period 0 : node 20\n",
      "period 0 : node 35\n",
      "period 0 : node 37\n",
      "period 0 : node 45\n",
      "period 1 : node 1\n",
      "period 1 : node 5\n",
      "period 1 : node 15\n",
      "period 1 : node 27\n",
      "period 1 : node 30\n",
      "period 1 : node 34\n",
      "period 1 : node 38\n",
      "period 1 : node 42\n",
      "period 1 : node 46\n",
      "period 2 : node 7\n",
      "period 2 : node 10\n",
      "period 2 : node 16\n",
      "period 2 : node 17\n",
      "period 2 : node 28\n",
      "period 2 : node 32\n",
      "period 2 : node 39\n",
      "period 2 : node 43\n",
      "period 2 : node 47\n",
      "period 3 : node 4\n",
      "period 3 : node 6\n",
      "period 3 : node 11\n",
      "period 3 : node 19\n",
      "period 3 : node 21\n",
      "period 3 : node 22\n",
      "period 3 : node 26\n",
      "period 3 : node 29\n",
      "period 3 : node 48\n",
      "period 4 : node 3\n",
      "period 4 : node 9\n",
      "period 4 : node 14\n",
      "period 4 : node 18\n",
      "period 4 : node 23\n",
      "period 4 : node 24\n",
      "period 4 : node 25\n",
      "period 4 : node 33\n",
      "period 4 : node 41\n",
      "period 5 : node 0\n",
      "period 5 : node 2\n",
      "period 5 : node 8\n",
      "period 5 : node 13\n",
      "period 5 : node 31\n",
      "period 5 : node 36\n",
      "period 5 : node 40\n",
      "period 5 : node 44\n",
      "period 5 : node 49\n"
     ]
    }
   ],
   "source": [
    "print('Nodes that experienced reduced demand in each period:')\n",
    "for t in T:\n",
    "    for n in N:\n",
    "        if R[n,t].x > 0.9:\n",
    "            print('period',t,': node',n)"
   ]
  },
  {
   "cell_type": "markdown",
   "metadata": {},
   "source": [
    "There are 6 periods during the day, with 9 demand-reduced nodes allowed per time period (54), but there are only 50 nodes in total. Since each node in only allowed to be reduced once per day, you will notice that time period 0 only has 5 nodes. This makes sense since time period 0 is in the middle of the night and has the lowest demand.\n",
    "\n",
    "Let's double check our generator locations and extra-capacity arcs"
   ]
  },
  {
   "cell_type": "code",
   "execution_count": 77,
   "metadata": {},
   "outputs": [
    {
     "name": "stdout",
     "output_type": "stream",
     "text": [
      "node 20 : period 0 : under threshold = 243.6 : over threshold = 0.0\n",
      "node 20 : period 1 : under threshold = 243.6 : over threshold = 0.0\n",
      "node 20 : period 2 : under threshold = 243.6 : over threshold = 0.0\n",
      "node 20 : period 3 : under threshold = 243.6 : over threshold = 154.43\n",
      "node 20 : period 4 : under threshold = 243.6 : over threshold = 162.4\n",
      "node 20 : period 5 : under threshold = 243.6 : over threshold = 162.4\n",
      "new node 26 : period 0 : 0.0\n",
      "new node 26 : period 1 : 0.0\n",
      "new node 26 : period 2 : 200.0\n",
      "new node 26 : period 3 : 200.0\n",
      "new node 26 : period 4 : 200.0\n",
      "new node 26 : period 5 : 200.0\n",
      "node 35 : period 0 : under threshold = 328.04 : over threshold = 0.0\n",
      "node 35 : period 1 : under threshold = 490.8 : over threshold = 0.0\n",
      "node 35 : period 2 : under threshold = 490.8 : over threshold = 0.0\n",
      "node 35 : period 3 : under threshold = 490.8 : over threshold = 0.0\n",
      "node 35 : period 4 : under threshold = 490.8 : over threshold = 94.33\n",
      "node 35 : period 5 : under threshold = 490.8 : over threshold = 0.0\n",
      "node 37 : period 0 : under threshold = 0.0 : over threshold = 0.0\n",
      "node 37 : period 1 : under threshold = 240.38 : over threshold = 0.0\n",
      "node 37 : period 2 : under threshold = 285.23 : over threshold = 0.0\n",
      "node 37 : period 3 : under threshold = 392.4 : over threshold = 0.0\n",
      "node 37 : period 4 : under threshold = 392.4 : over threshold = 0.0\n",
      "node 37 : period 5 : under threshold = 392.4 : over threshold = 0.0\n",
      "solar node 41 : period 0 : 0.0\n",
      "solar node 41 : period 1 : 20.0\n",
      "solar node 41 : period 2 : 120.0\n",
      "solar node 41 : period 3 : 110.0\n",
      "solar node 41 : period 4 : 20.0\n",
      "solar node 41 : period 5 : 0.0\n",
      "node 45 : period 0 : under threshold = 502.8 : over threshold = 0.0\n",
      "node 45 : period 1 : under threshold = 502.8 : over threshold = 0.0\n",
      "node 45 : period 2 : under threshold = 502.8 : over threshold = 0.0\n",
      "node 45 : period 3 : under threshold = 502.8 : over threshold = 0.0\n",
      "node 45 : period 4 : under threshold = 502.8 : over threshold = 335.2\n",
      "node 45 : period 5 : under threshold = 502.8 : over threshold = 30.28\n",
      "arc 53 : period 0 :  0.0\n",
      "arc 53 : period 1 :  102.4\n",
      "arc 53 : period 2 :  131.77\n",
      "arc 53 : period 3 :  138.03\n",
      "arc 53 : period 4 :  140.5\n",
      "arc 53 : period 5 :  135.99\n",
      "arc 85 : period 0 :  72.02\n",
      "arc 85 : period 1 :  67.64\n",
      "arc 85 : period 2 :  55.01\n",
      "arc 85 : period 3 :  81.5\n",
      "arc 85 : period 4 :  146.62\n",
      "arc 85 : period 5 :  69.27\n",
      "arc 177 : period 0 :  75.47\n",
      "arc 177 : period 1 :  98.79\n",
      "arc 177 : period 2 :  77.9\n",
      "arc 177 : period 3 :  150.0\n",
      "arc 177 : period 4 :  150.0\n",
      "arc 177 : period 5 :  133.7\n"
     ]
    }
   ],
   "source": [
    "for n in N:\n",
    "    for t in T:\n",
    "        if n in supply:\n",
    "            print('node',n,': period',t,': under threshold =', round(X[n,t].x,2), ': over threshold =',round(E[n,t].x,2))\n",
    "        elif N_G[n].x >0.9:\n",
    "            print('new node',n,': period',t, ':', round(X[n,t].x,2))\n",
    "        elif S[n].x >0.9:\n",
    "            print('solar node',n,': period',t, ':', round(Z[n,t].x,2))\n",
    "            \n",
    "for a in A: \n",
    "    for t in T:\n",
    "        if I[a].x > 0.9:\n",
    "            print('arc',a, ': period',t, ': ',round(Y[a,t].x,2))"
   ]
  },
  {
   "cell_type": "markdown",
   "metadata": {},
   "source": [
    "Our generator locations all remain the same, but high capacity arc line 85 is replaced with arc 188.\n",
    "\n",
    "****\n",
    "\n",
    "And that's it for Sparkland's LP MILP optimisation process. I have put the code in a single .py file so you don't have to keep hunting through this tutorial. \n",
    "\n",
    "As mentioned earlier this is not simply an academic exercise: the Australian Energy Market Operator (AEMO) use LP to determine the spot market price across the National Energy Market. The real network would incorporate a load of other constraints and would probably be dealing with some rubbery demand figures requiring some stochastic considerations... which is exacly the topic of our next tutorial!\n",
    "\n",
    "Many thanks to my co-collaborators Ulysses Lam and Julie Redulla with all their help with this project. \n",
    "\n",
    "And massive shout out to Dr. Michael Bulmer for putting together the best and most engaging Operations Research course going around. "
   ]
  }
 ],
 "metadata": {
  "kernelspec": {
   "display_name": "Python 3",
   "language": "python",
   "name": "python3"
  },
  "language_info": {
   "codemirror_mode": {
    "name": "ipython",
    "version": 3
   },
   "file_extension": ".py",
   "mimetype": "text/x-python",
   "name": "python",
   "nbconvert_exporter": "python",
   "pygments_lexer": "ipython3",
   "version": "3.8.5"
  }
 },
 "nbformat": 4,
 "nbformat_minor": 5
}
