{
 "cells": [
  {
   "cell_type": "markdown",
   "metadata": {},
   "source": [
    "# Sparkland Optimisation Project\n",
    "\n",
    "Sparkland is a fictional energy utilities provider. Sparkland has a number of issues they seek to address through progressively optimising the grid, using LP, MILP and Dynamic techniques. They seek the help of an optimisation expert to perform these optimisations.\n",
    "\n",
    "Although Sparkland is a fictional company, they certainly behave like a real client; setting optimisation parameters, assessing your answer, and then changing the goal posts because they forgot to provide key information! Certainly great practice for consultants in waiting. \n",
    "\n",
    "***\n",
    "\n",
    "`From: Sparkland Admin\n",
    " Date: 23/03/2021\n",
    " RE: Generator Optimisation`\n",
    "\n",
    "_Sparkland supplies electricity to a small region from four generators running on natural gas. Over the years we have built a network of transmission lines, running from our generators to substation nodes around the region, as shown in the following map:_\n",
    "\n",
    "_We have provided you with the following data files:_\n",
    "*  _nodes.csv gives the location of each node (units are kilometres) and the current demand (MW) at that node_\n",
    "*  _grid.csv gives all the connections between the nodes that make up our grid_\n",
    "\n",
    "_Some nodes are classified as generator nodes. Due to various factors, these generators have different capacities and costs for producing electricity, as shown in the following table:_\n",
    "\n",
    "\n",
    "| Node | Capacity (MW) | Cost ($/MW)|\n",
    "| :-: | :-: | :-: |\n",
    "| 20 | 406 | 65 | \n",
    "| 45 | 838 | 70 |\n",
    "| 35 | 818 | 74 | \n",
    "| 37 | 625 | 82 |\n",
    "\n",
    "_Please provide us with the optimal cost for meeting the current demand over a whole day from our generators._\n",
    "\n",
    "_Regards,_\n",
    "\n",
    "_Sparkland_\n",
    "\n",
    "***\n",
    "\n",
    "This is a pretty standard request and has no network related constraints. This could be easily solved with Excel or a pen and paper, however this is a good opportunity to set up a linear programming model and see how it works. So lets set it up in our Gurobi package and analyse it.\n",
    "\n",
    "Firstly we will import our favourite packages (this assumes that you have gone to the Gurobi website, downloaded the latest version, and obtained the appropriate licence __[https://www.gurobi.com/academia/academic-program-and-licenses/](https://www.gurobi.com/academia/academic-program-and-licenses/)__), and we'll read in the data using pandas"
   ]
  },
  {
   "cell_type": "code",
   "execution_count": 136,
   "metadata": {},
   "outputs": [
    {
     "data": {
      "text/html": [
       "<div>\n",
       "<style scoped>\n",
       "    .dataframe tbody tr th:only-of-type {\n",
       "        vertical-align: middle;\n",
       "    }\n",
       "\n",
       "    .dataframe tbody tr th {\n",
       "        vertical-align: top;\n",
       "    }\n",
       "\n",
       "    .dataframe thead th {\n",
       "        text-align: right;\n",
       "    }\n",
       "</style>\n",
       "<table border=\"1\" class=\"dataframe\">\n",
       "  <thead>\n",
       "    <tr style=\"text-align: right;\">\n",
       "      <th></th>\n",
       "      <th>Node</th>\n",
       "      <th>X</th>\n",
       "      <th>Y</th>\n",
       "      <th>Demand</th>\n",
       "    </tr>\n",
       "  </thead>\n",
       "  <tbody>\n",
       "    <tr>\n",
       "      <th>0</th>\n",
       "      <td>0</td>\n",
       "      <td>90</td>\n",
       "      <td>5</td>\n",
       "      <td>55</td>\n",
       "    </tr>\n",
       "    <tr>\n",
       "      <th>1</th>\n",
       "      <td>1</td>\n",
       "      <td>148</td>\n",
       "      <td>132</td>\n",
       "      <td>29</td>\n",
       "    </tr>\n",
       "    <tr>\n",
       "      <th>2</th>\n",
       "      <td>2</td>\n",
       "      <td>173</td>\n",
       "      <td>33</td>\n",
       "      <td>53</td>\n",
       "    </tr>\n",
       "    <tr>\n",
       "      <th>3</th>\n",
       "      <td>3</td>\n",
       "      <td>59</td>\n",
       "      <td>130</td>\n",
       "      <td>57</td>\n",
       "    </tr>\n",
       "    <tr>\n",
       "      <th>4</th>\n",
       "      <td>4</td>\n",
       "      <td>52</td>\n",
       "      <td>9</td>\n",
       "      <td>88</td>\n",
       "    </tr>\n",
       "  </tbody>\n",
       "</table>\n",
       "</div>"
      ],
      "text/plain": [
       "   Node    X    Y  Demand\n",
       "0     0   90    5      55\n",
       "1     1  148  132      29\n",
       "2     2  173   33      53\n",
       "3     3   59  130      57\n",
       "4     4   52    9      88"
      ]
     },
     "execution_count": 136,
     "metadata": {},
     "output_type": "execute_result"
    }
   ],
   "source": [
    "from gurobipy import *\n",
    "import math\n",
    "import pandas as pd\n",
    "\n",
    "nodes = pd.read_csv('nodes.csv')\n",
    "arcs = pd.read_csv('grid.csv')\n",
    "\n",
    "nodes.head()"
   ]
  },
  {
   "cell_type": "code",
   "execution_count": 137,
   "metadata": {},
   "outputs": [
    {
     "data": {
      "text/html": [
       "<div>\n",
       "<style scoped>\n",
       "    .dataframe tbody tr th:only-of-type {\n",
       "        vertical-align: middle;\n",
       "    }\n",
       "\n",
       "    .dataframe tbody tr th {\n",
       "        vertical-align: top;\n",
       "    }\n",
       "\n",
       "    .dataframe thead th {\n",
       "        text-align: right;\n",
       "    }\n",
       "</style>\n",
       "<table border=\"1\" class=\"dataframe\">\n",
       "  <thead>\n",
       "    <tr style=\"text-align: right;\">\n",
       "      <th></th>\n",
       "      <th>Arc</th>\n",
       "      <th>Node1</th>\n",
       "      <th>Node2</th>\n",
       "    </tr>\n",
       "  </thead>\n",
       "  <tbody>\n",
       "    <tr>\n",
       "      <th>0</th>\n",
       "      <td>0</td>\n",
       "      <td>8</td>\n",
       "      <td>27</td>\n",
       "    </tr>\n",
       "    <tr>\n",
       "      <th>1</th>\n",
       "      <td>1</td>\n",
       "      <td>27</td>\n",
       "      <td>8</td>\n",
       "    </tr>\n",
       "    <tr>\n",
       "      <th>2</th>\n",
       "      <td>2</td>\n",
       "      <td>8</td>\n",
       "      <td>10</td>\n",
       "    </tr>\n",
       "    <tr>\n",
       "      <th>3</th>\n",
       "      <td>3</td>\n",
       "      <td>10</td>\n",
       "      <td>8</td>\n",
       "    </tr>\n",
       "    <tr>\n",
       "      <th>4</th>\n",
       "      <td>4</td>\n",
       "      <td>24</td>\n",
       "      <td>25</td>\n",
       "    </tr>\n",
       "  </tbody>\n",
       "</table>\n",
       "</div>"
      ],
      "text/plain": [
       "   Arc  Node1  Node2\n",
       "0    0      8     27\n",
       "1    1     27      8\n",
       "2    2      8     10\n",
       "3    3     10      8\n",
       "4    4     24     25"
      ]
     },
     "execution_count": 137,
     "metadata": {},
     "output_type": "execute_result"
    }
   ],
   "source": [
    "arcs.head()"
   ]
  },
  {
   "cell_type": "markdown",
   "metadata": {},
   "source": [
    "So the nodes.csv lists the nodes, the x/y map coordinates of the node, and the total demand of the node. The arc.csv lists the arcs connecting the nodes, giving the start `['Node1']` and end node `['Node2']`. Note that each arc is listed twice, as each node is listed as a start _and_ end node.\n",
    "\n",
    "Now we should first check what the demand profile looks like at the generator node, as this may colour our analysis.\n"
   ]
  },
  {
   "cell_type": "code",
   "execution_count": 138,
   "metadata": {},
   "outputs": [
    {
     "data": {
      "text/plain": [
       "20    0\n",
       "45    0\n",
       "35    0\n",
       "37    0\n",
       "Name: Demand, dtype: int64"
      ]
     },
     "execution_count": 138,
     "metadata": {},
     "output_type": "execute_result"
    }
   ],
   "source": [
    "G = [20, 45, 35, 37]\n",
    "nodes['Demand'][G]"
   ]
  },
  {
   "cell_type": "markdown",
   "metadata": {},
   "source": [
    "No demand at the generator node. It makes intuitive sense, but better to make sure. \n",
    "\n",
    "Okay so now we want to start writing our problem as an LP problem. It is useful to think of problems containing the following elements:\n",
    "*  Sets: In this problem there are a few sets. The set of all arcs, the set of all nodes, the  set of generator nodes (which is a subset of all nodes). Sets and subsets allow some flexibility in how things are structured. \n",
    "*  Data: This is the data relevant to the problem. This data can be a global constant, or be specific to different elements of a set. In this case, we have demand data for each node, capacity for generator nodes, etc\n",
    "*  Decision Variable: this is the variable that we are trying to target. This can sometimes be a bit tricky. In this case, we will be looking at minimising costs, but the decision variable will actually be energy transmitted. We will be looking to minimise the amount of energy produced at expensive generators, thereby reducing the overall cost. \n",
    "*  Objective: This is the mathematical expression that minimises/maximises what we are looking for. \n",
    "*  Constraints: mathematical constraints on the optimisations. More on this later\n",
    "\n",
    "So to start with, we will define the set of nodes and arcs as sets so we can play with them.  "
   ]
  },
  {
   "cell_type": "code",
   "execution_count": 139,
   "metadata": {},
   "outputs": [],
   "source": [
    "#sets\n",
    "A = arcs['Arc']\n",
    "N = nodes['Node']"
   ]
  },
  {
   "cell_type": "markdown",
   "metadata": {},
   "source": [
    "Next, we can load in our generator data"
   ]
  },
  {
   "cell_type": "code",
   "execution_count": 140,
   "metadata": {},
   "outputs": [],
   "source": [
    "# Email 1 - Generator data \n",
    "costs= { 20: 65, 45: 70, 35: 74, 37: 82}\n",
    "supply = { 20: 406, 45: 838, 35: 818, 37: 654}"
   ]
  },
  {
   "cell_type": "markdown",
   "metadata": {},
   "source": [
    "The email request is asking us to meet total demand at the cheapest possible price. There is no indication that we need to use any particular transmission arcs, so this is a simple total demand problem."
   ]
  },
  {
   "cell_type": "code",
   "execution_count": 141,
   "metadata": {},
   "outputs": [
    {
     "data": {
      "text/plain": [
       "2029"
      ]
     },
     "execution_count": 141,
     "metadata": {},
     "output_type": "execute_result"
    }
   ],
   "source": [
    "total_demand = nodes['Demand'].sum()\n",
    "total_demand"
   ]
  },
  {
   "cell_type": "markdown",
   "metadata": {},
   "source": [
    "Okay, lets start setting up our model"
   ]
  },
  {
   "cell_type": "code",
   "execution_count": 142,
   "metadata": {},
   "outputs": [],
   "source": [
    "m = Model('Sparkland')"
   ]
  },
  {
   "cell_type": "markdown",
   "metadata": {},
   "source": [
    "Now we need to select a decision variable. We are trying to minimise the cost of energy so 'energy provided' seems like a pretty good decision variable to me. We will be trying to reduce costs node-wise. \n",
    "\n",
    "_Gurobi has different ways of declaring variables, so check to see how you like to do it._"
   ]
  },
  {
   "cell_type": "code",
   "execution_count": 143,
   "metadata": {},
   "outputs": [
    {
     "data": {
      "text/plain": [
       "{0: <gurobi.Var *Awaiting Model Update*>,\n",
       " 1: <gurobi.Var *Awaiting Model Update*>,\n",
       " 2: <gurobi.Var *Awaiting Model Update*>,\n",
       " 3: <gurobi.Var *Awaiting Model Update*>,\n",
       " 4: <gurobi.Var *Awaiting Model Update*>,\n",
       " 5: <gurobi.Var *Awaiting Model Update*>,\n",
       " 6: <gurobi.Var *Awaiting Model Update*>,\n",
       " 7: <gurobi.Var *Awaiting Model Update*>,\n",
       " 8: <gurobi.Var *Awaiting Model Update*>,\n",
       " 9: <gurobi.Var *Awaiting Model Update*>,\n",
       " 10: <gurobi.Var *Awaiting Model Update*>,\n",
       " 11: <gurobi.Var *Awaiting Model Update*>,\n",
       " 12: <gurobi.Var *Awaiting Model Update*>,\n",
       " 13: <gurobi.Var *Awaiting Model Update*>,\n",
       " 14: <gurobi.Var *Awaiting Model Update*>,\n",
       " 15: <gurobi.Var *Awaiting Model Update*>,\n",
       " 16: <gurobi.Var *Awaiting Model Update*>,\n",
       " 17: <gurobi.Var *Awaiting Model Update*>,\n",
       " 18: <gurobi.Var *Awaiting Model Update*>,\n",
       " 19: <gurobi.Var *Awaiting Model Update*>,\n",
       " 20: <gurobi.Var *Awaiting Model Update*>,\n",
       " 21: <gurobi.Var *Awaiting Model Update*>,\n",
       " 22: <gurobi.Var *Awaiting Model Update*>,\n",
       " 23: <gurobi.Var *Awaiting Model Update*>,\n",
       " 24: <gurobi.Var *Awaiting Model Update*>,\n",
       " 25: <gurobi.Var *Awaiting Model Update*>,\n",
       " 26: <gurobi.Var *Awaiting Model Update*>,\n",
       " 27: <gurobi.Var *Awaiting Model Update*>,\n",
       " 28: <gurobi.Var *Awaiting Model Update*>,\n",
       " 29: <gurobi.Var *Awaiting Model Update*>,\n",
       " 30: <gurobi.Var *Awaiting Model Update*>,\n",
       " 31: <gurobi.Var *Awaiting Model Update*>,\n",
       " 32: <gurobi.Var *Awaiting Model Update*>,\n",
       " 33: <gurobi.Var *Awaiting Model Update*>,\n",
       " 34: <gurobi.Var *Awaiting Model Update*>,\n",
       " 35: <gurobi.Var *Awaiting Model Update*>,\n",
       " 36: <gurobi.Var *Awaiting Model Update*>,\n",
       " 37: <gurobi.Var *Awaiting Model Update*>,\n",
       " 38: <gurobi.Var *Awaiting Model Update*>,\n",
       " 39: <gurobi.Var *Awaiting Model Update*>,\n",
       " 40: <gurobi.Var *Awaiting Model Update*>,\n",
       " 41: <gurobi.Var *Awaiting Model Update*>,\n",
       " 42: <gurobi.Var *Awaiting Model Update*>,\n",
       " 43: <gurobi.Var *Awaiting Model Update*>,\n",
       " 44: <gurobi.Var *Awaiting Model Update*>,\n",
       " 45: <gurobi.Var *Awaiting Model Update*>,\n",
       " 46: <gurobi.Var *Awaiting Model Update*>,\n",
       " 47: <gurobi.Var *Awaiting Model Update*>,\n",
       " 48: <gurobi.Var *Awaiting Model Update*>,\n",
       " 49: <gurobi.Var *Awaiting Model Update*>}"
      ]
     },
     "execution_count": 143,
     "metadata": {},
     "output_type": "execute_result"
    }
   ],
   "source": [
    "X = {n: m.addVar() for n in N}\n",
    "X"
   ]
  },
  {
   "cell_type": "markdown",
   "metadata": {},
   "source": [
    "So what have we done here? Gurobi has created a special gurobi variable for each node in the set N, and we have labeled them n. We haven't run the model yet so there is nothing in the variable yet. \n",
    "\n",
    "Now we are going to set the objective. "
   ]
  },
  {
   "cell_type": "code",
   "execution_count": 144,
   "metadata": {},
   "outputs": [],
   "source": [
    "m.setObjective(24*(quicksum(costs[n]*X[n] for n in costs)),GRB.MINIMIZE)"
   ]
  },
  {
   "cell_type": "markdown",
   "metadata": {},
   "source": [
    "Let's break this down a little. The 24 is due to the format of the data. We are seeking to minimise a daily cost, but the generator data is given in MW/h, so multiply by 24 to get the daily figure. The 'for n in costs' statement restricts the calculation to the nodes that are represented in the set 'costs'. The X is the amount of energy provided by generator 'n' and that is multiplied by the cost of n. The GRB.MINIMIZE tells gurobi which direction to optimise in.\n",
    "\n",
    "The quicksum function is a special Gurobi function. It is essentially just a sum function (similar to sigma notation) however using some other sum function (eg numpy) would not work as well. \n",
    "\n",
    "Finally, we need to state our constraints. We have two constraints in this case:"
   ]
  },
  {
   "cell_type": "code",
   "execution_count": 145,
   "metadata": {},
   "outputs": [],
   "source": [
    "# The amount of energy provided by generators meets the total demand of the grid.\n",
    "m.addConstr(quicksum(X[n] for n in costs) == total_demand)\n",
    "\n",
    "# each generator cannot exceed its supply capacity\n",
    "for n in costs:\n",
    "    m.addConstr(X[n] <= supply[n])"
   ]
  },
  {
   "cell_type": "markdown",
   "metadata": {},
   "source": [
    "that's it, let's see how it performs when we run it"
   ]
  },
  {
   "cell_type": "code",
   "execution_count": 146,
   "metadata": {
    "scrolled": true
   },
   "outputs": [
    {
     "name": "stdout",
     "output_type": "stream",
     "text": [
      "Gurobi Optimizer version 9.1.1 build v9.1.1rc0 (win64)\n",
      "Thread count: 4 physical cores, 8 logical processors, using up to 8 threads\n",
      "Optimize a model with 5 rows, 50 columns and 8 nonzeros\n",
      "Model fingerprint: 0x03106582\n",
      "Coefficient statistics:\n",
      "  Matrix range     [1e+00, 1e+00]\n",
      "  Objective range  [2e+03, 2e+03]\n",
      "  Bounds range     [0e+00, 0e+00]\n",
      "  RHS range        [4e+02, 2e+03]\n",
      "Presolve removed 5 rows and 50 columns\n",
      "Presolve time: 0.01s\n",
      "Presolve: All rows and columns removed\n",
      "Iteration    Objective       Primal Inf.    Dual Inf.      Time\n",
      "       0    3.4353600e+06   0.000000e+00   0.000000e+00      0s\n",
      "\n",
      "Solved in 0 iterations and 0.01 seconds\n",
      "Optimal objective  3.435360000e+06\n",
      "Minimum cost = $ 3435360.0\n"
     ]
    }
   ],
   "source": [
    "m.optimize()\n",
    "print(\"Minimum cost = $\",m.objVal)"
   ]
  },
  {
   "cell_type": "markdown",
   "metadata": {},
   "source": [
    "So the optimal cost is \\$3,434,360. We've emailed the results to our client and they accept the results. This is a pretty simplistic example, and it would be pretty easy to double check our answer by just summing the total demand in excel and meeting the demand by maxing out the cheapest generators first. We can see that this is exactly what happened by inspecting the Gurobi model variables, observe that the most expensive generator (n = 37) generates zero energy."
   ]
  },
  {
   "cell_type": "code",
   "execution_count": 147,
   "metadata": {},
   "outputs": [
    {
     "data": {
      "text/plain": [
       "{0: <gurobi.Var C0 (value 0.0)>,\n",
       " 1: <gurobi.Var C1 (value 0.0)>,\n",
       " 2: <gurobi.Var C2 (value 0.0)>,\n",
       " 3: <gurobi.Var C3 (value 0.0)>,\n",
       " 4: <gurobi.Var C4 (value 0.0)>,\n",
       " 5: <gurobi.Var C5 (value 0.0)>,\n",
       " 6: <gurobi.Var C6 (value 0.0)>,\n",
       " 7: <gurobi.Var C7 (value 0.0)>,\n",
       " 8: <gurobi.Var C8 (value 0.0)>,\n",
       " 9: <gurobi.Var C9 (value 0.0)>,\n",
       " 10: <gurobi.Var C10 (value 0.0)>,\n",
       " 11: <gurobi.Var C11 (value 0.0)>,\n",
       " 12: <gurobi.Var C12 (value 0.0)>,\n",
       " 13: <gurobi.Var C13 (value 0.0)>,\n",
       " 14: <gurobi.Var C14 (value 0.0)>,\n",
       " 15: <gurobi.Var C15 (value 0.0)>,\n",
       " 16: <gurobi.Var C16 (value 0.0)>,\n",
       " 17: <gurobi.Var C17 (value 0.0)>,\n",
       " 18: <gurobi.Var C18 (value 0.0)>,\n",
       " 19: <gurobi.Var C19 (value 0.0)>,\n",
       " 20: <gurobi.Var C20 (value 406.0)>,\n",
       " 21: <gurobi.Var C21 (value 0.0)>,\n",
       " 22: <gurobi.Var C22 (value 0.0)>,\n",
       " 23: <gurobi.Var C23 (value 0.0)>,\n",
       " 24: <gurobi.Var C24 (value 0.0)>,\n",
       " 25: <gurobi.Var C25 (value 0.0)>,\n",
       " 26: <gurobi.Var C26 (value 0.0)>,\n",
       " 27: <gurobi.Var C27 (value 0.0)>,\n",
       " 28: <gurobi.Var C28 (value 0.0)>,\n",
       " 29: <gurobi.Var C29 (value 0.0)>,\n",
       " 30: <gurobi.Var C30 (value 0.0)>,\n",
       " 31: <gurobi.Var C31 (value 0.0)>,\n",
       " 32: <gurobi.Var C32 (value 0.0)>,\n",
       " 33: <gurobi.Var C33 (value 0.0)>,\n",
       " 34: <gurobi.Var C34 (value 0.0)>,\n",
       " 35: <gurobi.Var C35 (value 785.0)>,\n",
       " 36: <gurobi.Var C36 (value 0.0)>,\n",
       " 37: <gurobi.Var C37 (value 0.0)>,\n",
       " 38: <gurobi.Var C38 (value 0.0)>,\n",
       " 39: <gurobi.Var C39 (value 0.0)>,\n",
       " 40: <gurobi.Var C40 (value 0.0)>,\n",
       " 41: <gurobi.Var C41 (value 0.0)>,\n",
       " 42: <gurobi.Var C42 (value 0.0)>,\n",
       " 43: <gurobi.Var C43 (value 0.0)>,\n",
       " 44: <gurobi.Var C44 (value 0.0)>,\n",
       " 45: <gurobi.Var C45 (value 838.0)>,\n",
       " 46: <gurobi.Var C46 (value 0.0)>,\n",
       " 47: <gurobi.Var C47 (value 0.0)>,\n",
       " 48: <gurobi.Var C48 (value 0.0)>,\n",
       " 49: <gurobi.Var C49 (value 0.0)>}"
      ]
     },
     "execution_count": 147,
     "metadata": {},
     "output_type": "execute_result"
    }
   ],
   "source": [
    "X"
   ]
  },
  {
   "cell_type": "markdown",
   "metadata": {},
   "source": [
    "Anyway a few days later, Sparkland send a new email \n",
    "\n",
    "***\n",
    "\n",
    "_Thank you for your initial estimate. However, we did not mention that our transmission lines actually lose electricity along them. This loss can be estimated as 0.1\\% per km._\n",
    "\n",
    "_Could you revise your proposal to take this into account? Please provide us with the optimal cost for meeting the current demand over a whole day from our generators._\n",
    "\n",
    "***\n",
    "\n",
    "So now we will need to make use of the set of arcs and make sure that we use the most efficient pathways. It is no use using a cheap generator if the transmission costs are too expensive. At the very least we will need to generate more energy to cover the losses. \n",
    "\n",
    "For this new data, we need to build in the transmission loss and calculate the lengths of all the arcs. "
   ]
  },
  {
   "cell_type": "code",
   "execution_count": 148,
   "metadata": {},
   "outputs": [],
   "source": [
    "# Email 2 - Transmission loss data\n",
    "loss = 0.001 # Loss factor (% per km)\n",
    "\n",
    "# Calculate lengths of each arc (euclidean distance)\n",
    "distance = [math.hypot(\n",
    "    nodes['X'][arcs['Node1'][a]]-nodes['X'][arcs['Node2'][a]],\n",
    "    nodes['Y'][arcs['Node1'][a]]-nodes['Y'][arcs['Node2'][a]]) for a in A]"
   ]
  },
  {
   "cell_type": "markdown",
   "metadata": {},
   "source": [
    "Time to start a new model. We also need to review our decision variables. The recent communication suggests we need to govern the power flow on any arc, so we will need an additional decision variable to account for arc power flow. \n",
    "\n",
    "(The model 'm' is still active, but we meed to declare our previous X variable again to clear the current contents)"
   ]
  },
  {
   "cell_type": "code",
   "execution_count": 149,
   "metadata": {},
   "outputs": [],
   "source": [
    "# X gives amount generated by generators at node n \n",
    "X = {n: m.addVar() for n in N}\n",
    "\n",
    "# Y gives flow on arc a \n",
    "Y = {a: m.addVar() for a in A}\n"
   ]
  },
  {
   "cell_type": "markdown",
   "metadata": {},
   "source": [
    "Our objective does not change, but the constraints start to look more complicated"
   ]
  },
  {
   "cell_type": "code",
   "execution_count": 150,
   "metadata": {},
   "outputs": [],
   "source": [
    "m.setObjective(24*(quicksum(costs[n]*X[n] for n in costs)),GRB.MINIMIZE)\n",
    "\n",
    "for n in N:\n",
    "    # balancing constraint\n",
    "    m.addConstr(quicksum(Y[a]*(1-loss*distance[a]) for a in A if arcs['Node2'][a] == n) + X[n]  ==\n",
    "                quicksum(Y[a] for a in A if arcs['Node1'][a] == n) + nodes['Demand'][n])\n",
    "    if n in supply:\n",
    "        # generator must generate within given capacity limits\n",
    "        m.addConstr(X[n] <= supply[n])\n",
    "    else:\n",
    "        # forcing constraint\n",
    "        m.addConstr(X[n] == 0)\n",
    "            "
   ]
  },
  {
   "cell_type": "markdown",
   "metadata": {},
   "source": [
    "The balancing constraint looks a bit confusing, and this is can actually be written as 4 different constraints (arguably that might be even more complicated!). The LHS of the equation relates to power entering a node n. any power entering a node will be curtailed by the loss factor, and if that node is a generator node, then additional power Y will be added. The RHS of the equation relates to the power leaving the node, and also the demand for that node. So essentially, the curtailed power entering the node must be equal to the power leaving the node plus the demand of that node (with some special rules for generators)\n",
    "\n",
    "The forcing contraint is a bit more straightforward but also has some nuance. Power created at generator nodes cannot exceed the supply limits which makes sense, however this constraint on its own would not work. You must specify that non-generator nodes will have a zero output otherwise the model will simply assign Y values to nodes and bring the objective value all the way to zero.\n",
    "\n",
    "Okay lets test our model"
   ]
  },
  {
   "cell_type": "code",
   "execution_count": 151,
   "metadata": {},
   "outputs": [
    {
     "name": "stdout",
     "output_type": "stream",
     "text": [
      "Gurobi Optimizer version 9.1.1 build v9.1.1rc0 (win64)\n",
      "Thread count: 4 physical cores, 8 logical processors, using up to 8 threads\n",
      "Optimize a model with 105 rows, 294 columns and 496 nonzeros\n",
      "Coefficient statistics:\n",
      "  Matrix range     [1e+00, 1e+00]\n",
      "  Objective range  [2e+03, 2e+03]\n",
      "  Bounds range     [0e+00, 0e+00]\n",
      "  RHS range        [2e+01, 2e+03]\n",
      "Iteration    Objective       Primal Inf.    Dual Inf.      Time\n",
      "       0    0.0000000e+00   2.029000e+03   0.000000e+00      0s\n",
      "     189    3.6692435e+06   0.000000e+00   0.000000e+00      0s\n",
      "\n",
      "Solved in 189 iterations and 0.01 seconds\n",
      "Optimal objective  3.669243450e+06\n",
      "Minimum cost = $ 3669243.450357632\n"
     ]
    }
   ],
   "source": [
    "m.optimize()\n",
    "print(\"Minimum cost = $\",m.objVal)"
   ]
  },
  {
   "cell_type": "markdown",
   "metadata": {},
   "source": [
    "$3,669,243 is a bit more expensive than the last model, and that makes sense. We have added loss factors which means the generators have to work harder to get the power out there. Lets see how the generation pattern looks this time"
   ]
  },
  {
   "cell_type": "code",
   "execution_count": 152,
   "metadata": {},
   "outputs": [
    {
     "data": {
      "text/plain": [
       "{0: <gurobi.Var C50 (value 0.0)>,\n",
       " 1: <gurobi.Var C51 (value 0.0)>,\n",
       " 2: <gurobi.Var C52 (value 0.0)>,\n",
       " 3: <gurobi.Var C53 (value 0.0)>,\n",
       " 4: <gurobi.Var C54 (value 0.0)>,\n",
       " 5: <gurobi.Var C55 (value 0.0)>,\n",
       " 6: <gurobi.Var C56 (value 0.0)>,\n",
       " 7: <gurobi.Var C57 (value 0.0)>,\n",
       " 8: <gurobi.Var C58 (value 0.0)>,\n",
       " 9: <gurobi.Var C59 (value 0.0)>,\n",
       " 10: <gurobi.Var C60 (value 0.0)>,\n",
       " 11: <gurobi.Var C61 (value 0.0)>,\n",
       " 12: <gurobi.Var C62 (value 0.0)>,\n",
       " 13: <gurobi.Var C63 (value 0.0)>,\n",
       " 14: <gurobi.Var C64 (value 0.0)>,\n",
       " 15: <gurobi.Var C65 (value 0.0)>,\n",
       " 16: <gurobi.Var C66 (value 0.0)>,\n",
       " 17: <gurobi.Var C67 (value 0.0)>,\n",
       " 18: <gurobi.Var C68 (value 0.0)>,\n",
       " 19: <gurobi.Var C69 (value 0.0)>,\n",
       " 20: <gurobi.Var C70 (value 406.0)>,\n",
       " 21: <gurobi.Var C71 (value 0.0)>,\n",
       " 22: <gurobi.Var C72 (value 0.0)>,\n",
       " 23: <gurobi.Var C73 (value 0.0)>,\n",
       " 24: <gurobi.Var C74 (value 0.0)>,\n",
       " 25: <gurobi.Var C75 (value 0.0)>,\n",
       " 26: <gurobi.Var C76 (value 0.0)>,\n",
       " 27: <gurobi.Var C77 (value 0.0)>,\n",
       " 28: <gurobi.Var C78 (value 0.0)>,\n",
       " 29: <gurobi.Var C79 (value 0.0)>,\n",
       " 30: <gurobi.Var C80 (value 0.0)>,\n",
       " 31: <gurobi.Var C81 (value 0.0)>,\n",
       " 32: <gurobi.Var C82 (value 0.0)>,\n",
       " 33: <gurobi.Var C83 (value 0.0)>,\n",
       " 34: <gurobi.Var C84 (value 0.0)>,\n",
       " 35: <gurobi.Var C85 (value 818.0)>,\n",
       " 36: <gurobi.Var C86 (value 0.0)>,\n",
       " 37: <gurobi.Var C87 (value 89.06272884026016)>,\n",
       " 38: <gurobi.Var C88 (value 0.0)>,\n",
       " 39: <gurobi.Var C89 (value 0.0)>,\n",
       " 40: <gurobi.Var C90 (value 0.0)>,\n",
       " 41: <gurobi.Var C91 (value 0.0)>,\n",
       " 42: <gurobi.Var C92 (value 0.0)>,\n",
       " 43: <gurobi.Var C93 (value 0.0)>,\n",
       " 44: <gurobi.Var C94 (value 0.0)>,\n",
       " 45: <gurobi.Var C95 (value 838.0)>,\n",
       " 46: <gurobi.Var C96 (value 0.0)>,\n",
       " 47: <gurobi.Var C97 (value 0.0)>,\n",
       " 48: <gurobi.Var C98 (value 0.0)>,\n",
       " 49: <gurobi.Var C99 (value 0.0)>}"
      ]
     },
     "execution_count": 152,
     "metadata": {},
     "output_type": "execute_result"
    }
   ],
   "source": [
    "X"
   ]
  },
  {
   "cell_type": "markdown",
   "metadata": {},
   "source": [
    "This time the network needed to rely on the more expensive generator as the three cheaper generators did not have enough capacity to account for the transmission losses. \n",
    "\n",
    "Well Sparkland are very happy with this, but sure enough they come back with another email. \n",
    "\n",
    "***\n",
    "\n",
    "_We have realised that your proposal will exceed the limits on some of our transmission lines. The following 18 lines can effectively handle any load:_\n",
    "\n",
    "_30 31 32 33 36 37 48 49 88 89 92 93 96 97 118 119 122 123_\n",
    "\n",
    "_However, all of the other lines have a limit of 100 MW. Could you revise your proposal to take this into account? Please provide us with the optimal cost for meeting the current demand over a whole day from our generators._\n",
    "\n",
    "***\n",
    "\n",
    "Looks like we have new data to incorporate into our model. This is actually pretty straightforward to set up. We firstly load the new data."
   ]
  },
  {
   "cell_type": "code",
   "execution_count": 153,
   "metadata": {},
   "outputs": [],
   "source": [
    "# Email 3 - Transmission limits \n",
    "lowlimit = 100 # Transmission maximum limit (MW)\n",
    "highs = [30,31,32,33,36,37,48,49,88,89,92,93,96,97,118,119,122,123] "
   ]
  },
  {
   "cell_type": "markdown",
   "metadata": {},
   "source": [
    "The existing information (sets, data, objective, constraints) will all remain"
   ]
  },
  {
   "cell_type": "code",
   "execution_count": 154,
   "metadata": {},
   "outputs": [],
   "source": [
    "# X gives amount generated by generators at node n \n",
    "X = {n: m.addVar() for n in N}\n",
    "\n",
    "# Y gives flow on arc a \n",
    "Y = {a: m.addVar() for a in A}\n",
    "\n",
    "m.setObjective(24*(quicksum(costs[n]*X[n] for n in costs)),GRB.MINIMIZE)\n",
    "\n",
    "for n in N:\n",
    "    # Balancing the power flow at each node \n",
    "    m.addConstr(quicksum(Y[a]*(1-loss*distance[a]) for a in A if arcs['Node2'][a] == n) + X[n]  ==\n",
    "                quicksum(Y[a] for a in A if arcs['Node1'][a] == n) + nodes['Demand'][n])\n",
    "    if n in supply:\n",
    "        # generator must generate within given capacity limits\n",
    "        m.addConstr(X[n] <= supply[n])\n",
    "    else:\n",
    "        # forcing constraint\n",
    "        m.addConstr(X[n] == 0)"
   ]
  },
  {
   "cell_type": "markdown",
   "metadata": {},
   "source": [
    "We need one new constraint that tells the model to curtail transmission capacity for all arcs EXCEPT for those on our list of high-capacity arcs. "
   ]
  },
  {
   "cell_type": "code",
   "execution_count": 155,
   "metadata": {},
   "outputs": [],
   "source": [
    "for a in A:\n",
    "    # constrain maximum flow on arc a \n",
    "    if not a in highs:\n",
    "        m.addConstr(Y[a] <= lowlimit)"
   ]
  },
  {
   "cell_type": "markdown",
   "metadata": {},
   "source": [
    "Let's hit go"
   ]
  },
  {
   "cell_type": "code",
   "execution_count": 156,
   "metadata": {},
   "outputs": [
    {
     "name": "stdout",
     "output_type": "stream",
     "text": [
      "Gurobi Optimizer version 9.1.1 build v9.1.1rc0 (win64)\n",
      "Thread count: 4 physical cores, 8 logical processors, using up to 8 threads\n",
      "Optimize a model with 381 rows, 538 columns and 1160 nonzeros\n",
      "Coefficient statistics:\n",
      "  Matrix range     [1e+00, 1e+00]\n",
      "  Objective range  [2e+03, 2e+03]\n",
      "  Bounds range     [0e+00, 0e+00]\n",
      "  RHS range        [2e+01, 2e+03]\n",
      "Iteration    Objective       Primal Inf.    Dual Inf.      Time\n",
      "       0    0.0000000e+00   2.029000e+03   0.000000e+00      0s\n",
      "     208    3.6804847e+06   0.000000e+00   0.000000e+00      0s\n",
      "\n",
      "Solved in 208 iterations and 0.01 seconds\n",
      "Optimal objective  3.680484670e+06\n",
      "Minimum cost = $ 3680484.669555652\n"
     ]
    }
   ],
   "source": [
    "m.optimize()\n",
    "print(\"Minimum cost = $\",m.objVal)"
   ]
  },
  {
   "cell_type": "markdown",
   "metadata": {},
   "source": [
    "Lets see how our variables look now."
   ]
  },
  {
   "cell_type": "code",
   "execution_count": 157,
   "metadata": {},
   "outputs": [
    {
     "data": {
      "text/plain": [
       "{0: <gurobi.Var C294 (value 0.0)>,\n",
       " 1: <gurobi.Var C295 (value 0.0)>,\n",
       " 2: <gurobi.Var C296 (value 0.0)>,\n",
       " 3: <gurobi.Var C297 (value 0.0)>,\n",
       " 4: <gurobi.Var C298 (value 0.0)>,\n",
       " 5: <gurobi.Var C299 (value 0.0)>,\n",
       " 6: <gurobi.Var C300 (value 0.0)>,\n",
       " 7: <gurobi.Var C301 (value 0.0)>,\n",
       " 8: <gurobi.Var C302 (value 0.0)>,\n",
       " 9: <gurobi.Var C303 (value 0.0)>,\n",
       " 10: <gurobi.Var C304 (value 0.0)>,\n",
       " 11: <gurobi.Var C305 (value 0.0)>,\n",
       " 12: <gurobi.Var C306 (value 0.0)>,\n",
       " 13: <gurobi.Var C307 (value 0.0)>,\n",
       " 14: <gurobi.Var C308 (value 0.0)>,\n",
       " 15: <gurobi.Var C309 (value 0.0)>,\n",
       " 16: <gurobi.Var C310 (value 0.0)>,\n",
       " 17: <gurobi.Var C311 (value 0.0)>,\n",
       " 18: <gurobi.Var C312 (value 0.0)>,\n",
       " 19: <gurobi.Var C313 (value 0.0)>,\n",
       " 20: <gurobi.Var C314 (value 400.0)>,\n",
       " 21: <gurobi.Var C315 (value 0.0)>,\n",
       " 22: <gurobi.Var C316 (value 0.0)>,\n",
       " 23: <gurobi.Var C317 (value 0.0)>,\n",
       " 24: <gurobi.Var C318 (value 0.0)>,\n",
       " 25: <gurobi.Var C319 (value 0.0)>,\n",
       " 26: <gurobi.Var C320 (value 0.0)>,\n",
       " 27: <gurobi.Var C321 (value 0.0)>,\n",
       " 28: <gurobi.Var C322 (value 0.0)>,\n",
       " 29: <gurobi.Var C323 (value 0.0)>,\n",
       " 30: <gurobi.Var C324 (value 0.0)>,\n",
       " 31: <gurobi.Var C325 (value 0.0)>,\n",
       " 32: <gurobi.Var C326 (value 0.0)>,\n",
       " 33: <gurobi.Var C327 (value 0.0)>,\n",
       " 34: <gurobi.Var C328 (value 0.0)>,\n",
       " 35: <gurobi.Var C329 (value 818.0)>,\n",
       " 36: <gurobi.Var C330 (value 0.0)>,\n",
       " 37: <gurobi.Var C331 (value 99.53082802624587)>,\n",
       " 38: <gurobi.Var C332 (value 0.0)>,\n",
       " 39: <gurobi.Var C333 (value 0.0)>,\n",
       " 40: <gurobi.Var C334 (value 0.0)>,\n",
       " 41: <gurobi.Var C335 (value 0.0)>,\n",
       " 42: <gurobi.Var C336 (value 0.0)>,\n",
       " 43: <gurobi.Var C337 (value 0.0)>,\n",
       " 44: <gurobi.Var C338 (value 0.0)>,\n",
       " 45: <gurobi.Var C339 (value 838.0)>,\n",
       " 46: <gurobi.Var C340 (value 0.0)>,\n",
       " 47: <gurobi.Var C341 (value 0.0)>,\n",
       " 48: <gurobi.Var C342 (value 0.0)>,\n",
       " 49: <gurobi.Var C343 (value 0.0)>}"
      ]
     },
     "execution_count": 157,
     "metadata": {},
     "output_type": "execute_result"
    }
   ],
   "source": [
    "X"
   ]
  },
  {
   "cell_type": "code",
   "execution_count": 158,
   "metadata": {},
   "outputs": [
    {
     "data": {
      "text/plain": [
       "{0: <gurobi.Var C344 (value 0.0)>,\n",
       " 1: <gurobi.Var C345 (value 46.37926186776647)>,\n",
       " 2: <gurobi.Var C346 (value 76.20937026837125)>,\n",
       " 3: <gurobi.Var C347 (value 0.0)>,\n",
       " 4: <gurobi.Var C348 (value 0.0)>,\n",
       " 5: <gurobi.Var C349 (value 28.309275190585254)>,\n",
       " 6: <gurobi.Var C350 (value 21.313727978653393)>,\n",
       " 7: <gurobi.Var C351 (value 0.0)>,\n",
       " 8: <gurobi.Var C352 (value 44.55823712336999)>,\n",
       " 9: <gurobi.Var C353 (value 0.0)>,\n",
       " 10: <gurobi.Var C354 (value 0.0)>,\n",
       " 11: <gurobi.Var C355 (value 43.995504629282884)>,\n",
       " 12: <gurobi.Var C356 (value 0.0)>,\n",
       " 13: <gurobi.Var C357 (value 0.0)>,\n",
       " 14: <gurobi.Var C358 (value 0.0)>,\n",
       " 15: <gurobi.Var C359 (value 0.0)>,\n",
       " 16: <gurobi.Var C360 (value 0.0)>,\n",
       " 17: <gurobi.Var C361 (value 32.95805383412975)>,\n",
       " 18: <gurobi.Var C362 (value 0.0)>,\n",
       " 19: <gurobi.Var C363 (value 0.0)>,\n",
       " 20: <gurobi.Var C364 (value 0.0)>,\n",
       " 21: <gurobi.Var C365 (value 0.0)>,\n",
       " 22: <gurobi.Var C366 (value 0.0)>,\n",
       " 23: <gurobi.Var C367 (value 90.87898522833)>,\n",
       " 24: <gurobi.Var C368 (value 34.01475777116797)>,\n",
       " 25: <gurobi.Var C369 (value 0.0)>,\n",
       " 26: <gurobi.Var C370 (value 0.0)>,\n",
       " 27: <gurobi.Var C371 (value 46.53902197460632)>,\n",
       " 28: <gurobi.Var C372 (value 31.357530860792632)>,\n",
       " 29: <gurobi.Var C373 (value 0.0)>,\n",
       " 30: <gurobi.Var C374 (value 0.0)>,\n",
       " 31: <gurobi.Var C375 (value 405.93424427959945)>,\n",
       " 32: <gurobi.Var C376 (value 341.7450367802)>,\n",
       " 33: <gurobi.Var C377 (value 0.0)>,\n",
       " 34: <gurobi.Var C378 (value 0.0)>,\n",
       " 35: <gurobi.Var C379 (value 0.0)>,\n",
       " 36: <gurobi.Var C380 (value 0.0)>,\n",
       " 37: <gurobi.Var C381 (value 261.8564878650354)>,\n",
       " 38: <gurobi.Var C382 (value 0.0)>,\n",
       " 39: <gurobi.Var C383 (value 0.0)>,\n",
       " 40: <gurobi.Var C384 (value 0.0)>,\n",
       " 41: <gurobi.Var C385 (value 0.0)>,\n",
       " 42: <gurobi.Var C386 (value 0.0)>,\n",
       " 43: <gurobi.Var C387 (value 0.0)>,\n",
       " 44: <gurobi.Var C388 (value 0.0)>,\n",
       " 45: <gurobi.Var C389 (value 53.43077266088278)>,\n",
       " 46: <gurobi.Var C390 (value 0.0)>,\n",
       " 47: <gurobi.Var C391 (value 54.63826343649302)>,\n",
       " 48: <gurobi.Var C392 (value 114.7709775912561)>,\n",
       " 49: <gurobi.Var C393 (value 0.0)>,\n",
       " 50: <gurobi.Var C394 (value 0.0)>,\n",
       " 51: <gurobi.Var C395 (value 0.0)>,\n",
       " 52: <gurobi.Var C396 (value 0.0)>,\n",
       " 53: <gurobi.Var C397 (value 40.89789272029519)>,\n",
       " 54: <gurobi.Var C398 (value 0.0)>,\n",
       " 55: <gurobi.Var C399 (value 0.0)>,\n",
       " 56: <gurobi.Var C400 (value 0.0)>,\n",
       " 57: <gurobi.Var C401 (value 0.0)>,\n",
       " 58: <gurobi.Var C402 (value 0.0)>,\n",
       " 59: <gurobi.Var C403 (value 0.0)>,\n",
       " 60: <gurobi.Var C404 (value 0.0)>,\n",
       " 61: <gurobi.Var C405 (value 24.65998210983716)>,\n",
       " 62: <gurobi.Var C406 (value 0.0)>,\n",
       " 63: <gurobi.Var C407 (value 0.0)>,\n",
       " 64: <gurobi.Var C408 (value 0.0)>,\n",
       " 65: <gurobi.Var C409 (value 100.0)>,\n",
       " 66: <gurobi.Var C410 (value 0.0)>,\n",
       " 67: <gurobi.Var C411 (value 0.0)>,\n",
       " 68: <gurobi.Var C412 (value 34.698485196156156)>,\n",
       " 69: <gurobi.Var C413 (value 0.0)>,\n",
       " 70: <gurobi.Var C414 (value 0.15385179119723222)>,\n",
       " 71: <gurobi.Var C415 (value 0.0)>,\n",
       " 72: <gurobi.Var C416 (value 0.0)>,\n",
       " 73: <gurobi.Var C417 (value 0.0)>,\n",
       " 74: <gurobi.Var C418 (value 0.0)>,\n",
       " 75: <gurobi.Var C419 (value 0.0)>,\n",
       " 76: <gurobi.Var C420 (value 0.0)>,\n",
       " 77: <gurobi.Var C421 (value 0.0)>,\n",
       " 78: <gurobi.Var C422 (value 0.0)>,\n",
       " 79: <gurobi.Var C423 (value 0.0)>,\n",
       " 80: <gurobi.Var C424 (value 29.948810661293308)>,\n",
       " 81: <gurobi.Var C425 (value 0.0)>,\n",
       " 82: <gurobi.Var C426 (value 100.0)>,\n",
       " 83: <gurobi.Var C427 (value 0.0)>,\n",
       " 84: <gurobi.Var C428 (value 0.0)>,\n",
       " 85: <gurobi.Var C429 (value 100.0)>,\n",
       " 86: <gurobi.Var C430 (value 0.0)>,\n",
       " 87: <gurobi.Var C431 (value 0.0)>,\n",
       " 88: <gurobi.Var C432 (value 0.0)>,\n",
       " 89: <gurobi.Var C433 (value 260.334779688346)>,\n",
       " 90: <gurobi.Var C434 (value 0.0)>,\n",
       " 91: <gurobi.Var C435 (value 0.0)>,\n",
       " 92: <gurobi.Var C436 (value 0.0)>,\n",
       " 93: <gurobi.Var C437 (value 168.55304794966904)>,\n",
       " 94: <gurobi.Var C438 (value 0.0)>,\n",
       " 95: <gurobi.Var C439 (value 100.0)>,\n",
       " 96: <gurobi.Var C440 (value 0.0)>,\n",
       " 97: <gurobi.Var C441 (value 220.46625816276827)>,\n",
       " 98: <gurobi.Var C442 (value 0.0)>,\n",
       " 99: <gurobi.Var C443 (value 0.0)>,\n",
       " 100: <gurobi.Var C444 (value 0.0)>,\n",
       " 101: <gurobi.Var C445 (value 97.76692897088687)>,\n",
       " 102: <gurobi.Var C446 (value 0.0)>,\n",
       " 103: <gurobi.Var C447 (value 0.0)>,\n",
       " 104: <gurobi.Var C448 (value 63.18959871169937)>,\n",
       " 105: <gurobi.Var C449 (value 0.0)>,\n",
       " 106: <gurobi.Var C450 (value 0.0)>,\n",
       " 107: <gurobi.Var C451 (value 42.65245713368197)>,\n",
       " 108: <gurobi.Var C452 (value 0.0)>,\n",
       " 109: <gurobi.Var C453 (value 0.0)>,\n",
       " 110: <gurobi.Var C454 (value 96.02407688360448)>,\n",
       " 111: <gurobi.Var C455 (value 0.0)>,\n",
       " 112: <gurobi.Var C456 (value 100.0)>,\n",
       " 113: <gurobi.Var C457 (value 0.0)>,\n",
       " 114: <gurobi.Var C458 (value 74.05906644485167)>,\n",
       " 115: <gurobi.Var C459 (value 0.0)>,\n",
       " 116: <gurobi.Var C460 (value 0.0)>,\n",
       " 117: <gurobi.Var C461 (value 0.0)>,\n",
       " 118: <gurobi.Var C462 (value 152.80469825287474)>,\n",
       " 119: <gurobi.Var C463 (value 0.0)>,\n",
       " 120: <gurobi.Var C464 (value 0.0)>,\n",
       " 121: <gurobi.Var C465 (value 0.0)>,\n",
       " 122: <gurobi.Var C466 (value 0.0)>,\n",
       " 123: <gurobi.Var C467 (value 297.29477812914445)>,\n",
       " 124: <gurobi.Var C468 (value 0.0)>,\n",
       " 125: <gurobi.Var C469 (value 0.0)>,\n",
       " 126: <gurobi.Var C470 (value 0.0)>,\n",
       " 127: <gurobi.Var C471 (value 34.00534563784231)>,\n",
       " 128: <gurobi.Var C472 (value 0.0)>,\n",
       " 129: <gurobi.Var C473 (value 0.0)>,\n",
       " 130: <gurobi.Var C474 (value 55.92627375255014)>,\n",
       " 131: <gurobi.Var C475 (value 0.0)>,\n",
       " 132: <gurobi.Var C476 (value 0.0)>,\n",
       " 133: <gurobi.Var C477 (value 0.0)>,\n",
       " 134: <gurobi.Var C478 (value 0.0)>,\n",
       " 135: <gurobi.Var C479 (value 85.29517159896125)>,\n",
       " 136: <gurobi.Var C480 (value 0.0)>,\n",
       " 137: <gurobi.Var C481 (value 0.0)>,\n",
       " 138: <gurobi.Var C482 (value 0.0)>,\n",
       " 139: <gurobi.Var C483 (value 52.681112253411335)>,\n",
       " 140: <gurobi.Var C484 (value 0.37738517172774)>,\n",
       " 141: <gurobi.Var C485 (value 0.0)>,\n",
       " 142: <gurobi.Var C486 (value 0.0)>,\n",
       " 143: <gurobi.Var C487 (value 0.0)>,\n",
       " 144: <gurobi.Var C488 (value 0.0)>,\n",
       " 145: <gurobi.Var C489 (value 0.0)>,\n",
       " 146: <gurobi.Var C490 (value 0.0)>,\n",
       " 147: <gurobi.Var C491 (value 79.86565080982726)>,\n",
       " 148: <gurobi.Var C492 (value 0.0)>,\n",
       " 149: <gurobi.Var C493 (value 10.099999999999994)>,\n",
       " 150: <gurobi.Var C494 (value 0.0)>,\n",
       " 151: <gurobi.Var C495 (value 0.0)>,\n",
       " 152: <gurobi.Var C496 (value 0.0)>,\n",
       " 153: <gurobi.Var C497 (value 0.0)>,\n",
       " 154: <gurobi.Var C498 (value 0.0)>,\n",
       " 155: <gurobi.Var C499 (value 28.341274132955462)>,\n",
       " 156: <gurobi.Var C500 (value 63.796047852554075)>,\n",
       " 157: <gurobi.Var C501 (value 0.0)>,\n",
       " 158: <gurobi.Var C502 (value 0.0)>,\n",
       " 159: <gurobi.Var C503 (value 0.0)>,\n",
       " 160: <gurobi.Var C504 (value 27.164244024931406)>,\n",
       " 161: <gurobi.Var C505 (value 0.0)>,\n",
       " 162: <gurobi.Var C506 (value 2.4183223567700525)>,\n",
       " 163: <gurobi.Var C507 (value 0.0)>,\n",
       " 164: <gurobi.Var C508 (value 44.89634309426336)>,\n",
       " 165: <gurobi.Var C509 (value 0.0)>,\n",
       " 166: <gurobi.Var C510 (value 0.0)>,\n",
       " 167: <gurobi.Var C511 (value 0.0)>,\n",
       " 168: <gurobi.Var C512 (value 0.0)>,\n",
       " 169: <gurobi.Var C513 (value 25.674881471820925)>,\n",
       " 170: <gurobi.Var C514 (value 0.0)>,\n",
       " 171: <gurobi.Var C515 (value 0.0)>,\n",
       " 172: <gurobi.Var C516 (value 0.0)>,\n",
       " 173: <gurobi.Var C517 (value 3.9432585573397603)>,\n",
       " 174: <gurobi.Var C518 (value 0.0)>,\n",
       " 175: <gurobi.Var C519 (value 0.0)>,\n",
       " 176: <gurobi.Var C520 (value 0.0)>,\n",
       " 177: <gurobi.Var C521 (value 100.0)>,\n",
       " 178: <gurobi.Var C522 (value 100.0)>,\n",
       " 179: <gurobi.Var C523 (value 0.0)>,\n",
       " 180: <gurobi.Var C524 (value 0.0)>,\n",
       " 181: <gurobi.Var C525 (value 100.0)>,\n",
       " 182: <gurobi.Var C526 (value 0.0)>,\n",
       " 183: <gurobi.Var C527 (value 75.14559962546825)>,\n",
       " 184: <gurobi.Var C528 (value 0.0)>,\n",
       " 185: <gurobi.Var C529 (value 0.0)>,\n",
       " 186: <gurobi.Var C530 (value 0.0)>,\n",
       " 187: <gurobi.Var C531 (value 58.7)>,\n",
       " 188: <gurobi.Var C532 (value 100.0)>,\n",
       " 189: <gurobi.Var C533 (value 0.0)>,\n",
       " 190: <gurobi.Var C534 (value 0.0)>,\n",
       " 191: <gurobi.Var C535 (value 0.0)>,\n",
       " 192: <gurobi.Var C536 (value 0.0)>,\n",
       " 193: <gurobi.Var C537 (value 0.0)>}"
      ]
     },
     "execution_count": 158,
     "metadata": {},
     "output_type": "execute_result"
    }
   ],
   "source": [
    "Y"
   ]
  },
  {
   "cell_type": "markdown",
   "metadata": {},
   "source": [
    "In variable X, we are getting a really great picture of how energy flows throughout the system to meet demand. You can see that some arcs are maxed out to 100, some 'high' arcs are well beyond 100, while other arcs are not used at all. Model is working as planned.\n",
    "\n",
    "Okay so setting that one up wasn't too bad at all! Getting the hang of this now! Can't wait for the next email!\n",
    "\n",
    "***\n",
    "\n",
    "_Thank you for helping satisfy this current demand. However, in practice demand changes over the day, and we are concerned about how our network will cope with peak demand times. We have broken the day into six time periods: Midnight to 4am, 4am to 8am, 8am to 12pm, 12pm to 4pm, 4pm to 8pm, and 8pm to midnight._\n",
    "\n",
    "_Please see the attached data file:_\n",
    "\n",
    "_nodes2.csv gives an update of our earlier data with demands for each node (MW) at each of these time periods\n",
    "Could you revise your proposal to incorporate these changing demands? Please provide us with the optimal total cost over the day for meeting the demand in each of the six time periods from our generators._\n",
    "\n",
    "***\n",
    "\n",
    "Hmm changing demand profile ey? I wonder what that looks like"
   ]
  },
  {
   "cell_type": "code",
   "execution_count": 159,
   "metadata": {
    "scrolled": true
   },
   "outputs": [
    {
     "data": {
      "text/html": [
       "<div>\n",
       "<style scoped>\n",
       "    .dataframe tbody tr th:only-of-type {\n",
       "        vertical-align: middle;\n",
       "    }\n",
       "\n",
       "    .dataframe tbody tr th {\n",
       "        vertical-align: top;\n",
       "    }\n",
       "\n",
       "    .dataframe thead th {\n",
       "        text-align: right;\n",
       "    }\n",
       "</style>\n",
       "<table border=\"1\" class=\"dataframe\">\n",
       "  <thead>\n",
       "    <tr style=\"text-align: right;\">\n",
       "      <th></th>\n",
       "      <th>Node</th>\n",
       "      <th>X</th>\n",
       "      <th>Y</th>\n",
       "      <th>D0</th>\n",
       "      <th>D1</th>\n",
       "      <th>D2</th>\n",
       "      <th>D3</th>\n",
       "      <th>D4</th>\n",
       "      <th>D5</th>\n",
       "    </tr>\n",
       "  </thead>\n",
       "  <tbody>\n",
       "    <tr>\n",
       "      <th>0</th>\n",
       "      <td>0</td>\n",
       "      <td>90</td>\n",
       "      <td>5</td>\n",
       "      <td>26</td>\n",
       "      <td>44</td>\n",
       "      <td>49</td>\n",
       "      <td>51</td>\n",
       "      <td>61</td>\n",
       "      <td>56</td>\n",
       "    </tr>\n",
       "    <tr>\n",
       "      <th>1</th>\n",
       "      <td>1</td>\n",
       "      <td>148</td>\n",
       "      <td>132</td>\n",
       "      <td>13</td>\n",
       "      <td>23</td>\n",
       "      <td>26</td>\n",
       "      <td>32</td>\n",
       "      <td>35</td>\n",
       "      <td>32</td>\n",
       "    </tr>\n",
       "    <tr>\n",
       "      <th>2</th>\n",
       "      <td>2</td>\n",
       "      <td>173</td>\n",
       "      <td>33</td>\n",
       "      <td>37</td>\n",
       "      <td>45</td>\n",
       "      <td>49</td>\n",
       "      <td>50</td>\n",
       "      <td>59</td>\n",
       "      <td>56</td>\n",
       "    </tr>\n",
       "    <tr>\n",
       "      <th>3</th>\n",
       "      <td>3</td>\n",
       "      <td>59</td>\n",
       "      <td>130</td>\n",
       "      <td>24</td>\n",
       "      <td>37</td>\n",
       "      <td>59</td>\n",
       "      <td>45</td>\n",
       "      <td>72</td>\n",
       "      <td>54</td>\n",
       "    </tr>\n",
       "    <tr>\n",
       "      <th>4</th>\n",
       "      <td>4</td>\n",
       "      <td>52</td>\n",
       "      <td>9</td>\n",
       "      <td>47</td>\n",
       "      <td>58</td>\n",
       "      <td>76</td>\n",
       "      <td>106</td>\n",
       "      <td>98</td>\n",
       "      <td>67</td>\n",
       "    </tr>\n",
       "  </tbody>\n",
       "</table>\n",
       "</div>"
      ],
      "text/plain": [
       "   Node    X    Y  D0  D1  D2   D3  D4  D5\n",
       "0     0   90    5  26  44  49   51  61  56\n",
       "1     1  148  132  13  23  26   32  35  32\n",
       "2     2  173   33  37  45  49   50  59  56\n",
       "3     3   59  130  24  37  59   45  72  54\n",
       "4     4   52    9  47  58  76  106  98  67"
      ]
     },
     "execution_count": 159,
     "metadata": {},
     "output_type": "execute_result"
    }
   ],
   "source": [
    "nodes = pd.read_csv('nodes2.csv')\n",
    "\n",
    "nodes.head()"
   ]
  },
  {
   "cell_type": "markdown",
   "metadata": {},
   "source": [
    "Things are getting a bit more complicated. Looks like we'll need to ensure that we optimise each time period and then stitch them together at the end. Mercifully, all of the other data sets stay the same, but we need to start fiddling with our objective, variables, and constraints. \n",
    "\n",
    "First thing we will do is turn the demand data into something that is easy to work with."
   ]
  },
  {
   "cell_type": "code",
   "execution_count": 160,
   "metadata": {},
   "outputs": [],
   "source": [
    "# Email 4 - Make a table of demands D[n][t] \n",
    "T = range(6) # Set of daily time periods\n",
    "D = [[nodes['D'+str(t)][n] for t in T] for n in N] # Demand of node"
   ]
  },
  {
   "cell_type": "markdown",
   "metadata": {},
   "source": [
    "So now we have a 2D table that represents our demands for each node for each time period. Our decision variables will also now be dependent on the time of day, so in our new model we will adjust our variables and objective to reflect that. \n"
   ]
  },
  {
   "cell_type": "code",
   "execution_count": 161,
   "metadata": {},
   "outputs": [],
   "source": [
    "# X gives amount generated by generators at node n in time period t \n",
    "X = {(n,t): m.addVar() for n in N for t in T}\n",
    "\n",
    "# Y gives flow on arc a in time period t\n",
    "Y = {(a,t): m.addVar() for a in A for t in T}\n",
    "\n",
    "m.setObjective(4*(quicksum(costs[n]*X[n,t] for n in costs for t in T)), GRB.MINIMIZE)"
   ]
  },
  {
   "cell_type": "markdown",
   "metadata": {},
   "source": [
    "Here we can see our objective has changed slightly. Our generator decision variable now iterates over the six different periods of the day, so we actually have 6 hours of the day already calculated. So we need to multiply by four to get the full 24 hours. \n",
    "\n",
    "Our constraints will change slightly to accommodate the new variables. Substantively they do not change very much, we only need to make sure that we now iterate over all time periods for each arc/node/generator"
   ]
  },
  {
   "cell_type": "code",
   "execution_count": 162,
   "metadata": {},
   "outputs": [
    {
     "name": "stdout",
     "output_type": "stream",
     "text": [
      "Gurobi Optimizer version 9.1.1 build v9.1.1rc0 (win64)\n",
      "Thread count: 4 physical cores, 8 logical processors, using up to 8 threads\n",
      "Optimize a model with 2037 rows, 2002 columns and 5144 nonzeros\n",
      "Coefficient statistics:\n",
      "  Matrix range     [1e+00, 1e+00]\n",
      "  Objective range  [3e+02, 3e+02]\n",
      "  Bounds range     [0e+00, 0e+00]\n",
      "  RHS range        [8e+00, 2e+03]\n",
      "Iteration    Objective       Primal Inf.    Dual Inf.      Time\n",
      "       0    0.0000000e+00   1.068300e+04   0.000000e+00      0s\n",
      "    1377    3.2215060e+06   0.000000e+00   0.000000e+00      0s\n",
      "\n",
      "Solved in 1377 iterations and 0.02 seconds\n",
      "Optimal objective  3.221506012e+06\n",
      "Minimum cost = $ 3221506.0117758485\n"
     ]
    }
   ],
   "source": [
    "for t in T:\n",
    "    for a in A:\n",
    "        if not a in highs:\n",
    "            m.addConstr(Y[a,t] <= lowlimit)\n",
    "            \n",
    "    for n in N:\n",
    "        # Balancing the power flow at each node and in each time period\n",
    "        m.addConstr(quicksum(Y[a,t]*(1-loss*distance[a]) for a in A if arcs['Node2'][a] == n) + X[n,t]  ==\n",
    "                    quicksum(Y[a,t] for a in A if arcs['Node1'][a] == n) + D[n][t])\n",
    "        \n",
    "        if n in supply:\n",
    "            # Power generated by existing generators under capacity\n",
    "            m.addConstr(X[n,t] <= supply[n])\n",
    "        else: \n",
    "            # Forcing constraint\n",
    "            m.addConstr(X[n,t] == 0)\n",
    "            \n",
    "m.optimize()\n",
    "print(\"Minimum cost = $\",m.objVal)"
   ]
  },
  {
   "cell_type": "markdown",
   "metadata": {},
   "source": [
    "Now that our variables are in 2 dimensions, double checking them becomes a bit impractical; we will have 300 generator variables and over 1000 arc variables. Feel free to check them yourself if you like. \n",
    "\n",
    "Next email:\n",
    "\n",
    "***\n",
    "\n",
    "_Thank you for your help in optimising the use of our generators and network. This has enabled us to receive a capital budget for improving our production and delivery of electricity in the region._\n",
    "\n",
    "_Firstly, we have funds to increase the capacity of three of our transmission lines by 50 MW (to 150 MW). Which lines we should increase?_\n",
    "\n",
    "_Please provide us with the optimal total cost over the day for meeting the demand in each of the six time periods from our generators._\n",
    "\n",
    "***\n",
    "\n",
    "This request is asking us to select the best arcs to 'switch on' to optimise the network. This kind of problem  requires us to start looking at Mixed Integer Linear programming (MILP). Although it's called MILP, you will find that most of these problems actually use binary variables rather than interger variables. \n",
    "\n",
    "First thing we need to do is load the new data and start a new model. It is important to note that rather than using 150MW as a data point, we are going to use 50MW and add it to the existing transmission allowance. "
   ]
  },
  {
   "cell_type": "code",
   "execution_count": 163,
   "metadata": {},
   "outputs": [],
   "source": [
    "# Email 5\n",
    "Num_Inc_Lines = 3 # Number of lines with extra transmission allowance\n",
    "Extra_Arc_Cap = 50 # Extra transmission allowance(MW)"
   ]
  },
  {
   "cell_type": "markdown",
   "metadata": {},
   "source": [
    "Our objective remains unchanged as we are still optimising energy transmission over the whole day. \n",
    "\n",
    "Binary variables are declared in the same way as regular continuous variables, but changing the vtype argument.\n",
    "\n",
    "NB: vtype = CONTINUOUS is the default when the addVar argument is blank."
   ]
  },
  {
   "cell_type": "code",
   "execution_count": 164,
   "metadata": {},
   "outputs": [],
   "source": [
    "# X gives amount generated by generators at node n in time period t \n",
    "X = {(n,t): m.addVar() for n in N for t in T}\n",
    "\n",
    "# Y gives flow on arc a in time period t\n",
    "Y = {(a,t): m.addVar() for a in A for t in T}\n",
    "\n",
    "# I indicates whether the capacity is increased for all arcs\n",
    "I = {a: m.addVar(vtype=GRB.BINARY) for a in A}\n",
    "\n",
    "m.setObjective(4*(quicksum(costs[n]*X[n,t] for n in costs for t in T)), GRB.MINIMIZE)"
   ]
  },
  {
   "cell_type": "markdown",
   "metadata": {},
   "source": [
    "In this model, Gurobi will try to increase the capacity of a series of lines in the network. We need to tell the model to do two things; 1) To restrict the total number of increased transmission lines to 3, and 2) add 50MW capacity to the chosen transmission lines. \n",
    "\n",
    "The way gurobi achieves this is with binary variables. We have declared I\\[a\\] as the binary variable, so the only values I\\[a\\] can take on are 0 or 1.  "
   ]
  },
  {
   "cell_type": "code",
   "execution_count": 165,
   "metadata": {},
   "outputs": [
    {
     "data": {
      "text/plain": [
       "<gurobi.Constr *Awaiting Model Update*>"
      ]
     },
     "execution_count": 165,
     "metadata": {},
     "output_type": "execute_result"
    }
   ],
   "source": [
    "# restrict the number of extra-capacity transmission lines\n",
    "m.addConstr(quicksum(I[a] for a in A) == Num_Inc_Lines)"
   ]
  },
  {
   "cell_type": "markdown",
   "metadata": {},
   "source": [
    "This constraint is telling us that over every arc in the series of arcs, the sum of `I` must equal 3. Since they are binary, you basically get three `I[a]`'s that equal 1, and the rest will equal zero. This is important for our next constraint, because when `I[a] = 1`, that means we can apply any kind of data we want, while those that equal zero will be unaffected."
   ]
  },
  {
   "cell_type": "code",
   "execution_count": 166,
   "metadata": {},
   "outputs": [],
   "source": [
    "for t in T:            \n",
    "    for a in A:\n",
    "        if not a in highs:\n",
    "            # Restrict to max capacity of lines + additional capacity if applicable\n",
    "            m.addConstr(Y[a,t] <= lowlimit + Extra_Arc_Cap*I[a])"
   ]
  },
  {
   "cell_type": "markdown",
   "metadata": {},
   "source": [
    "Now when Gurobi sets the `I = 1`, that transmission capacity will be 100 + 50, while the remaining lines will stay at 100. \n",
    "\n",
    "The rest of the constraints are as before, since we have not changed any of that data "
   ]
  },
  {
   "cell_type": "code",
   "execution_count": 167,
   "metadata": {
    "scrolled": true
   },
   "outputs": [
    {
     "name": "stdout",
     "output_type": "stream",
     "text": [
      "Gurobi Optimizer version 9.1.1 build v9.1.1rc0 (win64)\n",
      "Thread count: 4 physical cores, 8 logical processors, using up to 8 threads\n",
      "Optimize a model with 3694 rows, 3660 columns and 10378 nonzeros\n",
      "Model fingerprint: 0x1956b365\n",
      "Variable types: 3466 continuous, 194 integer (194 binary)\n",
      "Coefficient statistics:\n",
      "  Matrix range     [1e+00, 5e+01]\n",
      "  Objective range  [3e+02, 3e+02]\n",
      "  Bounds range     [1e+00, 1e+00]\n",
      "  RHS range        [3e+00, 2e+03]\n",
      "Presolve removed 2337 rows and 2296 columns\n",
      "Presolve time: 0.02s\n",
      "Presolved: 1357 rows, 1364 columns, 4640 nonzeros\n",
      "Variable types: 1188 continuous, 176 integer (176 binary)\n",
      "\n",
      "Root relaxation: objective 3.213872e+06, 898 iterations, 0.02 seconds\n",
      "\n",
      "    Nodes    |    Current Node    |     Objective Bounds      |     Work\n",
      " Expl Unexpl |  Obj  Depth IntInf | Incumbent    BestBd   Gap | It/Node Time\n",
      "\n",
      "     0     0 3213871.75    0    5          - 3213871.75      -     -    0s\n",
      "H    0     0                    3216986.7025 3213871.75  0.10%     -    0s\n",
      "H    0     0                    3214696.6490 3213871.75  0.03%     -    0s\n",
      "H    0     0                    3214653.4117 3213871.75  0.02%     -    0s\n",
      "     0     0 3214344.89    0    4 3214653.41 3214344.89  0.01%     -    0s\n",
      "\n",
      "Cutting planes:\n",
      "  Gomory: 3\n",
      "  MIR: 35\n",
      "\n",
      "Explored 1 nodes (925 simplex iterations) in 0.12 seconds\n",
      "Thread count was 8 (of 8 available processors)\n",
      "\n",
      "Solution count 3: 3.21465e+06 3.2147e+06 3.21699e+06 \n",
      "\n",
      "Optimal solution found (tolerance 1.00e-04)\n",
      "Best objective 3.214653411746e+06, best bound 3.214344890852e+06, gap 0.0096%\n",
      "Minimum cost = $ 3214653.411746099\n"
     ]
    }
   ],
   "source": [
    "for t in T:    \n",
    "    for n in N:\n",
    "        # Balancing the power flow at each node and in each time period\n",
    "        m.addConstr(quicksum(Y[a,t]*(1-loss*distance[a]) for a in A if arcs['Node2'][a] == n) + X[n,t]  ==\n",
    "                    quicksum(Y[a,t] for a in A if arcs['Node1'][a] == n) + D[n][t])\n",
    "        \n",
    "        if n in supply:\n",
    "            # Power generated by existing generators under capacity\n",
    "            m.addConstr(X[n,t] <= supply[n])\n",
    "        else: \n",
    "            # Forcing constraint\n",
    "            m.addConstr(X[n,t] == 0)\n",
    "\n",
    "m.optimize()\n",
    "print(\"Minimum cost = $\",m.objVal)"
   ]
  },
  {
   "cell_type": "markdown",
   "metadata": {},
   "source": [
    "We can take a look at the binary variable and see which arcs had their capacity increased. Rather than looking through the entire list of variable `I` we can make use of some of the many Gurobi tricks. For example, for you can call the 'x' of a decision variable which will return the current value of that decision variable, and use regular python/pandas commands. "
   ]
  },
  {
   "cell_type": "code",
   "execution_count": 168,
   "metadata": {},
   "outputs": [
    {
     "name": "stdout",
     "output_type": "stream",
     "text": [
      "53 1.0 0.0\n",
      "53 1.0 0.0\n",
      "53 1.0 0.0\n",
      "53 1.0 48.15821554421959\n",
      "53 1.0 150.0\n",
      "53 1.0 8.346240040370787\n",
      "95 1.0 73.35694121563911\n",
      "95 1.0 124.36634060610503\n",
      "95 1.0 133.23630558776523\n",
      "95 1.0 150.0\n",
      "95 1.0 88.18430633097249\n",
      "95 1.0 150.0\n",
      "177 1.0 150.0\n",
      "177 1.0 114.29183090229925\n",
      "177 1.0 129.4053715683871\n",
      "177 1.0 150.0\n",
      "177 1.0 121.09634407845343\n",
      "177 1.0 127.6501173829477\n"
     ]
    }
   ],
   "source": [
    "for a in A:\n",
    "    for t in T:\n",
    "        if I[a].x> 0.9:\n",
    "            print(a, I[a].x, Y[a,t].x)"
   ]
  },
  {
   "cell_type": "markdown",
   "metadata": {},
   "source": [
    "So we can see that arcs 85, 95 and 177 are selected as the extra capacity transmission lines, and for most periods of the day the capacity is above the 100 limit (although not always at the maxed 150) \n",
    "\n",
    "Using binary data as on/off switches is an immensely powerful technique for modelling. I have a feeling that future communications from Sparkland may require the use of this technique! \n",
    "\n",
    "***\n",
    "\n",
    "_We also have funds to build a small gas generator at one of the existing nodes on the network, where there is not already a generator. This generator can supply up to 200 MW at a cost of \\$78/MWh. Where should we build this generator? Note that any existing demand at the node where it is located will still need to be met._\n",
    "\n",
    "_Please provide us with the optimal total cost over the day for meeting the demand in each of the six time periods from our generators. We realise that this may affect your proposal on which transmission lines to upgrade._\n",
    "***\n",
    "\n",
    "Using our new technique, we should be able to declare a new binary variable that iterates over the non-generator nodes, restrict how many nodes can be turned on, and then model the additional cost associated with the new generators. Lets start with loading our new data, and creating our variables"
   ]
  },
  {
   "cell_type": "code",
   "execution_count": 169,
   "metadata": {},
   "outputs": [],
   "source": [
    "# Email 6 \n",
    "Num_New_Generator = 1 # Number of new generators to be constructed\n",
    "New_Capacity = 200 # Capacity of the new generator\n",
    "New_Cost = 78 # Cost of the new generator\n",
    "\n",
    "# X gives amount generated by generators at node n in time period t \n",
    "X = {(n,t): m.addVar() for n in N for t in T}\n",
    "\n",
    "# Y gives flow on arc a in time period t\n",
    "Y = {(a,t): m.addVar() for a in A for t in T}\n",
    "\n",
    "# I indicates whether the capacity is increased for all arcs\n",
    "I = {a: m.addVar(vtype=GRB.BINARY) for a in A}\n",
    "\n",
    "# N_G indicates whether the node is chosen as a new generator\n",
    "N_G = {n: m.addVar(vtype=GRB.BINARY) for n in N if n not in supply} "
   ]
  },
  {
   "cell_type": "markdown",
   "metadata": {},
   "source": [
    "We now have a new generator that generates power and costs money. Since we are trying to minimize cost, this will require an alteration to our objective:"
   ]
  },
  {
   "cell_type": "code",
   "execution_count": 170,
   "metadata": {},
   "outputs": [],
   "source": [
    "m.setObjective(4*(quicksum(costs[n]*X[n,t] for n in costs for t in T)\n",
    "               + quicksum(New_Cost*X[n,t] for n in N for t in T if n not in costs)), GRB.MINIMIZE)"
   ]
  },
  {
   "cell_type": "markdown",
   "metadata": {},
   "source": [
    "This additional line will pick up the energy generated by the new generator and multiply it by the new generator cost.\n",
    "\n",
    "Like before, we need a constraint that limits the number of nodes that receive a new generator, restricting it to nodes that do not already have a generator. "
   ]
  },
  {
   "cell_type": "code",
   "execution_count": 171,
   "metadata": {},
   "outputs": [
    {
     "data": {
      "text/plain": [
       "<gurobi.Constr *Awaiting Model Update*>"
      ]
     },
     "execution_count": 171,
     "metadata": {},
     "output_type": "execute_result"
    }
   ],
   "source": [
    "# Total number of new gas generator(s)\n",
    "m.addConstr(quicksum(N_G[n] for n in N if n not in supply) == Num_New_Generator)"
   ]
  },
  {
   "cell_type": "markdown",
   "metadata": {},
   "source": [
    "Most of the other constraints remain the same, however we do augment one constraint in a very subtle but important way"
   ]
  },
  {
   "cell_type": "code",
   "execution_count": 172,
   "metadata": {},
   "outputs": [],
   "source": [
    "# restrict the number of extra-capacity transmission lines\n",
    "m.addConstr(quicksum(I[a] for a in A) == Num_Inc_Lines)\n",
    "\n",
    "for t in T:    \n",
    "    for a in A:\n",
    "        if not a in highs:\n",
    "            # Restrict to max capacity of lines + additional capacity if applicable\n",
    "            m.addConstr(Y[a,t] <= lowlimit + Extra_Arc_Cap*I[a])\n",
    "    \n",
    "    for n in N:\n",
    "        # Balancing the power flow at each node and in each time period\n",
    "        m.addConstr(quicksum(Y[a,t]*(1-loss*distance[a]) for a in A if arcs['Node2'][a] == n) + X[n,t]  ==\n",
    "                    quicksum(Y[a,t] for a in A if arcs['Node1'][a] == n) + D[n][t])\n",
    "        \n",
    "        if n in supply:\n",
    "            # Power generated by existing generators under capacity\n",
    "            m.addConstr(X[n,t] <= supply[n])\n",
    "        else: \n",
    "            # Forcing constraint + Capacity of the gas generator if applicable at node n\n",
    "            m.addConstr(X[n,t] <= N_G[n]*New_Capacity)"
   ]
  },
  {
   "cell_type": "markdown",
   "metadata": {},
   "source": [
    "Our forcing constraint has taken on a very new look, but it still largely performs the same role as before. Here is how to interpret it:\n",
    "* when `N_G[n] == 0`, it is a normal node, so `X[n,t] <= 0 * New_Capacity == 0`. This is basically the forcing constraint as before \n",
    "* when `N_G[n] == 1`, it is a new generator, so `X[n,t] <= New_Capacity`, which we can now use in our objective\n"
   ]
  },
  {
   "cell_type": "code",
   "execution_count": 173,
   "metadata": {},
   "outputs": [
    {
     "name": "stdout",
     "output_type": "stream",
     "text": [
      "Gurobi Optimizer version 9.1.1 build v9.1.1rc0 (win64)\n",
      "Thread count: 4 physical cores, 8 logical processors, using up to 8 threads\n",
      "Optimize a model with 5352 rows, 5364 columns and 15934 nonzeros\n",
      "Model fingerprint: 0x457fdf36\n",
      "Variable types: 4930 continuous, 434 integer (434 binary)\n",
      "Coefficient statistics:\n",
      "  Matrix range     [1e+00, 2e+02]\n",
      "  Objective range  [3e+02, 3e+02]\n",
      "  Bounds range     [1e+00, 1e+00]\n",
      "  RHS range        [1e+00, 2e+03]\n",
      "\n",
      "MIP start from previous solve produced solution with objective 3.20687e+06 (0.07s)\n",
      "MIP start from previous solve produced solution with objective 3.20147e+06 (0.07s)\n",
      "MIP start from previous solve produced solution with objective 3.20032e+06 (0.19s)\n",
      "Loaded MIP start from previous solve with objective 3.20032e+06\n",
      "\n",
      "Presolve removed 3718 rows and 3678 columns\n",
      "Presolve time: 0.06s\n",
      "Presolved: 1634 rows, 1686 columns, 5514 nonzeros\n",
      "Variable types: 1464 continuous, 222 integer (222 binary)\n",
      "\n",
      "Root relaxation: objective 3.194360e+06, 1494 iterations, 0.03 seconds\n",
      "\n",
      "    Nodes    |    Current Node    |     Objective Bounds      |     Work\n",
      " Expl Unexpl |  Obj  Depth IntInf | Incumbent    BestBd   Gap | It/Node Time\n",
      "\n",
      "     0     0 3194360.01    0   12 3200321.86 3194360.01  0.19%     -    0s\n",
      "     0     0 3197957.05    0   12 3200321.86 3197957.05  0.07%     -    0s\n",
      "     0     0 3198353.68    0   14 3200321.86 3198353.68  0.06%     -    0s\n",
      "     0     0 3198353.68    0   12 3200321.86 3198353.68  0.06%     -    0s\n",
      "     0     0 3199141.27    0   11 3200321.86 3199141.27  0.04%     -    0s\n",
      "     0     0 3200053.60    0   11 3200321.86 3200053.60  0.01%     -    0s\n",
      "\n",
      "Cutting planes:\n",
      "  Gomory: 3\n",
      "  MIR: 34\n",
      "  Flow cover: 141\n",
      "\n",
      "Explored 1 nodes (1872 simplex iterations) in 0.49 seconds\n",
      "Thread count was 8 (of 8 available processors)\n",
      "\n",
      "Solution count 3: 3.20032e+06 3.20147e+06 3.20687e+06 \n",
      "\n",
      "Optimal solution found (tolerance 1.00e-04)\n",
      "Best objective 3.200321858046e+06, best bound 3.200053600992e+06, gap 0.0084%\n",
      "Minimum cost = $ 3200321.858046277\n"
     ]
    }
   ],
   "source": [
    "m.optimize()\n",
    "print(\"Minimum cost = $\",m.objVal)"
   ]
  },
  {
   "cell_type": "markdown",
   "metadata": {},
   "source": [
    "Once again, we can check which node was switched on, and we can also see what the generation profile looks like. "
   ]
  },
  {
   "cell_type": "code",
   "execution_count": 174,
   "metadata": {},
   "outputs": [
    {
     "name": "stdout",
     "output_type": "stream",
     "text": [
      "33 1.0 <gurobi.Var C3858 (value 0.0)>\n",
      "33 1.0 <gurobi.Var C3859 (value 0.0)>\n",
      "33 1.0 <gurobi.Var C3860 (value 133.1326976799127)>\n",
      "33 1.0 <gurobi.Var C3861 (value 199.99999999999997)>\n",
      "33 1.0 <gurobi.Var C3862 (value 200.0)>\n",
      "33 1.0 <gurobi.Var C3863 (value 200.0)>\n"
     ]
    }
   ],
   "source": [
    "for t in T:\n",
    "    for n in N: \n",
    "        if n not in supply:\n",
    "            if N_G[n].x > 0.9:\n",
    "                print(n, N_G[n].x, X[n,t])"
   ]
  },
  {
   "cell_type": "markdown",
   "metadata": {},
   "source": [
    "No demand overnight, maxed out demand in peak periods. Makes perfect sense. Okay on to the next email:\n",
    "***\n",
    "_Unfortunately the local government has declined our application to build the new generator at Node 33. Could you propose an alternative site we should use? We realise that this may affect your earlier proposal on which transmission lines to upgrade._\n",
    "\n",
    "_Please provide us with the optimal total cost over the day for meeting the demand in each of the six time periods from our generators._\n",
    "***\n",
    "\n",
    "Okay so our previous analysis found the optimal configuration for a new generator. Our new model is going to only include one extra constraint which specifically excludes node 33"
   ]
  },
  {
   "cell_type": "code",
   "execution_count": 175,
   "metadata": {},
   "outputs": [
    {
     "data": {
      "text/plain": [
       "<gurobi.Constr *Awaiting Model Update*>"
      ]
     },
     "execution_count": 175,
     "metadata": {},
     "output_type": "execute_result"
    }
   ],
   "source": [
    "# Email 7 - Exclude building new generator at the declined node\n",
    "Declined_node = 33\n",
    "m.addConstr(N_G[Declined_node] == 0)"
   ]
  },
  {
   "cell_type": "markdown",
   "metadata": {},
   "source": [
    "In this case, we do not need to redeclare our variables, objective or constraints, so lets just go."
   ]
  },
  {
   "cell_type": "code",
   "execution_count": 176,
   "metadata": {},
   "outputs": [
    {
     "name": "stdout",
     "output_type": "stream",
     "text": [
      "Gurobi Optimizer version 9.1.1 build v9.1.1rc0 (win64)\n",
      "Thread count: 4 physical cores, 8 logical processors, using up to 8 threads\n",
      "Optimize a model with 5353 rows, 5364 columns and 15935 nonzeros\n",
      "Model fingerprint: 0xec12ea46\n",
      "Variable types: 4930 continuous, 434 integer (434 binary)\n",
      "Coefficient statistics:\n",
      "  Matrix range     [1e+00, 2e+02]\n",
      "  Objective range  [3e+02, 3e+02]\n",
      "  Bounds range     [1e+00, 1e+00]\n",
      "  RHS range        [1e+00, 2e+03]\n",
      "\n",
      "MIP start from previous solve did not produce a new incumbent solution\n",
      "MIP start from previous solve violates constraint R5352 by 1.000000000\n",
      "\n",
      "Presolve removed 3725 rows and 3685 columns\n",
      "Presolve time: 0.05s\n",
      "Presolved: 1628 rows, 1679 columns, 5495 nonzeros\n",
      "Variable types: 1458 continuous, 221 integer (221 binary)\n",
      "\n",
      "Root relaxation: objective 3.194726e+06, 1408 iterations, 0.03 seconds\n",
      "\n",
      "    Nodes    |    Current Node    |     Objective Bounds      |     Work\n",
      " Expl Unexpl |  Obj  Depth IntInf | Incumbent    BestBd   Gap | It/Node Time\n",
      "\n",
      "     0     0 3194725.52    0   11          - 3194725.52      -     -    0s\n",
      "H    0     0                    3206873.7823 3194725.52  0.38%     -    0s\n",
      "H    0     0                    3201470.5658 3194725.52  0.21%     -    0s\n",
      "H    0     0                    3200629.1711 3194725.52  0.18%     -    0s\n",
      "     0     0 3197805.94    0   12 3200629.17 3197805.94  0.09%     -    0s\n",
      "H    0     0                    3200414.7222 3197805.94  0.08%     -    0s\n",
      "     0     0 3197938.14    0   11 3200414.72 3197938.14  0.08%     -    0s\n",
      "     0     0 3197943.47    0   11 3200414.72 3197943.47  0.08%     -    0s\n",
      "     0     0 3198924.18    0   12 3200414.72 3198924.18  0.05%     -    0s\n",
      "     0     0 3199313.58    0    8 3200414.72 3199313.58  0.03%     -    0s\n",
      "     0     0 3200085.42    0   12 3200414.72 3200085.42  0.01%     -    0s\n",
      "     0     0 3200100.28    0   13 3200414.72 3200100.28  0.01%     -    0s\n",
      "\n",
      "Cutting planes:\n",
      "  Gomory: 4\n",
      "  MIR: 20\n",
      "  Flow cover: 131\n",
      "\n",
      "Explored 1 nodes (1706 simplex iterations) in 0.27 seconds\n",
      "Thread count was 8 (of 8 available processors)\n",
      "\n",
      "Solution count 4: 3.20041e+06 3.20063e+06 3.20147e+06 3.20687e+06 \n",
      "\n",
      "Optimal solution found (tolerance 1.00e-04)\n",
      "Best objective 3.200414722247e+06, best bound 3.200100275115e+06, gap 0.0098%\n",
      "Minimum cost = $ 3200414.7222472364\n"
     ]
    }
   ],
   "source": [
    "m.optimize()\n",
    "print(\"Minimum cost = $\",m.objVal)"
   ]
  },
  {
   "cell_type": "code",
   "execution_count": 177,
   "metadata": {},
   "outputs": [
    {
     "name": "stdout",
     "output_type": "stream",
     "text": [
      "26 1.0 0.0\n",
      "26 1.0 0.0\n",
      "26 1.0 126.2098185216606\n",
      "26 1.0 200.0\n",
      "26 1.0 200.0\n",
      "26 1.0 200.0\n"
     ]
    }
   ],
   "source": [
    "for t in T:\n",
    "    for n in N: \n",
    "        if n not in supply:\n",
    "            if N_G[n].x > 0.9:\n",
    "                print(n, N_G[n].x, X[n,t].x)"
   ]
  },
  {
   "cell_type": "markdown",
   "metadata": {},
   "source": [
    "Excluding node 33 causes the model to optimize for node 26 instead, and it's less than $100 more expensive, so maybe the local council has made the correct choice. \n",
    "\n",
    "***\n",
    "\n",
    "_We're excited to let you know that we have the go-ahead to build the gas generator. Due to the design of the gas generator, we can only run it during four time periods (16 hours) each day. Given our current demands, which time periods should it be operated? We realise that this may affect your earlier proposals on which transmission lines to upgrade and even where we should build the new gas generator._\n",
    "\n",
    "_Please provide us with the optimal total cost over the day for meeting the demand in each of the six time periods from our generators._\n",
    "\n",
    "***\n",
    "\n",
    "This request seems a little redundant; we have already analysed the result of the last modelling exercise and two of the 6 periods are already at zero. We will implement the new requirements as requested, but the prediction is that the objective value will be the same. However they raise a good point, does the placement of this new generator alter the high capacity lines we optimised earlier?\n",
    "\n",
    "Lets start with the new data (max number of periods)"
   ]
  },
  {
   "cell_type": "code",
   "execution_count": 178,
   "metadata": {},
   "outputs": [],
   "source": [
    "# Email 8\n",
    "New_Periods = 4 # Number of periods that the gas generator can run per day\n"
   ]
  },
  {
   "cell_type": "markdown",
   "metadata": {},
   "source": [
    "We'll need a new binary variable to select the optimal periods"
   ]
  },
  {
   "cell_type": "code",
   "execution_count": 179,
   "metadata": {},
   "outputs": [],
   "source": [
    "#X gives amount generated by generators (including the gas generator) at node n in time period t\n",
    "X = {(n,t): m.addVar() for n in N for t in T}\n",
    "\n",
    "# Y gives flow on arc a in time period t\n",
    "Y = {(a,t): m.addVar() for a in A for t in T}\n",
    "\n",
    "# I indicates whether the capacity is increased for all arcs\n",
    "I = {a: m.addVar(vtype=GRB.BINARY) for a in A}\n",
    "\n",
    "# N_G indicates whether the node is chosen as a new generator\n",
    "N_G = {n: m.addVar(vtype=GRB.BINARY) for n in N if n not in supply} \n",
    "\n",
    "# P indicates in which periods the gas generator should run\n",
    "P = {t: m.addVar(vtype=GRB.BINARY) for t in T}\n",
    "\n",
    "m.setObjective(4*(quicksum(costs[n]*X[n,t] for n in costs for t in T)\n",
    "               + quicksum(New_Cost*X[n,t] for n in N for t in T if n not in costs)), GRB.MINIMIZE)"
   ]
  },
  {
   "cell_type": "markdown",
   "metadata": {},
   "source": [
    "New constraints too, we'll add them to the previous ones. "
   ]
  },
  {
   "cell_type": "code",
   "execution_count": 180,
   "metadata": {},
   "outputs": [
    {
     "name": "stdout",
     "output_type": "stream",
     "text": [
      "Gurobi Optimizer version 9.1.1 build v9.1.1rc0 (win64)\n",
      "Thread count: 4 physical cores, 8 logical processors, using up to 8 threads\n",
      "Optimize a model with 7289 rows, 7074 columns and 22050 nonzeros\n",
      "Model fingerprint: 0x434ddd96\n",
      "Variable types: 6394 continuous, 680 integer (680 binary)\n",
      "Coefficient statistics:\n",
      "  Matrix range     [1e+00, 2e+02]\n",
      "  Objective range  [3e+02, 3e+02]\n",
      "  Bounds range     [1e+00, 1e+00]\n",
      "  RHS range        [1e+00, 2e+03]\n",
      "\n",
      "MIP start from previous solve produced solution with objective 3.21465e+06 (0.08s)\n",
      "MIP start from previous solve produced solution with objective 3.20147e+06 (0.08s)\n",
      "MIP start from previous solve produced solution with objective 3.20041e+06 (0.20s)\n",
      "Loaded MIP start from previous solve with objective 3.20041e+06\n",
      "\n",
      "Presolve removed 5390 rows and 5389 columns\n",
      "Presolve time: 0.08s\n",
      "Presolved: 1899 rows, 1685 columns, 6041 nonzeros\n",
      "Variable types: 1458 continuous, 227 integer (227 binary)\n",
      "\n",
      "Root relaxation: objective 3.194726e+06, 1424 iterations, 0.04 seconds\n",
      "\n",
      "    Nodes    |    Current Node    |     Objective Bounds      |     Work\n",
      " Expl Unexpl |  Obj  Depth IntInf | Incumbent    BestBd   Gap | It/Node Time\n",
      "\n",
      "     0     0 3194725.52    0   14 3200414.72 3194725.52  0.18%     -    0s\n",
      "     0     0 3197805.94    0   14 3200414.72 3197805.94  0.08%     -    0s\n",
      "     0     0 3197943.47    0   13 3200414.72 3197943.47  0.08%     -    0s\n",
      "     0     0 3197943.47    0   13 3200414.72 3197943.47  0.08%     -    0s\n",
      "     0     0 3198960.41    0   14 3200414.72 3198960.41  0.05%     -    0s\n",
      "     0     0 3199315.22    0    8 3200414.72 3199315.22  0.03%     -    0s\n",
      "     0     0 3199348.21    0   14 3200414.72 3199348.21  0.03%     -    0s\n",
      "     0     0 3199348.87    0    9 3200414.72 3199348.87  0.03%     -    0s\n",
      "\n",
      "Cutting planes:\n",
      "  Gomory: 4\n",
      "  MIR: 31\n",
      "  Flow cover: 160\n",
      "  RLT: 9\n",
      "\n",
      "Explored 1 nodes (1766 simplex iterations) in 0.56 seconds\n",
      "Thread count was 8 (of 8 available processors)\n",
      "\n",
      "Solution count 3: 3.20041e+06 3.20147e+06 3.21465e+06 \n",
      "\n",
      "Optimal solution found (tolerance 1.00e-04)\n",
      "Best objective 3.200414722247e+06, best bound 3.200414722247e+06, gap 0.0000%\n",
      "Minimum cost = $ 3200414.722247237\n"
     ]
    }
   ],
   "source": [
    "# restrict the number of extra-capacity transmission lines\n",
    "m.addConstr(quicksum(I[a] for a in A) == Num_Inc_Lines)\n",
    "\n",
    "# Total number of time periods which the gas generator it operated\n",
    "m.addConstr(quicksum(P[t] for t in T) == New_Periods)\n",
    "\n",
    "# Exclude building new generator at the declined node\n",
    "Declined_node = 33\n",
    "m.addConstr(N_G[Declined_node] == 0)\n",
    "\n",
    "# Total number of new gas generator(s)\n",
    "m.addConstr(quicksum(N_G[n] for n in N if n not in supply) == Num_New_Generator)\n",
    "\n",
    "for t in T:    \n",
    "    for a in A:\n",
    "        if not a in highs:\n",
    "            # Restrict to max capacity of lines + additional capacity if applicable\n",
    "            m.addConstr(Y[a,t] <= lowlimit + Extra_Arc_Cap*I[a])\n",
    "    \n",
    "    for n in N:\n",
    "        # Balancing the power flow at each node and in each time period\n",
    "        m.addConstr(quicksum(Y[a,t]*(1-loss*distance[a]) for a in A if arcs['Node2'][a] == n) + X[n,t]  ==\n",
    "                    quicksum(Y[a,t] for a in A if arcs['Node1'][a] == n) + D[n][t])\n",
    "        \n",
    "        if n in supply:\n",
    "            # Power generated by existing generators under capacity\n",
    "            m.addConstr(X[n,t] <= supply[n])\n",
    "        else: \n",
    "            # Forcing constraint + Capacity of the gas generator if applicable at node n\n",
    "            m.addConstr(X[n,t] <= N_G[n] * New_Capacity)\n",
    "            # Capacity of the gas generator if applicable in time period t\n",
    "            m.addConstr(X[n,t] <= P[t] * New_Capacity)\n",
    "\n",
    "\n",
    "m.optimize()\n",
    "print(\"Minimum cost = $\",m.objVal)"
   ]
  },
  {
   "cell_type": "code",
   "execution_count": 182,
   "metadata": {
    "scrolled": true
   },
   "outputs": [
    {
     "name": "stdout",
     "output_type": "stream",
     "text": [
      "26 0 1.0 0.0\n",
      "26 1 1.0 0.0\n",
      "26 2 1.0 126.2098185216606\n",
      "26 3 1.0 200.0\n",
      "26 4 1.0 200.0\n",
      "26 5 1.0 200.0\n"
     ]
    }
   ],
   "source": [
    "for t in T:\n",
    "    for n in N: \n",
    "        if n not in supply:\n",
    "            if N_G[n].x > 0.9:\n",
    "                print(n,t, N_G[n].x, X[n,t].x)"
   ]
  },
  {
   "cell_type": "markdown",
   "metadata": {},
   "source": [
    "Well it doesn't tell us much as it looks the same as before, but let's make sure the binary variable is working as expected"
   ]
  },
  {
   "cell_type": "code",
   "execution_count": 183,
   "metadata": {},
   "outputs": [
    {
     "name": "stdout",
     "output_type": "stream",
     "text": [
      "0 -0.0\n",
      "1 0.0\n",
      "2 1.0\n",
      "3 1.0\n",
      "4 1.0\n",
      "5 1.0\n"
     ]
    }
   ],
   "source": [
    "for t in T:\n",
    "    print(t, P[t].x)"
   ]
  },
  {
   "cell_type": "markdown",
   "metadata": {},
   "source": [
    "Very good, periods zero and one are switched off. And what about our high capacity arcs? "
   ]
  },
  {
   "cell_type": "code",
   "execution_count": 186,
   "metadata": {},
   "outputs": [
    {
     "name": "stdout",
     "output_type": "stream",
     "text": [
      "85 1.0 112.22181419578074\n",
      "85 1.0 145.67422325758588\n",
      "85 1.0 150.0\n",
      "85 1.0 150.0\n",
      "85 1.0 150.0\n",
      "85 1.0 150.0\n",
      "95 1.0 73.35694121563911\n",
      "95 1.0 124.36634060610503\n",
      "95 1.0 133.23630558776523\n",
      "95 1.0 150.00000000000003\n",
      "95 1.0 149.4007496569326\n",
      "95 1.0 150.0\n",
      "177 1.0 150.0\n",
      "177 1.0 114.29183090229925\n",
      "177 1.0 129.4053715683871\n",
      "177 1.0 150.0\n",
      "177 1.0 150.0\n",
      "177 1.0 127.6501173829477\n"
     ]
    }
   ],
   "source": [
    "for a in A: \n",
    "    for t in T:\n",
    "        if I[a].x > 0.9:\n",
    "            print(a, I[a].x,Y[a,t].x)"
   ]
  },
  {
   "cell_type": "markdown",
   "metadata": {},
   "source": [
    "Appears to be exactly the same high capacity arcs and the same transmission profile throughout the day. Okay, next email:\n",
    "\n",
    "***\n",
    "_In addition to the gas generator, we can also build a solar farm at one of the nodes. This will produce electricity over the day as follows:_\n",
    "\n",
    "|Time Period|0–4|4–8|8–12|12–16|16–20|20–24|\n",
    "| :-: | :-: | :-: | :-: | :-: | :-: | :-: | \n",
    "|Supply (MW)|0|20|120|110|20|0|\n",
    "\n",
    "_The cost of the solar electricity is $42/MWh. Where should we build this solar farm? Note that any existing demand at the node where it is located will still need to be met._\n",
    "\n",
    "_Please provide us with the optimal total cost over the day for meeting the demand in each of the six time periods from our combined generators. We realise that this may affect your earlier proposals on which transmission lines to upgrade and where we should build the new gas generator._\n",
    "\n",
    "***\n",
    "\n",
    "Finally, some solar generation! I was becoming conflicted helping this fossil energy generator maximise their shareholders' profits. This will be very similar to our new gas generator process, with a bit more data surrounding generation profile \n"
   ]
  },
  {
   "cell_type": "code",
   "execution_count": null,
   "metadata": {},
   "outputs": [],
   "source": [
    "# Email 9 data\n",
    "Num_Solar_Farm = 1 # Number of solar farm\n",
    "Supply_SF = [0,20,120,110,20,0] # Capacity of the solar farm in different time periods \n",
    "Cost_SF = 42 # Cost of the solar farm"
   ]
  },
  {
   "cell_type": "code",
   "execution_count": null,
   "metadata": {},
   "outputs": [],
   "source": []
  },
  {
   "cell_type": "code",
   "execution_count": null,
   "metadata": {},
   "outputs": [],
   "source": [
    "# Email 1 - Generator data \n",
    "costs = { 20: 65, 45: 70, 35: 74, 37: 82}\n",
    "supply = { 20: 406, 45: 838, 35: 818, 37: 654}\n",
    "\n",
    "# Comm 2 - Transmission loss\n",
    "loss = 0.001 # Loss factor (% per km)\n",
    "\n",
    "# Comm 3 - Transmission limits [change for your data]\n",
    "lowlimit = 129 # Transmission maximum limit (MW)\n",
    "highs = [18,19,74,75,98,99,110,111,114,115,142,143,148,149,152,153,154,155] # Set U in the report, lines with unlimited capacity\n",
    "\n",
    "# Calculate lengths of each arc \n",
    "distance = [math.hypot(\n",
    "    nodes['X'][arcs['Node1'][a]]-nodes['X'][arcs['Node2'][a]],\n",
    "    nodes['Y'][arcs['Node1'][a]]-nodes['Y'][arcs['Node2'][a]]) for a in A]\n",
    "\n",
    "# Comm 4 - Make a table of demands D[n][t] for clarity later\n",
    "T = range(6) # Set of daily time periods\n",
    "D = [[nodes['D'+str(t)][n] for t in T] for n in N] # Demand of node\n",
    "\n",
    "# Comm 6\n",
    "Num_Inc_Lines = 3 # Number of lines with extra transmission allowance\n",
    "Extra_Arc_Cap = 50 # Extra transmission allowance(MW)\n",
    "\n",
    "# Comm 7\n",
    "Num_New_Generator = 1 # Number of new generators to be constructed\n",
    "New_Capacity = 200 # Capacity of the new generator\n",
    "New_Cost = 75 # Cost of the new generator\n",
    "\n",
    "# Comm 8\n",
    "Declined_node = 5 # The node for the new generator delinded by the government\n",
    "\n",
    "# Comm 9\n",
    "New_Periods = 4 # Number of periods that the gas generator can run per day\n",
    "\n",
    "# Comm 10\n",
    "Num_Solar_Farm = 1 # Number of solar farm\n",
    "Supply_SF = [0,20,120,110,20,0] # Capacity of the solar farm in different time periods \n",
    "Cost_SF = 42 # Cost of the solar farm\n",
    "\n",
    "# Comm 11\n",
    "Cap_Threshold = 0.6 # Threshold of generators above which power production is less efficient\n",
    "Extra_Cost = 0.3 # Cost increase (%) of power when generator production exceeds threshold\n",
    "\n",
    "# Comm 12\n",
    "Reduced_demand = 0.1 # Percentage by which the demand is reduced\n",
    "Num_Reduce_Period = 1 # Number of periods that a node should reduce its demand every day\n",
    "Num_Reduce_Node = 9 # Maximum number of nodes to reduce demand in a time period"
   ]
  },
  {
   "cell_type": "markdown",
   "metadata": {},
   "source": []
  },
  {
   "cell_type": "code",
   "execution_count": null,
   "metadata": {},
   "outputs": [],
   "source": []
  },
  {
   "cell_type": "code",
   "execution_count": null,
   "metadata": {},
   "outputs": [],
   "source": [
    "m = Model(\"Electrigrid\")"
   ]
  },
  {
   "cell_type": "code",
   "execution_count": null,
   "metadata": {},
   "outputs": [],
   "source": [
    "# X gives flow on arc a in time period t\n",
    "X = {(a,t): m.addVar() for a in A for t in T}\n",
    "\n",
    "# Y gives amount generated by generators (including the gas generator) at node n in time period t within the efficient threshold\n",
    "Y = {(n,t): m.addVar() for n in N for t in T}\n",
    "\n",
    "# I indicates whether the capacity is increased for all arcs\n",
    "I = {a: m.addVar(vtype=GRB.BINARY) for a in A}\n",
    "\n",
    "# N_G indicates whether the node is chosen as a new generator\n",
    "N_G = {n: m.addVar(vtype=GRB.BINARY) for n in N if n not in supply} \n",
    "\n",
    "# P indicates in which periods the gas generator should run\n",
    "P = {t: m.addVar(vtype=GRB.BINARY) for t in T}\n",
    "\n",
    "# S indicates whether the node is chosen to build a solar farm\n",
    "S = {n: m.addVar(vtype=GRB.BINARY) for n in N}\n",
    "\n",
    "# Z gives amount generated by the solar farm at node n in time period t\n",
    "Z = {(n,t): m.addVar() for n in N for t in T}\n",
    "\n",
    "# O indicates whether a original generator is operating more than 60% of its capacity in time period t\n",
    "O = {(n,t): m.addVar(vtype=GRB.BINARY) for n in N for t in T}\n",
    "\n",
    "# E indicates the extra amount generated by original generators over 60% of their capacities\n",
    "E = {(n,t): m.addVar() for n in N for t in T}\n",
    "\n",
    "# R indicates whether a node reduces its demand in a time period.\n",
    "R = {(n,t): m.addVar(vtype=GRB.BINARY) for n in N for t in T}"
   ]
  },
  {
   "cell_type": "code",
   "execution_count": null,
   "metadata": {},
   "outputs": [],
   "source": []
  },
  {
   "cell_type": "code",
   "execution_count": null,
   "metadata": {},
   "outputs": [],
   "source": [
    "# Constraints 16 & 17: Non-negative constraints are set by default\n",
    "\n",
    "for t in T:\n",
    "    # Constraint 15: Maximum number of nodes to reduce demand in one time period \n",
    "    m.addConstr(quicksum(R[n,t] for n in N) <= Num_Reduce_Node)\n",
    "    for a in A:\n",
    "        # constrain maximum flow on arc a (unless it is one of the high transmission lines) \n",
    "        if not a in highs:\n",
    "            # Constraint 1: Capacity of lines with additional capacity if applicable\n",
    "            m.addConstr(X[a,t] <= lowlimit + Extra_Arc_Cap*I[a])\n",
    "            \n",
    "    for n in N:\n",
    "        # Constraint 9: Balancing the power flow at each node and in each time period\n",
    "        m.addConstr(quicksum(X[a,t]*(1-loss*distance[a]) for a in A if arcs['Node2'][a] == n) + Y[n,t] + Z[n,t] + E[n,t] ==\n",
    "                    quicksum(X[a,t] for a in A if arcs['Node1'][a] == n) + D[n][t]*(1-R[n,t]*Reduced_demand))\n",
    "        \n",
    "        # constraint 8: Power generated by the solar farm if applicable at node n and in time period t\n",
    "        m.addConstr(Z[n,t] <= S[n]*Supply_SF[t])\n",
    "        # Y is constrained by supply at generator nodes and must be 0 everywhere else\n",
    "        if n in supply:\n",
    "            # Constraint 10: Power generated by existing generators within the threshold\n",
    "            m.addConstr(Y[n,t] <= supply[n]*Cap_Threshold)\n",
    "            \n",
    "            # Constraint 11: Power generated by existing generators beyond the threshold\n",
    "            m.addConstr(E[n,t] <= O[n,t]*supply[n]*(1-Cap_Threshold))\n",
    "            \n",
    "        else: # n not in supply\n",
    "            # when N_G[n] == 0, it is a normal node, so Y[n,t] <= 0 * New_Capacity == 0, \n",
    "            # since Y[n,t] >= 0 by default, we get Y[n,t] == 0\n",
    "            # when N_G[n] == 1, it is a new generator, so Y[n,t] <= New_Capacity\n",
    "            # Constraint 4: Capacity of the gas generator if applicable at node n\n",
    "            m.addConstr(Y[n,t] <= N_G[n]*New_Capacity)\n",
    "            \n",
    "            # Constraint 5: Capacity of the gas generator if applicable in time period t\n",
    "            m.addConstr(Y[n,t] <= P[t] * New_Capacity)\n",
    "            \n",
    "            # Constraint 12: Threshold is not applicable to non-generator nodes\n",
    "            m.addConstr(O[n,t] == 0)\n",
    "            \n",
    "            # Constraint 13: Threshold is not applicable to non-generator nodes\n",
    "            m.addConstr(E[n,t] == 0)\n",
    "\n",
    "            \n",
    "m.addConstr(quicksum(I[a] for a in A) == Num_Inc_Lines)\n",
    "\n",
    "# Constraint 2: Total number of new gas generator(s)\n",
    "m.addConstr(quicksum(N_G[n] for n in N if n not in supply) == Num_New_Generator)\n",
    "\n",
    "# Constraint 6: Avioding building the gas generator at the declined node\n",
    "m.addConstr(N_G[Declined_node]==0)\n",
    "\n",
    "# Constraint 3: Total number of time periods which the gas generator it operated\n",
    "m.addConstr(quicksum(P[t] for t in T) == New_Periods)\n",
    "\n",
    "# Constraint 7: Total number of solar farm(s)\n",
    "m.addConstr(quicksum(S[n] for n in N) == Num_Solar_Farm)\n",
    "\n",
    "for n in N:\n",
    "    # Constraint 14: Number of time periods for which a node should reduce demand per day\n",
    "    m.addConstr(quicksum(R[n,t] for t in T) == Num_Reduce_Period)"
   ]
  },
  {
   "cell_type": "code",
   "execution_count": null,
   "metadata": {},
   "outputs": [],
   "source": [
    "m.setParam('MIPGap', 0)"
   ]
  },
  {
   "cell_type": "code",
   "execution_count": null,
   "metadata": {},
   "outputs": [],
   "source": [
    "m.optimize()\n"
   ]
  },
  {
   "cell_type": "code",
   "execution_count": null,
   "metadata": {},
   "outputs": [],
   "source": [
    "print(\"Minimum cost = $\",m.objVal)"
   ]
  },
  {
   "cell_type": "code",
   "execution_count": null,
   "metadata": {},
   "outputs": [],
   "source": [
    "# comm12 2781676.1179603594"
   ]
  },
  {
   "cell_type": "code",
   "execution_count": null,
   "metadata": {},
   "outputs": [],
   "source": []
  }
 ],
 "metadata": {
  "kernelspec": {
   "display_name": "Python 3",
   "language": "python",
   "name": "python3"
  },
  "language_info": {
   "codemirror_mode": {
    "name": "ipython",
    "version": 3
   },
   "file_extension": ".py",
   "mimetype": "text/x-python",
   "name": "python",
   "nbconvert_exporter": "python",
   "pygments_lexer": "ipython3",
   "version": "3.8.5"
  }
 },
 "nbformat": 4,
 "nbformat_minor": 5
}
